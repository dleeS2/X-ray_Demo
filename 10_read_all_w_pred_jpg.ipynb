{
 "cells": [
  {
   "cell_type": "markdown",
   "id": "9958f61d-335b-4c3c-a5a9-5b0274fe0677",
   "metadata": {},
   "source": [
    "# Pull Dicom Header, Original JPG, and Predicted JPG from SingleStore"
   ]
  },
  {
   "cell_type": "code",
   "execution_count": 1,
   "id": "5d41e87c-6a7b-422e-bd3c-a1d1ef291495",
   "metadata": {
    "tags": []
   },
   "outputs": [],
   "source": [
    "import IPython.display as display\n",
    "import ipywidgets as widgets\n",
    "import pymysql\n"
   ]
  },
  {
   "cell_type": "code",
   "execution_count": 2,
   "id": "8d0dd3fe-5677-4d8b-b8f8-33b350c36f6d",
   "metadata": {
    "tags": []
   },
   "outputs": [
    {
     "name": "stdout",
     "output_type": "stream",
     "text": [
      "8 images selected.\n",
      "\n",
      "Patient Id:  1440  Image ID:  0c803c4810a8c5ec362f5d4504489431  Image Path:  /home/ubuntu/vinbigdata/11DemoConversionToJPG/\n"
     ]
    },
    {
     "data": {
      "application/vnd.jupyter.widget-view+json": {
       "model_id": "0e1f5b00bd6f4c28bdb80333815c728b",
       "version_major": 2,
       "version_minor": 0
      },
      "text/plain": [
       "HBox(children=(Image(value=b'\\xff\\xd8\\xff\\xe0\\x00\\x10JFIF\\x00\\x01\\x01\\x00\\x00\\x01\\x00\\x01\\x00\\x00\\xff\\xdb\\x00C…"
      ]
     },
     "metadata": {},
     "output_type": "display_data"
    },
    {
     "name": "stdout",
     "output_type": "stream",
     "text": [
      "Patient Id:  1466  Image ID:  0c785dff51447d6e689e15dcfe10c8e2  Image Path:  /home/ubuntu/vinbigdata/11DemoConversionToJPG/\n"
     ]
    },
    {
     "data": {
      "application/vnd.jupyter.widget-view+json": {
       "model_id": "4841e6a39d474eeb8ee46034c365591f",
       "version_major": 2,
       "version_minor": 0
      },
      "text/plain": [
       "HBox(children=(Image(value=b'\\xff\\xd8\\xff\\xe0\\x00\\x10JFIF\\x00\\x01\\x01\\x00\\x00\\x01\\x00\\x01\\x00\\x00\\xff\\xdb\\x00C…"
      ]
     },
     "metadata": {},
     "output_type": "display_data"
    },
    {
     "name": "stdout",
     "output_type": "stream",
     "text": [
      "Patient Id:  3064  Image ID:  0168eb925aa6f28a78b16134792f5d0e  Image Path:  /home/ubuntu/vinbigdata/11DemoConversionToJPG/\n"
     ]
    },
    {
     "data": {
      "application/vnd.jupyter.widget-view+json": {
       "model_id": "51763a5d2b6c448999cd6057664d37dd",
       "version_major": 2,
       "version_minor": 0
      },
      "text/plain": [
       "HBox(children=(Image(value=b'\\xff\\xd8\\xff\\xe0\\x00\\x10JFIF\\x00\\x01\\x01\\x00\\x00\\x01\\x00\\x01\\x00\\x00\\xff\\xdb\\x00C…"
      ]
     },
     "metadata": {},
     "output_type": "display_data"
    },
    {
     "name": "stdout",
     "output_type": "stream",
     "text": [
      "Patient Id:  4043  Image ID:  0c84dad44979c3a7777a8f4f4d9f5f7a  Image Path:  /home/ubuntu/vinbigdata/11DemoConversionToJPG/\n"
     ]
    },
    {
     "data": {
      "application/vnd.jupyter.widget-view+json": {
       "model_id": "864bf51eb47b49cf86e65203f01f4737",
       "version_major": 2,
       "version_minor": 0
      },
      "text/plain": [
       "HBox(children=(Image(value=b'\\xff\\xd8\\xff\\xe0\\x00\\x10JFIF\\x00\\x01\\x01\\x00\\x00\\x01\\x00\\x01\\x00\\x00\\xff\\xdb\\x00C…"
      ]
     },
     "metadata": {},
     "output_type": "display_data"
    },
    {
     "name": "stdout",
     "output_type": "stream",
     "text": [
      "Patient Id:  4590  Image ID:  0c15e19c74ef8ddd9bed0a4fc7f4b5a8  Image Path:  /home/ubuntu/vinbigdata/11DemoConversionToJPG/\n"
     ]
    },
    {
     "data": {
      "application/vnd.jupyter.widget-view+json": {
       "model_id": "8a3db1d0d0124532bb74b30dc6206472",
       "version_major": 2,
       "version_minor": 0
      },
      "text/plain": [
       "HBox(children=(Image(value=b'\\xff\\xd8\\xff\\xe0\\x00\\x10JFIF\\x00\\x01\\x01\\x00\\x00\\x01\\x00\\x01\\x00\\x00\\xff\\xdb\\x00C…"
      ]
     },
     "metadata": {},
     "output_type": "display_data"
    },
    {
     "name": "stdout",
     "output_type": "stream",
     "text": [
      "Patient Id:  4817  Image ID:  0c6036df3708fe77c1c76498240d6774  Image Path:  /home/ubuntu/vinbigdata/11DemoConversionToJPG/\n"
     ]
    },
    {
     "data": {
      "application/vnd.jupyter.widget-view+json": {
       "model_id": "e2ecda6aebe8466597d6eeb099a71ea1",
       "version_major": 2,
       "version_minor": 0
      },
      "text/plain": [
       "HBox(children=(Image(value=b'\\xff\\xd8\\xff\\xe0\\x00\\x10JFIF\\x00\\x01\\x01\\x00\\x00\\x01\\x00\\x01\\x00\\x00\\xff\\xdb\\x00C…"
      ]
     },
     "metadata": {},
     "output_type": "display_data"
    },
    {
     "name": "stdout",
     "output_type": "stream",
     "text": [
      "Patient Id:  9163  Image ID:  0c6f7b76bcc012fc5a9af4470f735aba  Image Path:  /home/ubuntu/vinbigdata/11DemoConversionToJPG/\n"
     ]
    },
    {
     "data": {
      "application/vnd.jupyter.widget-view+json": {
       "model_id": "520b7984c0d345fa814991c85c137e0a",
       "version_major": 2,
       "version_minor": 0
      },
      "text/plain": [
       "HBox(children=(Image(value=b'\\xff\\xd8\\xff\\xe0\\x00\\x10JFIF\\x00\\x01\\x01\\x00\\x00\\x01\\x00\\x01\\x00\\x00\\xff\\xdb\\x00C…"
      ]
     },
     "metadata": {},
     "output_type": "display_data"
    },
    {
     "name": "stdout",
     "output_type": "stream",
     "text": [
      "Patient Id:  9795  Image ID:  043111cdad4d26204503d3396876046f  Image Path:  /home/ubuntu/vinbigdata/11DemoConversionToJPG/\n"
     ]
    },
    {
     "data": {
      "application/vnd.jupyter.widget-view+json": {
       "model_id": "1cf3cf60460d4b74b28c3c2fb9a43d2a",
       "version_major": 2,
       "version_minor": 0
      },
      "text/plain": [
       "HBox(children=(Image(value=b'\\xff\\xd8\\xff\\xe0\\x00\\x10JFIF\\x00\\x01\\x01\\x00\\x00\\x01\\x00\\x01\\x00\\x00\\xff\\xdb\\x00C…"
      ]
     },
     "metadata": {},
     "output_type": "display_data"
    },
    {
     "name": "stdout",
     "output_type": "stream",
     "text": [
      "CPU times: user 185 ms, sys: 10.4 ms, total: 195 ms\n",
      "Wall time: 193 ms\n"
     ]
    }
   ],
   "source": [
    "%%time\n",
    "\n",
    "# Connect to SingleStore\n",
    "\n",
    "s2conn = pymysql.connect(\n",
    "    user='root',\n",
    "    password='Sglstrpw34',\n",
    "    host='172.31.62.112',\n",
    "    port=3306,\n",
    "    database='Images')\n",
    "\n",
    "mycursor = s2conn.cursor()\n",
    "\n",
    "\n",
    "# Show all the images that have a prediction\n",
    "\n",
    "\n",
    "sql =  \"\"\"SELECT ih.PatientID, ih.file, i.ImagePath, i.Image, i.PredictionImage \n",
    "from PatientRecords.ImageHeader ih left join Images.JPGImages i on ih.file = i.file \n",
    "join (select file from PatientRecords.ImagesTestFiles) itf on ih.file = itf.file\n",
    "where EXISTS (select * from PatientRecords.ImagePredictions ip where ip.file = ih.file) order by ih.PatientID, ih.file\"\"\"\n",
    "\n",
    "mycursor.execute(sql)\n",
    "print(mycursor.rowcount, \"images selected.\\n\")\n",
    "\n",
    "record = mycursor.fetchall()\n",
    "for row in record:\n",
    "    print(\"Patient Id: \", row[0], \" Image ID: \", row[1], \" Image Path: \", row[2])\n",
    "    image = widgets.Image(value=row[3], format='jpg', width=384, height=480)\n",
    "    PredictionImage = widgets.Image(value=row[4], format='jpg', width=384, height=480)\n",
    "       \n",
    "    a=[image,PredictionImage]\n",
    "    wid=widgets.HBox(a)\n",
    "    display.display(wid)\n",
    "\n",
    "mycursor.close()\n",
    "s2conn.close()"
   ]
  },
  {
   "cell_type": "code",
   "execution_count": null,
   "id": "3fa15c40-3704-4083-8504-f5471beda396",
   "metadata": {},
   "outputs": [],
   "source": []
  }
 ],
 "metadata": {
  "kernelspec": {
   "display_name": "Environment (conda_pytorch_p37)",
   "language": "python",
   "name": "conda_pytorch_p37"
  },
  "language_info": {
   "codemirror_mode": {
    "name": "ipython",
    "version": 3
   },
   "file_extension": ".py",
   "mimetype": "text/x-python",
   "name": "python",
   "nbconvert_exporter": "python",
   "pygments_lexer": "ipython3",
   "version": "3.7.10"
  }
 },
 "nbformat": 4,
 "nbformat_minor": 5
}
