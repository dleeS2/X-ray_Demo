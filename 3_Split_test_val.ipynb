{
 "cells": [
  {
   "cell_type": "code",
   "execution_count": 1,
   "id": "3851af68-b22b-4b8c-b1d9-5c2ff7c60c6d",
   "metadata": {},
   "outputs": [],
   "source": [
    "import os\n",
    "import shutil\n",
    "import glob\n",
    "import random"
   ]
  },
  {
   "cell_type": "code",
   "execution_count": 2,
   "id": "9aa74de2-0d22-4ac6-9bce-9f58716da22d",
   "metadata": {},
   "outputs": [],
   "source": [
    "val_split_jpg = random.sample(glob.glob('/home/ubuntu/vinbigdata/jpg_test/*.jpg'), 180)\n",
    "test_split_jpg = glob.glob('/home/ubuntu/vinbigdata/jpg_test/*.jpg')"
   ]
  },
  {
   "cell_type": "code",
   "execution_count": 3,
   "id": "d75ce96d-f984-4f1f-b97d-dbddeee5855d",
   "metadata": {},
   "outputs": [
    {
     "data": {
      "text/plain": [
       "['/home/ubuntu/vinbigdata/jpg_test/b31896c53faf22384b2ec503b2657139.jpg',\n",
       " '/home/ubuntu/vinbigdata/jpg_test/7d9e13dac6ed48dbd0577c3c65b214eb.jpg',\n",
       " '/home/ubuntu/vinbigdata/jpg_test/467fb10d9fb7d7816e9086fec5aa86f6.jpg',\n",
       " '/home/ubuntu/vinbigdata/jpg_test/19e0d6ab0dc61189088d0e149c5871ac.jpg',\n",
       " '/home/ubuntu/vinbigdata/jpg_test/eb804a78e42ccd5e66d8fdc644dd0680.jpg',\n",
       " '/home/ubuntu/vinbigdata/jpg_test/e77218455b3b041a85732d4718eab319.jpg',\n",
       " '/home/ubuntu/vinbigdata/jpg_test/d284e83f3baf1f572284e30999dc013c.jpg',\n",
       " '/home/ubuntu/vinbigdata/jpg_test/c5275940f8aaa064bf37cbfcac5d3890.jpg',\n",
       " '/home/ubuntu/vinbigdata/jpg_test/fdd95f330fd8f4f38dd7a2ba61efc281.jpg',\n",
       " '/home/ubuntu/vinbigdata/jpg_test/3ea9f49ba17cbf6865a29bcb8d01b3b6.jpg',\n",
       " '/home/ubuntu/vinbigdata/jpg_test/1417df96cf0ef3878d5be9cbf5b03b0b.jpg',\n",
       " '/home/ubuntu/vinbigdata/jpg_test/0c0b8e98262a662c362929aa60e6bed9.jpg',\n",
       " '/home/ubuntu/vinbigdata/jpg_test/871e8ae9dc52f1fd45a7cd3068c71d2e.jpg',\n",
       " '/home/ubuntu/vinbigdata/jpg_test/e3b71794633b8844194487201eaf52a9.jpg',\n",
       " '/home/ubuntu/vinbigdata/jpg_test/a4284b7a3ea82f02a8a84f3a61633ba1.jpg',\n",
       " '/home/ubuntu/vinbigdata/jpg_test/e06a136bef44d96402a353c3073f65e5.jpg',\n",
       " '/home/ubuntu/vinbigdata/jpg_test/efbe54fcf4bdab5041ecdf15af5fcd52.jpg',\n",
       " '/home/ubuntu/vinbigdata/jpg_test/6db59ec25f0f8ab882e5ce79b1688aed.jpg',\n",
       " '/home/ubuntu/vinbigdata/jpg_test/83c6b5dc4e05ffc8df10c81110c43e24.jpg',\n",
       " '/home/ubuntu/vinbigdata/jpg_test/eaecec30b1751a3cb6d2532a288dfe7e.jpg',\n",
       " '/home/ubuntu/vinbigdata/jpg_test/ab0272eeb4b1d71bb816b39fb872f817.jpg',\n",
       " '/home/ubuntu/vinbigdata/jpg_test/9ffc8ca8d76cfe864a79da8bafbd9342.jpg',\n",
       " '/home/ubuntu/vinbigdata/jpg_test/4bc559f97e1d3c8c2ee52deef7de8811.jpg',\n",
       " '/home/ubuntu/vinbigdata/jpg_test/d3f880d5db30b4178dd5ab083156c67a.jpg',\n",
       " '/home/ubuntu/vinbigdata/jpg_test/76cee2dfef93ddd6caaa04a93ce1ea01.jpg',\n",
       " '/home/ubuntu/vinbigdata/jpg_test/b0119d70ae6410b497a0f2a74225ea9e.jpg',\n",
       " '/home/ubuntu/vinbigdata/jpg_test/9fd7502c56c4c91aa88f6442d3ccb567.jpg',\n",
       " '/home/ubuntu/vinbigdata/jpg_test/8fc78cbddaaed14a33267a0b3e4094e3.jpg',\n",
       " '/home/ubuntu/vinbigdata/jpg_test/509b0a6e32afb4094897a916b3c72486.jpg',\n",
       " '/home/ubuntu/vinbigdata/jpg_test/b95f1cf07f0b4aa8a18d890b1712223e.jpg',\n",
       " '/home/ubuntu/vinbigdata/jpg_test/87aa2198c942403312bb79486a068fec.jpg',\n",
       " '/home/ubuntu/vinbigdata/jpg_test/28290df9749ce386affc87de6b7c3a49.jpg',\n",
       " '/home/ubuntu/vinbigdata/jpg_test/3d281a2a2c78f8e0713166ed125a183a.jpg',\n",
       " '/home/ubuntu/vinbigdata/jpg_test/d1852a0901c72a80c92083d82d764466.jpg',\n",
       " '/home/ubuntu/vinbigdata/jpg_test/28e90b2f52b47a0b0398cd6e47abaa0b.jpg',\n",
       " '/home/ubuntu/vinbigdata/jpg_test/80f3da71b6af9134388dee22f0d386d9.jpg',\n",
       " '/home/ubuntu/vinbigdata/jpg_test/6b6a6751b4156410868de79d1a6ca72a.jpg',\n",
       " '/home/ubuntu/vinbigdata/jpg_test/0e2a6f637bc997be18ec30687bdc3762.jpg',\n",
       " '/home/ubuntu/vinbigdata/jpg_test/8a21e0bb68cd729b2108a80faf955b7d.jpg',\n",
       " '/home/ubuntu/vinbigdata/jpg_test/c98c588c3c92079057ce4aac44fe5cfa.jpg',\n",
       " '/home/ubuntu/vinbigdata/jpg_test/69cab0314beaa8eefe2f3b4d316b2642.jpg',\n",
       " '/home/ubuntu/vinbigdata/jpg_test/926f386ea35e891d7bfbcf9cab111866.jpg',\n",
       " '/home/ubuntu/vinbigdata/jpg_test/af42eedb38176dadaa09bfccbe65e16a.jpg',\n",
       " '/home/ubuntu/vinbigdata/jpg_test/45ffdfc3462f0377ee35ef05e9bf2b9d.jpg',\n",
       " '/home/ubuntu/vinbigdata/jpg_test/da090966e9bb8387c3992b2ef31d4423.jpg',\n",
       " '/home/ubuntu/vinbigdata/jpg_test/f76c63188029651973219b355e31fa33.jpg',\n",
       " '/home/ubuntu/vinbigdata/jpg_test/e7bcf671b3a76fc9b0ba29727f3a7a5c.jpg',\n",
       " '/home/ubuntu/vinbigdata/jpg_test/d49b0726f2ed9bc21fc5e7beeca51013.jpg',\n",
       " '/home/ubuntu/vinbigdata/jpg_test/9055b296acf42185d29edd60dfdc6c50.jpg',\n",
       " '/home/ubuntu/vinbigdata/jpg_test/fa4aa1bac27679cc1aeafa437ee00030.jpg',\n",
       " '/home/ubuntu/vinbigdata/jpg_test/bf8d52c878563a85c0a07857bfba0d58.jpg',\n",
       " '/home/ubuntu/vinbigdata/jpg_test/785140281117595d1818b8133d43d3bc.jpg',\n",
       " '/home/ubuntu/vinbigdata/jpg_test/39d9ea42feb3af75ef0ea3dd91e7e1f5.jpg',\n",
       " '/home/ubuntu/vinbigdata/jpg_test/cc5503112f1ca892fee7fb0d1002a6f9.jpg',\n",
       " '/home/ubuntu/vinbigdata/jpg_test/793aa89237cb495f1b83dcc5a1434934.jpg',\n",
       " '/home/ubuntu/vinbigdata/jpg_test/dd7e2b3e4d751779e5a5f61e827f6f7b.jpg',\n",
       " '/home/ubuntu/vinbigdata/jpg_test/b8f93143f14cf418de65d17783e1beff.jpg',\n",
       " '/home/ubuntu/vinbigdata/jpg_test/d05829a2a79ab20326e3ddcd339a8baf.jpg',\n",
       " '/home/ubuntu/vinbigdata/jpg_test/c71ec718a548aec5a16ff655d9bf9a04.jpg',\n",
       " '/home/ubuntu/vinbigdata/jpg_test/e10a0d5156ca34ee9ffcb99a5bd8ffb5.jpg',\n",
       " '/home/ubuntu/vinbigdata/jpg_test/dce261d70de131c9bad1229edcca61bf.jpg',\n",
       " '/home/ubuntu/vinbigdata/jpg_test/7441457f4e2b2eba4682470448f256c1.jpg',\n",
       " '/home/ubuntu/vinbigdata/jpg_test/fb36e668ed268bf65084fe3d1ff7a21f.jpg',\n",
       " '/home/ubuntu/vinbigdata/jpg_test/bfae73fca53a1656750ea6499bd98167.jpg',\n",
       " '/home/ubuntu/vinbigdata/jpg_test/ea9601272370ee3c0b1e0b4b4bc5a2ae.jpg',\n",
       " '/home/ubuntu/vinbigdata/jpg_test/b8e2cb8633a5299a8dec2087ad3e997e.jpg',\n",
       " '/home/ubuntu/vinbigdata/jpg_test/92a7c4fdc48bc4b5567b292cb57a201d.jpg',\n",
       " '/home/ubuntu/vinbigdata/jpg_test/44e38e19f2d5fa89ebc805b4e4249f4a.jpg',\n",
       " '/home/ubuntu/vinbigdata/jpg_test/7db8d2571612fa51c3fea231524803cc.jpg',\n",
       " '/home/ubuntu/vinbigdata/jpg_test/9d24b6b093579f86101c4760c7808986.jpg',\n",
       " '/home/ubuntu/vinbigdata/jpg_test/77cfb1fd56137f340eccb2154c5b219c.jpg',\n",
       " '/home/ubuntu/vinbigdata/jpg_test/a861ebc33e21bf2a73d3e9b8cccbf526.jpg',\n",
       " '/home/ubuntu/vinbigdata/jpg_test/ad64176ee6a7c2be0275dca89c1087b8.jpg',\n",
       " '/home/ubuntu/vinbigdata/jpg_test/e52b5e6afc1c45823626dfc0b0c07a8c.jpg',\n",
       " '/home/ubuntu/vinbigdata/jpg_test/fe619a02b19b72ad527dc3e8642f4afd.jpg',\n",
       " '/home/ubuntu/vinbigdata/jpg_test/5d29e7137d24e923a347d54eb81eefcd.jpg',\n",
       " '/home/ubuntu/vinbigdata/jpg_test/f6ed82702d0d0c10a5e4091142c2d484.jpg',\n",
       " '/home/ubuntu/vinbigdata/jpg_test/8d92d5da9bcba061cf36ee0a6c4d5d45.jpg',\n",
       " '/home/ubuntu/vinbigdata/jpg_test/45d1c2d9c830ed7a526cdad0d908397a.jpg',\n",
       " '/home/ubuntu/vinbigdata/jpg_test/0e48bfb79ac12bbcce9b66cc9f14544c.jpg',\n",
       " '/home/ubuntu/vinbigdata/jpg_test/bce6bcf6038371280f01a046751af32c.jpg',\n",
       " '/home/ubuntu/vinbigdata/jpg_test/e4c50af34882d9a1c5631007c1d2e05d.jpg',\n",
       " '/home/ubuntu/vinbigdata/jpg_test/0c5bc5fdf756d1251e431c9281349376.jpg',\n",
       " '/home/ubuntu/vinbigdata/jpg_test/4336126559df623f417e0cce8658d834.jpg',\n",
       " '/home/ubuntu/vinbigdata/jpg_test/e8bffa66025df05ffe10232af1046542.jpg',\n",
       " '/home/ubuntu/vinbigdata/jpg_test/04669ec4821d2dde14eb2f9a3f47eb7e.jpg',\n",
       " '/home/ubuntu/vinbigdata/jpg_test/fd2e07088ff35c77448f636ad1816039.jpg',\n",
       " '/home/ubuntu/vinbigdata/jpg_test/53f6b9d988c8195673ea55343c046187.jpg',\n",
       " '/home/ubuntu/vinbigdata/jpg_test/46f349b7cabf56c2c2d9c1d069f8c564.jpg',\n",
       " '/home/ubuntu/vinbigdata/jpg_test/03f4ef7ff19190f220b13c0059ac506b.jpg',\n",
       " '/home/ubuntu/vinbigdata/jpg_test/49381febdd648ccc7a190965fe5180bd.jpg',\n",
       " '/home/ubuntu/vinbigdata/jpg_test/69aae4076223158f2e0cfe8f6f74ce68.jpg',\n",
       " '/home/ubuntu/vinbigdata/jpg_test/ea61778151fddab8cb09907266663307.jpg',\n",
       " '/home/ubuntu/vinbigdata/jpg_test/3ffc3654b8342c68038a2249787f87e9.jpg',\n",
       " '/home/ubuntu/vinbigdata/jpg_test/e1d40460f86f7b92f033b08d04b4ea6a.jpg',\n",
       " '/home/ubuntu/vinbigdata/jpg_test/2ba6db6ed664e2aacd6e274edb609ec1.jpg',\n",
       " '/home/ubuntu/vinbigdata/jpg_test/3075e85dda12262bc9e34a5bd518d226.jpg',\n",
       " '/home/ubuntu/vinbigdata/jpg_test/230d775afe6d5f2f23515152d2a030d3.jpg',\n",
       " '/home/ubuntu/vinbigdata/jpg_test/665c4a6d2693dc0286d65ab479c9b169.jpg',\n",
       " '/home/ubuntu/vinbigdata/jpg_test/aab1d5f56900ecdddc2687176293ee8d.jpg',\n",
       " '/home/ubuntu/vinbigdata/jpg_test/945654132299ed39a4001917a63442b5.jpg',\n",
       " '/home/ubuntu/vinbigdata/jpg_test/cb818f1c6930fae5045710b2f8f9647c.jpg',\n",
       " '/home/ubuntu/vinbigdata/jpg_test/69f8a7c2bc453e0c3c71442dd0c46d91.jpg',\n",
       " '/home/ubuntu/vinbigdata/jpg_test/a450a8bf5b6f81cdc6111bc26d512856.jpg',\n",
       " '/home/ubuntu/vinbigdata/jpg_test/2bcbfb940309bc9a3d7cce3378cc877c.jpg',\n",
       " '/home/ubuntu/vinbigdata/jpg_test/3b55e52750fa2737857d05526f196b18.jpg',\n",
       " '/home/ubuntu/vinbigdata/jpg_test/7c010308edc7a272bb8c67dc6024d989.jpg',\n",
       " '/home/ubuntu/vinbigdata/jpg_test/6ce444e8adaafc7d20422f662b9ef160.jpg',\n",
       " '/home/ubuntu/vinbigdata/jpg_test/3a515d9ba5419a9f35dc382017d5e98e.jpg',\n",
       " '/home/ubuntu/vinbigdata/jpg_test/342ac977b5591f53b37f9fcce27bfa2c.jpg',\n",
       " '/home/ubuntu/vinbigdata/jpg_test/5ba94d99f827e546b59846aa66eea08c.jpg',\n",
       " '/home/ubuntu/vinbigdata/jpg_test/42866ae76e629e8a612a5898ad377afb.jpg',\n",
       " '/home/ubuntu/vinbigdata/jpg_test/4988a69766a1c59921d0b747dab42457.jpg',\n",
       " '/home/ubuntu/vinbigdata/jpg_test/50ab53e4414b6551c81b447fee0e43c5.jpg',\n",
       " '/home/ubuntu/vinbigdata/jpg_test/97e250bb4422a40cac4d09f33b1abbd9.jpg',\n",
       " '/home/ubuntu/vinbigdata/jpg_test/c93f821385bd67adda8a84155a5560e9.jpg',\n",
       " '/home/ubuntu/vinbigdata/jpg_test/c67911931c2b1daf694d97eb139a9807.jpg',\n",
       " '/home/ubuntu/vinbigdata/jpg_test/0cc5600e54fe599fefce87de375268e3.jpg',\n",
       " '/home/ubuntu/vinbigdata/jpg_test/29d5ed367182f9edefd323fc97f0edd6.jpg',\n",
       " '/home/ubuntu/vinbigdata/jpg_test/6786d1115f8dd6a72aaf6484ebfcc7aa.jpg',\n",
       " '/home/ubuntu/vinbigdata/jpg_test/b7806ab0cae2d0a9e40e009a354e4712.jpg',\n",
       " '/home/ubuntu/vinbigdata/jpg_test/8bfad13f75648d94cdc8fc5f988f701f.jpg',\n",
       " '/home/ubuntu/vinbigdata/jpg_test/069198879ff8140bab6c47c58242a0a4.jpg',\n",
       " '/home/ubuntu/vinbigdata/jpg_test/f2f0b6c373587033789cbae6a918d847.jpg',\n",
       " '/home/ubuntu/vinbigdata/jpg_test/9d6140d62003cb479bbc439c160b2abc.jpg',\n",
       " '/home/ubuntu/vinbigdata/jpg_test/f3a7ef6a3a8ca6ba35f19fdd3773912a.jpg',\n",
       " '/home/ubuntu/vinbigdata/jpg_test/b6cd281d9e2086509d4aff85866aa1dc.jpg',\n",
       " '/home/ubuntu/vinbigdata/jpg_test/ab98dfb77bbb5deff60345b5b4111666.jpg',\n",
       " '/home/ubuntu/vinbigdata/jpg_test/8bb8636f45e172949bb99b3d5dd715fd.jpg',\n",
       " '/home/ubuntu/vinbigdata/jpg_test/fe07298fa1a9109de51c57e56a202df3.jpg',\n",
       " '/home/ubuntu/vinbigdata/jpg_test/88c170fc29bb285ec48a809de2d206cd.jpg',\n",
       " '/home/ubuntu/vinbigdata/jpg_test/53675dd5b4676fb96d77abf225209f41.jpg',\n",
       " '/home/ubuntu/vinbigdata/jpg_test/ce0b406c318471eb14c98f9acb081955.jpg',\n",
       " '/home/ubuntu/vinbigdata/jpg_test/8c7341b62afed8980c0cfa1659909be3.jpg',\n",
       " '/home/ubuntu/vinbigdata/jpg_test/46670a547d530e18e32a16c6a2d3ce23.jpg',\n",
       " '/home/ubuntu/vinbigdata/jpg_test/787506d2456ea43f00689850f3a4e797.jpg',\n",
       " '/home/ubuntu/vinbigdata/jpg_test/73dba107969801cde6ff7bfe518274b2.jpg',\n",
       " '/home/ubuntu/vinbigdata/jpg_test/71c27a4f0124bfee54339b40ee4164cc.jpg',\n",
       " '/home/ubuntu/vinbigdata/jpg_test/2562f346ed3db617c6cf209d6fbfd384.jpg',\n",
       " '/home/ubuntu/vinbigdata/jpg_test/96d1504f104b0b4ad88de4a50d413197.jpg',\n",
       " '/home/ubuntu/vinbigdata/jpg_test/fd1952a0bbb148711493e3fd73ba1160.jpg',\n",
       " '/home/ubuntu/vinbigdata/jpg_test/0e7c94db444735ae4b8dfc72ae62ff3e.jpg',\n",
       " '/home/ubuntu/vinbigdata/jpg_test/d2f3d507053aedba58e585522d42fe7c.jpg',\n",
       " '/home/ubuntu/vinbigdata/jpg_test/6ddb758545f7aa226b736fa869cfb946.jpg',\n",
       " '/home/ubuntu/vinbigdata/jpg_test/af72268c7cc92691f6f095ad6ba5af60.jpg',\n",
       " '/home/ubuntu/vinbigdata/jpg_test/54a6bb5b22305b51f9a17728202d1180.jpg',\n",
       " '/home/ubuntu/vinbigdata/jpg_test/0aa43b52e98700f8696bf36c10a76cea.jpg',\n",
       " '/home/ubuntu/vinbigdata/jpg_test/e4f0bab50765cafa3feb728cfbb210b3.jpg',\n",
       " '/home/ubuntu/vinbigdata/jpg_test/a18bff6167ed3c03d4135439c2fa4242.jpg',\n",
       " '/home/ubuntu/vinbigdata/jpg_test/fd332164e7924efb4e11f3186bc8fa4d.jpg',\n",
       " '/home/ubuntu/vinbigdata/jpg_test/a04f8ce606d065b30adcd26b231e7ff2.jpg',\n",
       " '/home/ubuntu/vinbigdata/jpg_test/658f4a76ab0e81e31d37f12c8c661b3c.jpg',\n",
       " '/home/ubuntu/vinbigdata/jpg_test/bac58dc3a82b5a3d1f1affc2e9a5d6cf.jpg',\n",
       " '/home/ubuntu/vinbigdata/jpg_test/ea1d58be10d8b14394ad4147c5fbb60e.jpg',\n",
       " '/home/ubuntu/vinbigdata/jpg_test/3b68bc60f5353a7f3a8c30a99ed5cc3f.jpg',\n",
       " '/home/ubuntu/vinbigdata/jpg_test/6cbf4295b5b72bc01ef6fd171ef7733e.jpg',\n",
       " '/home/ubuntu/vinbigdata/jpg_test/f2e14d97296090e665581a5822208ba2.jpg',\n",
       " '/home/ubuntu/vinbigdata/jpg_test/6e7d4b9cf93fee47afe3c299da9cd589.jpg',\n",
       " '/home/ubuntu/vinbigdata/jpg_test/78dd6b0489bee998af8fb581871942f4.jpg',\n",
       " '/home/ubuntu/vinbigdata/jpg_test/2aa621807bfa78b2fc36c1ca34962f1c.jpg',\n",
       " '/home/ubuntu/vinbigdata/jpg_test/c76cc6842dd21b058883c74433af4df7.jpg',\n",
       " '/home/ubuntu/vinbigdata/jpg_test/da7cdc23c69b13c2677e7bf8de1a06e7.jpg',\n",
       " '/home/ubuntu/vinbigdata/jpg_test/5559843d1f057bcaa0d9b5d56a9a3d46.jpg',\n",
       " '/home/ubuntu/vinbigdata/jpg_test/ae5448304e886b7dee7e095e5bcf66f4.jpg',\n",
       " '/home/ubuntu/vinbigdata/jpg_test/69454c090ae1d9ff81da56af7c2d27b8.jpg',\n",
       " '/home/ubuntu/vinbigdata/jpg_test/f8959ec07e6b04f0e422f2a8fb18e074.jpg',\n",
       " '/home/ubuntu/vinbigdata/jpg_test/ca9717cffb655619ea3449fffabd024e.jpg',\n",
       " '/home/ubuntu/vinbigdata/jpg_test/57b473e8eaf284e0d3321d9def714930.jpg',\n",
       " '/home/ubuntu/vinbigdata/jpg_test/034b98d64dc012298afb3d33fe880193.jpg',\n",
       " '/home/ubuntu/vinbigdata/jpg_test/d922cc7124ae504b4e53b8d016c25cca.jpg',\n",
       " '/home/ubuntu/vinbigdata/jpg_test/0c785dff51447d6e689e15dcfe10c8e2.jpg',\n",
       " '/home/ubuntu/vinbigdata/jpg_test/40fb4c33b5cd086ae3eb5a38a6079fa2.jpg',\n",
       " '/home/ubuntu/vinbigdata/jpg_test/4a78111ddffd59513a73874c9978b3c2.jpg',\n",
       " '/home/ubuntu/vinbigdata/jpg_test/5e65e6bc517da1f30cb5ce0ce367efd6.jpg',\n",
       " '/home/ubuntu/vinbigdata/jpg_test/2aa1314e73226a5551d4e27f4925c967.jpg',\n",
       " '/home/ubuntu/vinbigdata/jpg_test/3f311e13697f83d41f55f079232fe7ee.jpg',\n",
       " '/home/ubuntu/vinbigdata/jpg_test/4b4d890639634f5cc8aaefc9fed962ca.jpg',\n",
       " '/home/ubuntu/vinbigdata/jpg_test/7e090684cddb682dd8d56ad47b20a89d.jpg',\n",
       " '/home/ubuntu/vinbigdata/jpg_test/878e449975ff3b3fe915c976e7b8349e.jpg',\n",
       " '/home/ubuntu/vinbigdata/jpg_test/9fda60640538c98e371a780e76b8a934.jpg']"
      ]
     },
     "execution_count": 3,
     "metadata": {},
     "output_type": "execute_result"
    }
   ],
   "source": [
    "val_split_jpg"
   ]
  },
  {
   "cell_type": "code",
   "execution_count": 4,
   "id": "f78a25b0-dc62-45f0-9df8-4a6e5536debd",
   "metadata": {},
   "outputs": [
    {
     "data": {
      "text/plain": [
       "180"
      ]
     },
     "execution_count": 4,
     "metadata": {},
     "output_type": "execute_result"
    }
   ],
   "source": [
    "len(val_split_jpg)"
   ]
  },
  {
   "cell_type": "code",
   "execution_count": 5,
   "id": "5f73a1c8-6249-4a59-8b4b-655a2212fd25",
   "metadata": {},
   "outputs": [
    {
     "data": {
      "text/plain": [
       "3000"
      ]
     },
     "execution_count": 5,
     "metadata": {},
     "output_type": "execute_result"
    }
   ],
   "source": [
    "len(test_split_jpg)"
   ]
  },
  {
   "cell_type": "code",
   "execution_count": 7,
   "id": "a8762953-de94-49f9-abd3-3385d7f1f09e",
   "metadata": {},
   "outputs": [
    {
     "data": {
      "text/plain": [
       "[None,\n",
       " None,\n",
       " None,\n",
       " None,\n",
       " None,\n",
       " None,\n",
       " None,\n",
       " None,\n",
       " None,\n",
       " None,\n",
       " None,\n",
       " None,\n",
       " None,\n",
       " None,\n",
       " None,\n",
       " None,\n",
       " None,\n",
       " None,\n",
       " None,\n",
       " None,\n",
       " None,\n",
       " None,\n",
       " None,\n",
       " None,\n",
       " None,\n",
       " None,\n",
       " None,\n",
       " None,\n",
       " None,\n",
       " None,\n",
       " None,\n",
       " None,\n",
       " None,\n",
       " None,\n",
       " None,\n",
       " None,\n",
       " None,\n",
       " None,\n",
       " None,\n",
       " None,\n",
       " None,\n",
       " None,\n",
       " None,\n",
       " None,\n",
       " None,\n",
       " None,\n",
       " None,\n",
       " None,\n",
       " None,\n",
       " None,\n",
       " None,\n",
       " None,\n",
       " None,\n",
       " None,\n",
       " None,\n",
       " None,\n",
       " None,\n",
       " None,\n",
       " None,\n",
       " None,\n",
       " None,\n",
       " None,\n",
       " None,\n",
       " None,\n",
       " None,\n",
       " None,\n",
       " None,\n",
       " None,\n",
       " None,\n",
       " None,\n",
       " None,\n",
       " None,\n",
       " None,\n",
       " None,\n",
       " None,\n",
       " None,\n",
       " None,\n",
       " None,\n",
       " None,\n",
       " None,\n",
       " None,\n",
       " None,\n",
       " None,\n",
       " None,\n",
       " None,\n",
       " None,\n",
       " None,\n",
       " None,\n",
       " None,\n",
       " None,\n",
       " None,\n",
       " None,\n",
       " None,\n",
       " None,\n",
       " None,\n",
       " None,\n",
       " None,\n",
       " None,\n",
       " None,\n",
       " None,\n",
       " None,\n",
       " None,\n",
       " None,\n",
       " None,\n",
       " None,\n",
       " None,\n",
       " None,\n",
       " None,\n",
       " None,\n",
       " None,\n",
       " None,\n",
       " None,\n",
       " None,\n",
       " None,\n",
       " None,\n",
       " None,\n",
       " None,\n",
       " None,\n",
       " None,\n",
       " None,\n",
       " None,\n",
       " None,\n",
       " None,\n",
       " None,\n",
       " None,\n",
       " None,\n",
       " None,\n",
       " None,\n",
       " None,\n",
       " None,\n",
       " None,\n",
       " None,\n",
       " None,\n",
       " None,\n",
       " None,\n",
       " None,\n",
       " None,\n",
       " None,\n",
       " None,\n",
       " None,\n",
       " None,\n",
       " None,\n",
       " None,\n",
       " None,\n",
       " None,\n",
       " None,\n",
       " None,\n",
       " None,\n",
       " None,\n",
       " None,\n",
       " None,\n",
       " None,\n",
       " None,\n",
       " None,\n",
       " None,\n",
       " None,\n",
       " None,\n",
       " None,\n",
       " None,\n",
       " None,\n",
       " None,\n",
       " None,\n",
       " None,\n",
       " None,\n",
       " None,\n",
       " None,\n",
       " None,\n",
       " None,\n",
       " None,\n",
       " None,\n",
       " None,\n",
       " None,\n",
       " None,\n",
       " None,\n",
       " None,\n",
       " None,\n",
       " None,\n",
       " None,\n",
       " None,\n",
       " None]"
      ]
     },
     "execution_count": 7,
     "metadata": {},
     "output_type": "execute_result"
    }
   ],
   "source": [
    "[test_split_jpg.remove(file) for file in val_split_jpg]\n"
   ]
  },
  {
   "cell_type": "code",
   "execution_count": 9,
   "id": "6ddbd61e-e559-4087-bffc-42cf03d0ba90",
   "metadata": {},
   "outputs": [
    {
     "data": {
      "text/plain": [
       "2820"
      ]
     },
     "execution_count": 9,
     "metadata": {},
     "output_type": "execute_result"
    }
   ],
   "source": [
    "len(test_split_jpg)"
   ]
  },
  {
   "cell_type": "code",
   "execution_count": 10,
   "id": "6f2c7376-5be1-45cc-b125-4a957aae1967",
   "metadata": {},
   "outputs": [
    {
     "data": {
      "text/plain": [
       "180"
      ]
     },
     "execution_count": 10,
     "metadata": {},
     "output_type": "execute_result"
    }
   ],
   "source": [
    "len(val_split_jpg)"
   ]
  },
  {
   "cell_type": "code",
   "execution_count": 11,
   "id": "22922d31-f6fb-4cbe-8db3-98d1fdb037b9",
   "metadata": {},
   "outputs": [
    {
     "data": {
      "text/plain": [
       "'/home/ubuntu/vinbigdata/jpg_test/0e8d4e702da9eefdbb2696a98006ec55.jpg'"
      ]
     },
     "execution_count": 11,
     "metadata": {},
     "output_type": "execute_result"
    }
   ],
   "source": [
    "test_split_jpg[1]"
   ]
  },
  {
   "cell_type": "code",
   "execution_count": 13,
   "id": "4326b57a-daf4-48ed-b71c-937b6fc9d70d",
   "metadata": {},
   "outputs": [],
   "source": [
    "for file in val_split_jpg:\n",
    "    if file in test_split_jpg:\n",
    "        print(file)"
   ]
  },
  {
   "cell_type": "code",
   "execution_count": 14,
   "id": "543707f5-14e7-47c4-887a-62a4e35b68b4",
   "metadata": {},
   "outputs": [
    {
     "data": {
      "text/plain": [
       "'/home/ubuntu/vinbigdata/jpg_test/7d9e13dac6ed48dbd0577c3c65b214eb.jpg'"
      ]
     },
     "execution_count": 14,
     "metadata": {},
     "output_type": "execute_result"
    }
   ],
   "source": [
    "val_split_jpg[1]"
   ]
  },
  {
   "cell_type": "code",
   "execution_count": null,
   "id": "4ae5726e-5f58-464f-acf9-7877f3792e5c",
   "metadata": {},
   "outputs": [],
   "source": []
  },
  {
   "cell_type": "code",
   "execution_count": 16,
   "id": "0547ca6d-1316-431d-a23b-37f5bb731596",
   "metadata": {},
   "outputs": [],
   "source": [
    "# for file in enumerate(val_split_jpg, 1):\n",
    "#     dest = os.path.join('jpg_test_to_test_val/val_jpg_split')\n",
    "#     if not os.path.exists(dest):\n",
    "#         os.makedirs(dest)\n",
    "#     shutil.copy(file[1], dest)"
   ]
  },
  {
   "cell_type": "code",
   "execution_count": 17,
   "id": "57c19a9f-df9c-405a-ad49-5133b3947615",
   "metadata": {},
   "outputs": [],
   "source": [
    "# for file in enumerate(test_split_jpg, 1):\n",
    "#     dest = os.path.join('jpg_test_to_test_val/test_jpg_split')\n",
    "#     if not os.path.exists(dest):\n",
    "#         os.makedirs(dest)\n",
    "#     shutil.copy(file[1], dest)"
   ]
  },
  {
   "cell_type": "code",
   "execution_count": 19,
   "id": "95578cf3-8081-4f2d-86ae-934f65183e55",
   "metadata": {},
   "outputs": [
    {
     "name": "stdout",
     "output_type": "stream",
     "text": [
      "/bin/bash: switchml: line 1: syntax error: unexpected end of file\n",
      "/bin/bash: error importing function definition for `switchml'\n",
      "/bin/bash: _moduleraw: line 1: syntax error: unexpected end of file\n",
      "/bin/bash: error importing function definition for `_moduleraw'\n",
      "/home/ubuntu/vinbigdata\n"
     ]
    }
   ],
   "source": [
    "!pwd"
   ]
  },
  {
   "cell_type": "code",
   "execution_count": 21,
   "id": "b2d9617e-08c0-43e6-9666-f437bce3f804",
   "metadata": {},
   "outputs": [
    {
     "name": "stdout",
     "output_type": "stream",
     "text": [
      "/bin/bash: switchml: line 1: syntax error: unexpected end of file\n",
      "/bin/bash: error importing function definition for `switchml'\n",
      "/bin/bash: _moduleraw: line 1: syntax error: unexpected end of file\n",
      "/bin/bash: error importing function definition for `_moduleraw'\n"
     ]
    }
   ],
   "source": [
    "\n"
   ]
  },
  {
   "cell_type": "code",
   "execution_count": null,
   "id": "d7710728-7196-4f8b-b9bf-56f13aba278d",
   "metadata": {},
   "outputs": [],
   "source": []
  }
 ],
 "metadata": {
  "kernelspec": {
   "display_name": "Environment (conda_pytorch_p37)",
   "language": "python",
   "name": "conda_pytorch_p37"
  },
  "language_info": {
   "codemirror_mode": {
    "name": "ipython",
    "version": 3
   },
   "file_extension": ".py",
   "mimetype": "text/x-python",
   "name": "python",
   "nbconvert_exporter": "python",
   "pygments_lexer": "ipython3",
   "version": "3.7.10"
  }
 },
 "nbformat": 4,
 "nbformat_minor": 5
}
