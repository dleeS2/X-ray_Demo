{
 "cells": [
  {
   "cell_type": "markdown",
   "id": "457b8d12-f768-4ca8-96ca-21561d7bbd8c",
   "metadata": {},
   "source": [
    "# Package Installs"
   ]
  },
  {
   "cell_type": "code",
   "execution_count": null,
   "id": "07d3f93b-d7d1-4d24-b971-e1ee35d3c255",
   "metadata": {},
   "outputs": [],
   "source": [
    "# !pip install wandb"
   ]
  },
  {
   "cell_type": "code",
   "execution_count": null,
   "id": "893639a0-06ed-414d-b6d0-9aadfefcf045",
   "metadata": {},
   "outputs": [],
   "source": [
    "# !pip install ensemble_boxes"
   ]
  },
  {
   "cell_type": "markdown",
   "id": "9e9e2677-d9fa-49b3-a180-6f0ea4dc672e",
   "metadata": {},
   "source": [
    "# Imports"
   ]
  },
  {
   "cell_type": "code",
   "execution_count": 1,
   "id": "0af451ae-2fb1-452e-87a7-c3b2227459c0",
   "metadata": {},
   "outputs": [],
   "source": [
    "import pandas as pd\n",
    "from sklearn.cluster import KMeans\n",
    "import os\n",
    "import numpy as np\n",
    "import shutil\n",
    "import ast\n",
    "from sklearn import model_selection\n",
    "from tqdm import tqdm\n",
    "import wandb\n",
    "from sklearn.model_selection import GroupKFold, StratifiedKFold\n",
    "from IPython.display import Image, clear_output  \n",
    "from os import listdir\n",
    "from os.path import isfile\n",
    "from glob import glob\n",
    "import yaml\n",
    "import matplotlib.pyplot as plt\n",
    "from sklearn.model_selection import GroupKFold\n",
    "from tqdm.notebook import tqdm\n",
    "import seaborn as sns\n",
    "import cv2\n",
    "from ensemble_boxes import *\n",
    "from PIL import Image\n",
    "from PIL import ImageFilter\n",
    "from os import listdir\n",
    "from os.path import isfile, join\n",
    "from pathlib import Path\n",
    "from pydicom import dcmread"
   ]
  },
  {
   "cell_type": "markdown",
   "id": "3b1f4dd4-8345-459c-b9be-2be78cb0628b",
   "metadata": {},
   "source": [
    "# train.csv file"
   ]
  },
  {
   "cell_type": "code",
   "execution_count": 2,
   "id": "75ed49a1-7bc5-465c-9019-929f4aeed331",
   "metadata": {},
   "outputs": [
    {
     "data": {
      "text/html": [
       "<div>\n",
       "<style scoped>\n",
       "    .dataframe tbody tr th:only-of-type {\n",
       "        vertical-align: middle;\n",
       "    }\n",
       "\n",
       "    .dataframe tbody tr th {\n",
       "        vertical-align: top;\n",
       "    }\n",
       "\n",
       "    .dataframe thead th {\n",
       "        text-align: right;\n",
       "    }\n",
       "</style>\n",
       "<table border=\"1\" class=\"dataframe\">\n",
       "  <thead>\n",
       "    <tr style=\"text-align: right;\">\n",
       "      <th></th>\n",
       "      <th>image_id</th>\n",
       "      <th>class_name</th>\n",
       "      <th>class_id</th>\n",
       "      <th>rad_id</th>\n",
       "      <th>x_min</th>\n",
       "      <th>y_min</th>\n",
       "      <th>x_max</th>\n",
       "      <th>y_max</th>\n",
       "    </tr>\n",
       "  </thead>\n",
       "  <tbody>\n",
       "    <tr>\n",
       "      <th>0</th>\n",
       "      <td>50a418190bc3fb1ef1633bf9678929b3</td>\n",
       "      <td>No finding</td>\n",
       "      <td>14</td>\n",
       "      <td>R11</td>\n",
       "      <td>NaN</td>\n",
       "      <td>NaN</td>\n",
       "      <td>NaN</td>\n",
       "      <td>NaN</td>\n",
       "    </tr>\n",
       "    <tr>\n",
       "      <th>1</th>\n",
       "      <td>21a10246a5ec7af151081d0cd6d65dc9</td>\n",
       "      <td>No finding</td>\n",
       "      <td>14</td>\n",
       "      <td>R7</td>\n",
       "      <td>NaN</td>\n",
       "      <td>NaN</td>\n",
       "      <td>NaN</td>\n",
       "      <td>NaN</td>\n",
       "    </tr>\n",
       "    <tr>\n",
       "      <th>2</th>\n",
       "      <td>9a5094b2563a1ef3ff50dc5c7ff71345</td>\n",
       "      <td>Cardiomegaly</td>\n",
       "      <td>3</td>\n",
       "      <td>R10</td>\n",
       "      <td>691.0</td>\n",
       "      <td>1375.0</td>\n",
       "      <td>1653.0</td>\n",
       "      <td>1831.0</td>\n",
       "    </tr>\n",
       "    <tr>\n",
       "      <th>3</th>\n",
       "      <td>051132a778e61a86eb147c7c6f564dfe</td>\n",
       "      <td>Aortic enlargement</td>\n",
       "      <td>0</td>\n",
       "      <td>R10</td>\n",
       "      <td>1264.0</td>\n",
       "      <td>743.0</td>\n",
       "      <td>1611.0</td>\n",
       "      <td>1019.0</td>\n",
       "    </tr>\n",
       "    <tr>\n",
       "      <th>4</th>\n",
       "      <td>063319de25ce7edb9b1c6b8881290140</td>\n",
       "      <td>No finding</td>\n",
       "      <td>14</td>\n",
       "      <td>R10</td>\n",
       "      <td>NaN</td>\n",
       "      <td>NaN</td>\n",
       "      <td>NaN</td>\n",
       "      <td>NaN</td>\n",
       "    </tr>\n",
       "    <tr>\n",
       "      <th>...</th>\n",
       "      <td>...</td>\n",
       "      <td>...</td>\n",
       "      <td>...</td>\n",
       "      <td>...</td>\n",
       "      <td>...</td>\n",
       "      <td>...</td>\n",
       "      <td>...</td>\n",
       "      <td>...</td>\n",
       "    </tr>\n",
       "    <tr>\n",
       "      <th>67909</th>\n",
       "      <td>936fd5cff1c058d39817a08f58b72cae</td>\n",
       "      <td>No finding</td>\n",
       "      <td>14</td>\n",
       "      <td>R1</td>\n",
       "      <td>NaN</td>\n",
       "      <td>NaN</td>\n",
       "      <td>NaN</td>\n",
       "      <td>NaN</td>\n",
       "    </tr>\n",
       "    <tr>\n",
       "      <th>67910</th>\n",
       "      <td>ca7e72954550eeb610fe22bf0244b7fa</td>\n",
       "      <td>No finding</td>\n",
       "      <td>14</td>\n",
       "      <td>R1</td>\n",
       "      <td>NaN</td>\n",
       "      <td>NaN</td>\n",
       "      <td>NaN</td>\n",
       "      <td>NaN</td>\n",
       "    </tr>\n",
       "    <tr>\n",
       "      <th>67911</th>\n",
       "      <td>aa17d5312a0fb4a2939436abca7f9579</td>\n",
       "      <td>No finding</td>\n",
       "      <td>14</td>\n",
       "      <td>R8</td>\n",
       "      <td>NaN</td>\n",
       "      <td>NaN</td>\n",
       "      <td>NaN</td>\n",
       "      <td>NaN</td>\n",
       "    </tr>\n",
       "    <tr>\n",
       "      <th>67912</th>\n",
       "      <td>4b56bc6d22b192f075f13231419dfcc8</td>\n",
       "      <td>Cardiomegaly</td>\n",
       "      <td>3</td>\n",
       "      <td>R8</td>\n",
       "      <td>771.0</td>\n",
       "      <td>979.0</td>\n",
       "      <td>1680.0</td>\n",
       "      <td>1311.0</td>\n",
       "    </tr>\n",
       "    <tr>\n",
       "      <th>67913</th>\n",
       "      <td>5e272e3adbdaafb07a7e84a9e62b1a4c</td>\n",
       "      <td>No finding</td>\n",
       "      <td>14</td>\n",
       "      <td>R16</td>\n",
       "      <td>NaN</td>\n",
       "      <td>NaN</td>\n",
       "      <td>NaN</td>\n",
       "      <td>NaN</td>\n",
       "    </tr>\n",
       "  </tbody>\n",
       "</table>\n",
       "<p>67914 rows × 8 columns</p>\n",
       "</div>"
      ],
      "text/plain": [
       "                               image_id          class_name  class_id rad_id  \\\n",
       "0      50a418190bc3fb1ef1633bf9678929b3          No finding        14    R11   \n",
       "1      21a10246a5ec7af151081d0cd6d65dc9          No finding        14     R7   \n",
       "2      9a5094b2563a1ef3ff50dc5c7ff71345        Cardiomegaly         3    R10   \n",
       "3      051132a778e61a86eb147c7c6f564dfe  Aortic enlargement         0    R10   \n",
       "4      063319de25ce7edb9b1c6b8881290140          No finding        14    R10   \n",
       "...                                 ...                 ...       ...    ...   \n",
       "67909  936fd5cff1c058d39817a08f58b72cae          No finding        14     R1   \n",
       "67910  ca7e72954550eeb610fe22bf0244b7fa          No finding        14     R1   \n",
       "67911  aa17d5312a0fb4a2939436abca7f9579          No finding        14     R8   \n",
       "67912  4b56bc6d22b192f075f13231419dfcc8        Cardiomegaly         3     R8   \n",
       "67913  5e272e3adbdaafb07a7e84a9e62b1a4c          No finding        14    R16   \n",
       "\n",
       "        x_min   y_min   x_max   y_max  \n",
       "0         NaN     NaN     NaN     NaN  \n",
       "1         NaN     NaN     NaN     NaN  \n",
       "2       691.0  1375.0  1653.0  1831.0  \n",
       "3      1264.0   743.0  1611.0  1019.0  \n",
       "4         NaN     NaN     NaN     NaN  \n",
       "...       ...     ...     ...     ...  \n",
       "67909     NaN     NaN     NaN     NaN  \n",
       "67910     NaN     NaN     NaN     NaN  \n",
       "67911     NaN     NaN     NaN     NaN  \n",
       "67912   771.0   979.0  1680.0  1311.0  \n",
       "67913     NaN     NaN     NaN     NaN  \n",
       "\n",
       "[67914 rows x 8 columns]"
      ]
     },
     "execution_count": 2,
     "metadata": {},
     "output_type": "execute_result"
    }
   ],
   "source": [
    "train_aug = pd.read_csv('train.csv')\n",
    "train_aug"
   ]
  },
  {
   "cell_type": "markdown",
   "id": "518f4d42-8156-4d5c-85a2-2949d2fbd37d",
   "metadata": {},
   "source": [
    "# Add other useful info from DICOM files"
   ]
  },
  {
   "cell_type": "code",
   "execution_count": 3,
   "id": "7d07cdd3-bc0f-4b75-af27-e1141d1c4c47",
   "metadata": {},
   "outputs": [],
   "source": [
    "from pathlib import Path\n",
    "from pydicom import dcmread\n",
    "\n",
    "def add_image_dimensions_gender(df):\n",
    "    path_spec = \"train/{}.dicom\"\n",
    "    height = []\n",
    "    width = []\n",
    "    gender = []\n",
    "    age = []\n",
    "    for _, row in df.iterrows():\n",
    "        dcm = dcmread(Path(path_spec.format(row[\"image_id\"])), stop_before_pixels=True)\n",
    "        height.append(dcm.Rows)\n",
    "        width.append(dcm.Columns)\n",
    "        gender.append(dcm[0x10, 0x40].value)\n",
    "        patient_age = dcm[0x10, 0x1010].value if [0x10, 0x1010] in dcm else \"\"\n",
    "        age.append(patient_age)\n",
    "    df[\"image_height\"] = height\n",
    "    df[\"image_width\"] = width\n",
    "    df[\"gender\"] = gender\n",
    "    df[\"age\"] = age"
   ]
  },
  {
   "cell_type": "code",
   "execution_count": 4,
   "id": "270c112f-daf2-4aea-802a-50ae17422d7c",
   "metadata": {},
   "outputs": [
    {
     "data": {
      "text/html": [
       "<div>\n",
       "<style scoped>\n",
       "    .dataframe tbody tr th:only-of-type {\n",
       "        vertical-align: middle;\n",
       "    }\n",
       "\n",
       "    .dataframe tbody tr th {\n",
       "        vertical-align: top;\n",
       "    }\n",
       "\n",
       "    .dataframe thead th {\n",
       "        text-align: right;\n",
       "    }\n",
       "</style>\n",
       "<table border=\"1\" class=\"dataframe\">\n",
       "  <thead>\n",
       "    <tr style=\"text-align: right;\">\n",
       "      <th></th>\n",
       "      <th>image_id</th>\n",
       "      <th>class_name</th>\n",
       "      <th>class_id</th>\n",
       "      <th>rad_id</th>\n",
       "      <th>x_min</th>\n",
       "      <th>y_min</th>\n",
       "      <th>x_max</th>\n",
       "      <th>y_max</th>\n",
       "      <th>image_height</th>\n",
       "      <th>image_width</th>\n",
       "      <th>gender</th>\n",
       "      <th>age</th>\n",
       "    </tr>\n",
       "  </thead>\n",
       "  <tbody>\n",
       "    <tr>\n",
       "      <th>0</th>\n",
       "      <td>50a418190bc3fb1ef1633bf9678929b3</td>\n",
       "      <td>No finding</td>\n",
       "      <td>14</td>\n",
       "      <td>R11</td>\n",
       "      <td>NaN</td>\n",
       "      <td>NaN</td>\n",
       "      <td>NaN</td>\n",
       "      <td>NaN</td>\n",
       "      <td>2580</td>\n",
       "      <td>2332</td>\n",
       "      <td>M</td>\n",
       "      <td></td>\n",
       "    </tr>\n",
       "    <tr>\n",
       "      <th>1</th>\n",
       "      <td>21a10246a5ec7af151081d0cd6d65dc9</td>\n",
       "      <td>No finding</td>\n",
       "      <td>14</td>\n",
       "      <td>R7</td>\n",
       "      <td>NaN</td>\n",
       "      <td>NaN</td>\n",
       "      <td>NaN</td>\n",
       "      <td>NaN</td>\n",
       "      <td>3159</td>\n",
       "      <td>2954</td>\n",
       "      <td></td>\n",
       "      <td></td>\n",
       "    </tr>\n",
       "    <tr>\n",
       "      <th>2</th>\n",
       "      <td>9a5094b2563a1ef3ff50dc5c7ff71345</td>\n",
       "      <td>Cardiomegaly</td>\n",
       "      <td>3</td>\n",
       "      <td>R10</td>\n",
       "      <td>691.0</td>\n",
       "      <td>1375.0</td>\n",
       "      <td>1653.0</td>\n",
       "      <td>1831.0</td>\n",
       "      <td>2336</td>\n",
       "      <td>2080</td>\n",
       "      <td>F</td>\n",
       "      <td>061Y</td>\n",
       "    </tr>\n",
       "    <tr>\n",
       "      <th>3</th>\n",
       "      <td>051132a778e61a86eb147c7c6f564dfe</td>\n",
       "      <td>Aortic enlargement</td>\n",
       "      <td>0</td>\n",
       "      <td>R10</td>\n",
       "      <td>1264.0</td>\n",
       "      <td>743.0</td>\n",
       "      <td>1611.0</td>\n",
       "      <td>1019.0</td>\n",
       "      <td>2880</td>\n",
       "      <td>2304</td>\n",
       "      <td>F</td>\n",
       "      <td></td>\n",
       "    </tr>\n",
       "    <tr>\n",
       "      <th>4</th>\n",
       "      <td>063319de25ce7edb9b1c6b8881290140</td>\n",
       "      <td>No finding</td>\n",
       "      <td>14</td>\n",
       "      <td>R10</td>\n",
       "      <td>NaN</td>\n",
       "      <td>NaN</td>\n",
       "      <td>NaN</td>\n",
       "      <td>NaN</td>\n",
       "      <td>3072</td>\n",
       "      <td>2540</td>\n",
       "      <td>F</td>\n",
       "      <td>022Y</td>\n",
       "    </tr>\n",
       "    <tr>\n",
       "      <th>...</th>\n",
       "      <td>...</td>\n",
       "      <td>...</td>\n",
       "      <td>...</td>\n",
       "      <td>...</td>\n",
       "      <td>...</td>\n",
       "      <td>...</td>\n",
       "      <td>...</td>\n",
       "      <td>...</td>\n",
       "      <td>...</td>\n",
       "      <td>...</td>\n",
       "      <td>...</td>\n",
       "      <td>...</td>\n",
       "    </tr>\n",
       "    <tr>\n",
       "      <th>67909</th>\n",
       "      <td>936fd5cff1c058d39817a08f58b72cae</td>\n",
       "      <td>No finding</td>\n",
       "      <td>14</td>\n",
       "      <td>R1</td>\n",
       "      <td>NaN</td>\n",
       "      <td>NaN</td>\n",
       "      <td>NaN</td>\n",
       "      <td>NaN</td>\n",
       "      <td>3200</td>\n",
       "      <td>2444</td>\n",
       "      <td></td>\n",
       "      <td></td>\n",
       "    </tr>\n",
       "    <tr>\n",
       "      <th>67910</th>\n",
       "      <td>ca7e72954550eeb610fe22bf0244b7fa</td>\n",
       "      <td>No finding</td>\n",
       "      <td>14</td>\n",
       "      <td>R1</td>\n",
       "      <td>NaN</td>\n",
       "      <td>NaN</td>\n",
       "      <td>NaN</td>\n",
       "      <td>NaN</td>\n",
       "      <td>2430</td>\n",
       "      <td>1994</td>\n",
       "      <td>O</td>\n",
       "      <td></td>\n",
       "    </tr>\n",
       "    <tr>\n",
       "      <th>67911</th>\n",
       "      <td>aa17d5312a0fb4a2939436abca7f9579</td>\n",
       "      <td>No finding</td>\n",
       "      <td>14</td>\n",
       "      <td>R8</td>\n",
       "      <td>NaN</td>\n",
       "      <td>NaN</td>\n",
       "      <td>NaN</td>\n",
       "      <td>NaN</td>\n",
       "      <td>2500</td>\n",
       "      <td>2048</td>\n",
       "      <td>O</td>\n",
       "      <td></td>\n",
       "    </tr>\n",
       "    <tr>\n",
       "      <th>67912</th>\n",
       "      <td>4b56bc6d22b192f075f13231419dfcc8</td>\n",
       "      <td>Cardiomegaly</td>\n",
       "      <td>3</td>\n",
       "      <td>R8</td>\n",
       "      <td>771.0</td>\n",
       "      <td>979.0</td>\n",
       "      <td>1680.0</td>\n",
       "      <td>1311.0</td>\n",
       "      <td>2040</td>\n",
       "      <td>1968</td>\n",
       "      <td>F</td>\n",
       "      <td>052Y</td>\n",
       "    </tr>\n",
       "    <tr>\n",
       "      <th>67913</th>\n",
       "      <td>5e272e3adbdaafb07a7e84a9e62b1a4c</td>\n",
       "      <td>No finding</td>\n",
       "      <td>14</td>\n",
       "      <td>R16</td>\n",
       "      <td>NaN</td>\n",
       "      <td>NaN</td>\n",
       "      <td>NaN</td>\n",
       "      <td>NaN</td>\n",
       "      <td>2500</td>\n",
       "      <td>2048</td>\n",
       "      <td>O</td>\n",
       "      <td></td>\n",
       "    </tr>\n",
       "  </tbody>\n",
       "</table>\n",
       "<p>67914 rows × 12 columns</p>\n",
       "</div>"
      ],
      "text/plain": [
       "                               image_id          class_name  class_id rad_id  \\\n",
       "0      50a418190bc3fb1ef1633bf9678929b3          No finding        14    R11   \n",
       "1      21a10246a5ec7af151081d0cd6d65dc9          No finding        14     R7   \n",
       "2      9a5094b2563a1ef3ff50dc5c7ff71345        Cardiomegaly         3    R10   \n",
       "3      051132a778e61a86eb147c7c6f564dfe  Aortic enlargement         0    R10   \n",
       "4      063319de25ce7edb9b1c6b8881290140          No finding        14    R10   \n",
       "...                                 ...                 ...       ...    ...   \n",
       "67909  936fd5cff1c058d39817a08f58b72cae          No finding        14     R1   \n",
       "67910  ca7e72954550eeb610fe22bf0244b7fa          No finding        14     R1   \n",
       "67911  aa17d5312a0fb4a2939436abca7f9579          No finding        14     R8   \n",
       "67912  4b56bc6d22b192f075f13231419dfcc8        Cardiomegaly         3     R8   \n",
       "67913  5e272e3adbdaafb07a7e84a9e62b1a4c          No finding        14    R16   \n",
       "\n",
       "        x_min   y_min   x_max   y_max  image_height  image_width gender   age  \n",
       "0         NaN     NaN     NaN     NaN          2580         2332      M        \n",
       "1         NaN     NaN     NaN     NaN          3159         2954               \n",
       "2       691.0  1375.0  1653.0  1831.0          2336         2080      F  061Y  \n",
       "3      1264.0   743.0  1611.0  1019.0          2880         2304      F        \n",
       "4         NaN     NaN     NaN     NaN          3072         2540      F  022Y  \n",
       "...       ...     ...     ...     ...           ...          ...    ...   ...  \n",
       "67909     NaN     NaN     NaN     NaN          3200         2444               \n",
       "67910     NaN     NaN     NaN     NaN          2430         1994      O        \n",
       "67911     NaN     NaN     NaN     NaN          2500         2048      O        \n",
       "67912   771.0   979.0  1680.0  1311.0          2040         1968      F  052Y  \n",
       "67913     NaN     NaN     NaN     NaN          2500         2048      O        \n",
       "\n",
       "[67914 rows x 12 columns]"
      ]
     },
     "execution_count": 4,
     "metadata": {},
     "output_type": "execute_result"
    }
   ],
   "source": [
    "add_image_dimensions_gender(train_aug)\n",
    "train_aug"
   ]
  },
  {
   "cell_type": "code",
   "execution_count": 5,
   "id": "6b752d31-ff8c-4276-97f1-18089e2df2f8",
   "metadata": {},
   "outputs": [],
   "source": [
    "train_aug = train_aug[train_aug.class_id!=14].reset_index(drop = True)"
   ]
  },
  {
   "cell_type": "code",
   "execution_count": 6,
   "id": "c883a4ce-cbf1-4400-ab34-f245a41961c8",
   "metadata": {},
   "outputs": [
    {
     "data": {
      "text/plain": [
       "'jpg_train/9a5094b2563a1ef3ff50dc5c7ff71345.jpg'"
      ]
     },
     "execution_count": 6,
     "metadata": {},
     "output_type": "execute_result"
    }
   ],
   "source": [
    "# Change path to the train folder\n",
    "train_aug['image_path'] = f'jpg_train/'+train_aug.image_id+'.jpg'\n",
    "plt_test =train_aug.loc[0, 'image_path']\n",
    "plt_test"
   ]
  },
  {
   "cell_type": "code",
   "execution_count": 7,
   "id": "f1031507-9e55-4b51-bb97-e7e5cd90d305",
   "metadata": {},
   "outputs": [
    {
     "data": {
      "text/plain": [
       "str"
      ]
     },
     "execution_count": 7,
     "metadata": {},
     "output_type": "execute_result"
    }
   ],
   "source": [
    "type(plt_test)"
   ]
  },
  {
   "cell_type": "code",
   "execution_count": 8,
   "id": "bb308603-d4bd-4a30-a7ae-aed7efadb6ac",
   "metadata": {},
   "outputs": [],
   "source": [
    "import cv2\n",
    "from matplotlib import pyplot as plt"
   ]
  },
  {
   "cell_type": "code",
   "execution_count": 9,
   "id": "49509562-9907-431b-9063-5868614cac84",
   "metadata": {},
   "outputs": [],
   "source": [
    "path = f'jpg_train/9a5094b2563a1ef3ff50dc5c7ff71345.jpg'"
   ]
  },
  {
   "cell_type": "code",
   "execution_count": 10,
   "id": "340d3f0d-b1ae-457f-9b10-37004d484a5f",
   "metadata": {},
   "outputs": [
    {
     "data": {
      "image/png": "[encoded data removed]",
      "text/plain": [
       "<Figure size 432x288 with 1 Axes>"
      ]
     },
     "metadata": {
      "needs_background": "light"
     },
     "output_type": "display_data"
    }
   ],
   "source": [
    "image= cv2.imread(path)\n",
    "gray = cv2.cvtColor(image, cv2.COLOR_BGR2RGB)\n",
    "plt.imshow(gray)\n",
    "plt.show()"
   ]
  },
  {
   "cell_type": "markdown",
   "id": "e360c3ea-9166-4de1-b478-f00ae64a7f68",
   "metadata": {},
   "source": [
    "# Weighted Box Fusion"
   ]
  },
  {
   "cell_type": "code",
   "execution_count": 11,
   "id": "f437e0f9-0fef-4377-b5a2-5f9915972c31",
   "metadata": {},
   "outputs": [
    {
     "data": {
      "application/vnd.jupyter.widget-view+json": {
       "model_id": "bac97585727545c7a0ad9b0b671856e4",
       "version_major": 2,
       "version_minor": 0
      },
      "text/plain": [
       "  0%|          | 0/4394 [00:00<?, ?it/s]"
      ]
     },
     "metadata": {},
     "output_type": "display_data"
    }
   ],
   "source": [
    "#https://www.kaggle.com/c/vinbigdata-chest-xray-abnormalities-detection/discussion/208468\n",
    "\n",
    "# ===============================\n",
    "# Default WBF config \n",
    "iou_thr = 0.5\n",
    "skip_box_thr = 0.0001\n",
    "sigma = 0.1\n",
    "\n",
    "mapping = {0:'Aortic enlargement', 4:'Consolidation',13:'Pulmonary fibrosis',3:'Cardiomegaly',\n",
    "           7:'Lung Opacity', 6:'Infiltration',2:'Calcification',1:'Atelectasis',9:'Other lesion',12:'Pneumothorax',\n",
    "           8:'Nodule/Mass',10:'Pleural effusion',5:'ILD',11:'Pleural thickening'}\n",
    "\n",
    "# Loading the train DF\n",
    "\n",
    "df = train_aug\n",
    "df.fillna(0, inplace=True)\n",
    "df.loc[df[\"class_id\"] == 14, ['x_max', 'y_max']] = 1.0\n",
    "\n",
    "results = []\n",
    "image_ids = df[\"image_id\"].unique()\n",
    "\n",
    "for image_id in tqdm(image_ids, total=len(image_ids)):\n",
    "    #print(image_id)\n",
    "    # All annotations for the current image.\n",
    "    data = df[df[\"image_id\"] == image_id]\n",
    "    data = data.reset_index(drop=True)\n",
    "    annotations = {}\n",
    "    weights = []\n",
    "    \n",
    "    \n",
    "    width=data.iloc[0].image_width\n",
    "    height=data.iloc[0].image_height\n",
    "    image_path=data.iloc[0].image_path\n",
    "    #class_name=data.iloc[0].class_name\n",
    "\n",
    "    # WBF expects the coordinates in 0-1 range.\n",
    "    max_value = data.iloc[:, 4:8].values.max()\n",
    "    data.loc[:, [\"x_min\", \"y_min\", \"x_max\", \"y_max\"]] = data.iloc[:, 4:8] / max_value\n",
    "\n",
    "    # Loop through all of the annotations\n",
    "    for idx, row in data.iterrows():\n",
    "        #print(row)\n",
    "\n",
    "        rad_id = row[\"rad_id\"]\n",
    "        \n",
    "        #print(class_name)\n",
    "        if rad_id not in annotations:\n",
    "            annotations[rad_id] = {\n",
    "                \"boxes_list\": [],\n",
    "                \"scores_list\": [],\n",
    "                \"labels_list\": [],\n",
    "            }\n",
    "\n",
    "            # We consider all of the radiologists as equal.\n",
    "            weights.append(1.0)\n",
    "\n",
    "        annotations[rad_id][\"boxes_list\"].append([row[\"x_min\"], row[\"y_min\"], row[\"x_max\"], row[\"y_max\"]])\n",
    "        annotations[rad_id][\"scores_list\"].append(1.0)\n",
    "        annotations[rad_id][\"labels_list\"].append(row[\"class_id\"])\n",
    "\n",
    "    boxes_list = []\n",
    "    scores_list = []\n",
    "    labels_list = []\n",
    "\n",
    "    for annotator in annotations.keys():\n",
    "        boxes_list.append(annotations[annotator][\"boxes_list\"])\n",
    "        scores_list.append(annotations[annotator][\"scores_list\"])\n",
    "        labels_list.append(annotations[annotator][\"labels_list\"])\n",
    "\n",
    "    # Calculate WBF\n",
    "    boxes, scores, labels = weighted_boxes_fusion(\n",
    "        boxes_list,\n",
    "        scores_list,\n",
    "        labels_list,\n",
    "        weights=weights,\n",
    "        iou_thr=iou_thr,\n",
    "        skip_box_thr=skip_box_thr\n",
    "    )\n",
    "\n",
    "    for idx, box in enumerate(boxes):\n",
    "        class_name=row[\"class_name\"]\n",
    "        results.append({\n",
    "            \"image_id\": image_id,\n",
    "            \"class_id\": int(labels[idx]),\n",
    "            \"rad_id\": \"wbf\",\n",
    "            \"x_min\": box[0] * max_value,\n",
    "            \"y_min\": box[1] * max_value,\n",
    "            \"x_max\": box[2] * max_value,\n",
    "            \"y_max\": box[3] * max_value,\n",
    "            \"width\": width,\n",
    "            \"height\": height,\n",
    "            \"image_path\": image_path,\n",
    "            \"class_name\": mapping[int(labels[idx])]\n",
    "        })\n",
    "\n",
    "results = pd.DataFrame(results)"
   ]
  },
  {
   "cell_type": "code",
   "execution_count": 12,
   "id": "00b230e9-8bc7-461f-9ce3-cb46301af815",
   "metadata": {},
   "outputs": [
    {
     "data": {
      "text/plain": [
       "(23904, 11)"
      ]
     },
     "execution_count": 12,
     "metadata": {},
     "output_type": "execute_result"
    }
   ],
   "source": [
    "results.shape"
   ]
  },
  {
   "cell_type": "code",
   "execution_count": 13,
   "id": "b7e52173-c7d2-40f0-aae7-f979991e5dfd",
   "metadata": {},
   "outputs": [
    {
     "data": {
      "text/html": [
       "<div>\n",
       "<style scoped>\n",
       "    .dataframe tbody tr th:only-of-type {\n",
       "        vertical-align: middle;\n",
       "    }\n",
       "\n",
       "    .dataframe tbody tr th {\n",
       "        vertical-align: top;\n",
       "    }\n",
       "\n",
       "    .dataframe thead th {\n",
       "        text-align: right;\n",
       "    }\n",
       "</style>\n",
       "<table border=\"1\" class=\"dataframe\">\n",
       "  <thead>\n",
       "    <tr style=\"text-align: right;\">\n",
       "      <th></th>\n",
       "      <th>image_id</th>\n",
       "      <th>class_id</th>\n",
       "      <th>rad_id</th>\n",
       "      <th>x_min</th>\n",
       "      <th>y_min</th>\n",
       "      <th>x_max</th>\n",
       "      <th>y_max</th>\n",
       "      <th>width</th>\n",
       "      <th>height</th>\n",
       "      <th>image_path</th>\n",
       "      <th>class_name</th>\n",
       "    </tr>\n",
       "  </thead>\n",
       "  <tbody>\n",
       "    <tr>\n",
       "      <th>0</th>\n",
       "      <td>9a5094b2563a1ef3ff50dc5c7ff71345</td>\n",
       "      <td>3</td>\n",
       "      <td>wbf</td>\n",
       "      <td>690.666676</td>\n",
       "      <td>1354.333235</td>\n",
       "      <td>1658.666714</td>\n",
       "      <td>1797.666677</td>\n",
       "      <td>2080</td>\n",
       "      <td>2336</td>\n",
       "      <td>jpg_train/9a5094b2563a1ef3ff50dc5c7ff71345.jpg</td>\n",
       "      <td>Cardiomegaly</td>\n",
       "    </tr>\n",
       "    <tr>\n",
       "      <th>1</th>\n",
       "      <td>9a5094b2563a1ef3ff50dc5c7ff71345</td>\n",
       "      <td>0</td>\n",
       "      <td>wbf</td>\n",
       "      <td>1052.000000</td>\n",
       "      <td>715.000000</td>\n",
       "      <td>1299.000000</td>\n",
       "      <td>966.000000</td>\n",
       "      <td>2080</td>\n",
       "      <td>2336</td>\n",
       "      <td>jpg_train/9a5094b2563a1ef3ff50dc5c7ff71345.jpg</td>\n",
       "      <td>Aortic enlargement</td>\n",
       "    </tr>\n",
       "    <tr>\n",
       "      <th>2</th>\n",
       "      <td>9a5094b2563a1ef3ff50dc5c7ff71345</td>\n",
       "      <td>11</td>\n",
       "      <td>wbf</td>\n",
       "      <td>1789.000000</td>\n",
       "      <td>1729.000000</td>\n",
       "      <td>1875.000000</td>\n",
       "      <td>1992.000000</td>\n",
       "      <td>2080</td>\n",
       "      <td>2336</td>\n",
       "      <td>jpg_train/9a5094b2563a1ef3ff50dc5c7ff71345.jpg</td>\n",
       "      <td>Pleural thickening</td>\n",
       "    </tr>\n",
       "    <tr>\n",
       "      <th>3</th>\n",
       "      <td>9a5094b2563a1ef3ff50dc5c7ff71345</td>\n",
       "      <td>10</td>\n",
       "      <td>wbf</td>\n",
       "      <td>1789.000000</td>\n",
       "      <td>1729.000000</td>\n",
       "      <td>1875.000000</td>\n",
       "      <td>1992.000000</td>\n",
       "      <td>2080</td>\n",
       "      <td>2336</td>\n",
       "      <td>jpg_train/9a5094b2563a1ef3ff50dc5c7ff71345.jpg</td>\n",
       "      <td>Pleural effusion</td>\n",
       "    </tr>\n",
       "    <tr>\n",
       "      <th>4</th>\n",
       "      <td>051132a778e61a86eb147c7c6f564dfe</td>\n",
       "      <td>3</td>\n",
       "      <td>wbf</td>\n",
       "      <td>953.999977</td>\n",
       "      <td>1304.999961</td>\n",
       "      <td>2043.666679</td>\n",
       "      <td>1672.999894</td>\n",
       "      <td>2304</td>\n",
       "      <td>2880</td>\n",
       "      <td>jpg_train/051132a778e61a86eb147c7c6f564dfe.jpg</td>\n",
       "      <td>Cardiomegaly</td>\n",
       "    </tr>\n",
       "  </tbody>\n",
       "</table>\n",
       "</div>"
      ],
      "text/plain": [
       "                           image_id  class_id rad_id        x_min  \\\n",
       "0  9a5094b2563a1ef3ff50dc5c7ff71345         3    wbf   690.666676   \n",
       "1  9a5094b2563a1ef3ff50dc5c7ff71345         0    wbf  1052.000000   \n",
       "2  9a5094b2563a1ef3ff50dc5c7ff71345        11    wbf  1789.000000   \n",
       "3  9a5094b2563a1ef3ff50dc5c7ff71345        10    wbf  1789.000000   \n",
       "4  051132a778e61a86eb147c7c6f564dfe         3    wbf   953.999977   \n",
       "\n",
       "         y_min        x_max        y_max  width  height  \\\n",
       "0  1354.333235  1658.666714  1797.666677   2080    2336   \n",
       "1   715.000000  1299.000000   966.000000   2080    2336   \n",
       "2  1729.000000  1875.000000  1992.000000   2080    2336   \n",
       "3  1729.000000  1875.000000  1992.000000   2080    2336   \n",
       "4  1304.999961  2043.666679  1672.999894   2304    2880   \n",
       "\n",
       "                                       image_path          class_name  \n",
       "0  jpg_train/9a5094b2563a1ef3ff50dc5c7ff71345.jpg        Cardiomegaly  \n",
       "1  jpg_train/9a5094b2563a1ef3ff50dc5c7ff71345.jpg  Aortic enlargement  \n",
       "2  jpg_train/9a5094b2563a1ef3ff50dc5c7ff71345.jpg  Pleural thickening  \n",
       "3  jpg_train/9a5094b2563a1ef3ff50dc5c7ff71345.jpg    Pleural effusion  \n",
       "4  jpg_train/051132a778e61a86eb147c7c6f564dfe.jpg        Cardiomegaly  "
      ]
     },
     "execution_count": 13,
     "metadata": {},
     "output_type": "execute_result"
    }
   ],
   "source": [
    "results.head()"
   ]
  },
  {
   "cell_type": "code",
   "execution_count": 14,
   "id": "b656120f-a008-47db-977f-0ffbbc467a0a",
   "metadata": {},
   "outputs": [],
   "source": [
    "train_df=results"
   ]
  },
  {
   "cell_type": "code",
   "execution_count": 15,
   "id": "e8971d71-8534-4dcb-bbc6-8d79381f01fa",
   "metadata": {},
   "outputs": [
    {
     "data": {
      "text/plain": [
       "str"
      ]
     },
     "execution_count": 15,
     "metadata": {},
     "output_type": "execute_result"
    }
   ],
   "source": [
    "type(train_df['image_path'][0])"
   ]
  },
  {
   "cell_type": "markdown",
   "id": "f6da9763-7ebb-4bdc-bdfb-c49e3cf3741f",
   "metadata": {},
   "source": [
    "# Normalize the data"
   ]
  },
  {
   "cell_type": "code",
   "execution_count": 16,
   "id": "2c098924-695c-4070-8a3d-5dda431d5c4c",
   "metadata": {},
   "outputs": [
    {
     "data": {
      "text/html": [
       "<div>\n",
       "<style scoped>\n",
       "    .dataframe tbody tr th:only-of-type {\n",
       "        vertical-align: middle;\n",
       "    }\n",
       "\n",
       "    .dataframe tbody tr th {\n",
       "        vertical-align: top;\n",
       "    }\n",
       "\n",
       "    .dataframe thead th {\n",
       "        text-align: right;\n",
       "    }\n",
       "</style>\n",
       "<table border=\"1\" class=\"dataframe\">\n",
       "  <thead>\n",
       "    <tr style=\"text-align: right;\">\n",
       "      <th></th>\n",
       "      <th>image_id</th>\n",
       "      <th>class_id</th>\n",
       "      <th>rad_id</th>\n",
       "      <th>x_min</th>\n",
       "      <th>y_min</th>\n",
       "      <th>x_max</th>\n",
       "      <th>y_max</th>\n",
       "      <th>width</th>\n",
       "      <th>height</th>\n",
       "      <th>image_path</th>\n",
       "      <th>class_name</th>\n",
       "      <th>x_mid</th>\n",
       "      <th>y_mid</th>\n",
       "      <th>w</th>\n",
       "      <th>h</th>\n",
       "      <th>area</th>\n",
       "    </tr>\n",
       "  </thead>\n",
       "  <tbody>\n",
       "    <tr>\n",
       "      <th>0</th>\n",
       "      <td>9a5094b2563a1ef3ff50dc5c7ff71345</td>\n",
       "      <td>3</td>\n",
       "      <td>wbf</td>\n",
       "      <td>0.332051</td>\n",
       "      <td>0.579766</td>\n",
       "      <td>0.797436</td>\n",
       "      <td>0.769549</td>\n",
       "      <td>2080</td>\n",
       "      <td>2336</td>\n",
       "      <td>jpg_train/9a5094b2563a1ef3ff50dc5c7ff71345.jpg</td>\n",
       "      <td>Cardiomegaly</td>\n",
       "      <td>0.564744</td>\n",
       "      <td>0.674658</td>\n",
       "      <td>0.465385</td>\n",
       "      <td>0.189783</td>\n",
       "      <td>0.088322</td>\n",
       "    </tr>\n",
       "    <tr>\n",
       "      <th>1</th>\n",
       "      <td>9a5094b2563a1ef3ff50dc5c7ff71345</td>\n",
       "      <td>0</td>\n",
       "      <td>wbf</td>\n",
       "      <td>0.505769</td>\n",
       "      <td>0.306079</td>\n",
       "      <td>0.624519</td>\n",
       "      <td>0.413527</td>\n",
       "      <td>2080</td>\n",
       "      <td>2336</td>\n",
       "      <td>jpg_train/9a5094b2563a1ef3ff50dc5c7ff71345.jpg</td>\n",
       "      <td>Aortic enlargement</td>\n",
       "      <td>0.565144</td>\n",
       "      <td>0.359803</td>\n",
       "      <td>0.118750</td>\n",
       "      <td>0.107449</td>\n",
       "      <td>0.012760</td>\n",
       "    </tr>\n",
       "    <tr>\n",
       "      <th>2</th>\n",
       "      <td>9a5094b2563a1ef3ff50dc5c7ff71345</td>\n",
       "      <td>11</td>\n",
       "      <td>wbf</td>\n",
       "      <td>0.860096</td>\n",
       "      <td>0.740154</td>\n",
       "      <td>0.901442</td>\n",
       "      <td>0.852740</td>\n",
       "      <td>2080</td>\n",
       "      <td>2336</td>\n",
       "      <td>jpg_train/9a5094b2563a1ef3ff50dc5c7ff71345.jpg</td>\n",
       "      <td>Pleural thickening</td>\n",
       "      <td>0.880769</td>\n",
       "      <td>0.796447</td>\n",
       "      <td>0.041346</td>\n",
       "      <td>0.112586</td>\n",
       "      <td>0.004655</td>\n",
       "    </tr>\n",
       "    <tr>\n",
       "      <th>3</th>\n",
       "      <td>9a5094b2563a1ef3ff50dc5c7ff71345</td>\n",
       "      <td>10</td>\n",
       "      <td>wbf</td>\n",
       "      <td>0.860096</td>\n",
       "      <td>0.740154</td>\n",
       "      <td>0.901442</td>\n",
       "      <td>0.852740</td>\n",
       "      <td>2080</td>\n",
       "      <td>2336</td>\n",
       "      <td>jpg_train/9a5094b2563a1ef3ff50dc5c7ff71345.jpg</td>\n",
       "      <td>Pleural effusion</td>\n",
       "      <td>0.880769</td>\n",
       "      <td>0.796447</td>\n",
       "      <td>0.041346</td>\n",
       "      <td>0.112586</td>\n",
       "      <td>0.004655</td>\n",
       "    </tr>\n",
       "    <tr>\n",
       "      <th>4</th>\n",
       "      <td>051132a778e61a86eb147c7c6f564dfe</td>\n",
       "      <td>3</td>\n",
       "      <td>wbf</td>\n",
       "      <td>0.414062</td>\n",
       "      <td>0.453125</td>\n",
       "      <td>0.887008</td>\n",
       "      <td>0.580903</td>\n",
       "      <td>2304</td>\n",
       "      <td>2880</td>\n",
       "      <td>jpg_train/051132a778e61a86eb147c7c6f564dfe.jpg</td>\n",
       "      <td>Cardiomegaly</td>\n",
       "      <td>0.650535</td>\n",
       "      <td>0.517014</td>\n",
       "      <td>0.472946</td>\n",
       "      <td>0.127778</td>\n",
       "      <td>0.060432</td>\n",
       "    </tr>\n",
       "  </tbody>\n",
       "</table>\n",
       "</div>"
      ],
      "text/plain": [
       "                           image_id  class_id rad_id     x_min     y_min  \\\n",
       "0  9a5094b2563a1ef3ff50dc5c7ff71345         3    wbf  0.332051  0.579766   \n",
       "1  9a5094b2563a1ef3ff50dc5c7ff71345         0    wbf  0.505769  0.306079   \n",
       "2  9a5094b2563a1ef3ff50dc5c7ff71345        11    wbf  0.860096  0.740154   \n",
       "3  9a5094b2563a1ef3ff50dc5c7ff71345        10    wbf  0.860096  0.740154   \n",
       "4  051132a778e61a86eb147c7c6f564dfe         3    wbf  0.414062  0.453125   \n",
       "\n",
       "      x_max     y_max  width  height  \\\n",
       "0  0.797436  0.769549   2080    2336   \n",
       "1  0.624519  0.413527   2080    2336   \n",
       "2  0.901442  0.852740   2080    2336   \n",
       "3  0.901442  0.852740   2080    2336   \n",
       "4  0.887008  0.580903   2304    2880   \n",
       "\n",
       "                                       image_path          class_name  \\\n",
       "0  jpg_train/9a5094b2563a1ef3ff50dc5c7ff71345.jpg        Cardiomegaly   \n",
       "1  jpg_train/9a5094b2563a1ef3ff50dc5c7ff71345.jpg  Aortic enlargement   \n",
       "2  jpg_train/9a5094b2563a1ef3ff50dc5c7ff71345.jpg  Pleural thickening   \n",
       "3  jpg_train/9a5094b2563a1ef3ff50dc5c7ff71345.jpg    Pleural effusion   \n",
       "4  jpg_train/051132a778e61a86eb147c7c6f564dfe.jpg        Cardiomegaly   \n",
       "\n",
       "      x_mid     y_mid         w         h      area  \n",
       "0  0.564744  0.674658  0.465385  0.189783  0.088322  \n",
       "1  0.565144  0.359803  0.118750  0.107449  0.012760  \n",
       "2  0.880769  0.796447  0.041346  0.112586  0.004655  \n",
       "3  0.880769  0.796447  0.041346  0.112586  0.004655  \n",
       "4  0.650535  0.517014  0.472946  0.127778  0.060432  "
      ]
     },
     "execution_count": 16,
     "metadata": {},
     "output_type": "execute_result"
    }
   ],
   "source": [
    "train_df['x_min'] = train_df.apply(lambda row: (row.x_min)/row.width, axis =1)\n",
    "train_df['y_min'] = train_df.apply(lambda row: (row.y_min)/row.height, axis =1)\n",
    "\n",
    "train_df['x_max'] = train_df.apply(lambda row: (row.x_max)/row.width, axis =1)\n",
    "train_df['y_max'] = train_df.apply(lambda row: (row.y_max)/row.height, axis =1)\n",
    "\n",
    "train_df['x_mid'] = train_df.apply(lambda row: (row.x_max+row.x_min)/2, axis =1)\n",
    "train_df['y_mid'] = train_df.apply(lambda row: (row.y_max+row.y_min)/2, axis =1)\n",
    "\n",
    "train_df['w'] = train_df.apply(lambda row: (row.x_max-row.x_min), axis =1)\n",
    "train_df['h'] = train_df.apply(lambda row: (row.y_max-row.y_min), axis =1)\n",
    "\n",
    "train_df['area'] = train_df['w']*train_df['h']\n",
    "train_df.head()"
   ]
  },
  {
   "cell_type": "code",
   "execution_count": 17,
   "id": "8ddf8239-d7a5-4e83-9b92-6b9ab831fc5f",
   "metadata": {},
   "outputs": [
    {
     "data": {
      "text/plain": [
       "((23904, 9), (23904,))"
      ]
     },
     "execution_count": 17,
     "metadata": {},
     "output_type": "execute_result"
    }
   ],
   "source": [
    "features = ['x_min', 'y_min', 'x_max', 'y_max', 'x_mid', 'y_mid', 'w', 'h', 'area']\n",
    "X = train_df[features]\n",
    "y = train_df['class_id']\n",
    "X.shape, y.shape"
   ]
  },
  {
   "cell_type": "markdown",
   "id": "55d53a1f-0971-4b95-9a4f-a4dce314956e",
   "metadata": {},
   "source": [
    "# labels txt"
   ]
  },
  {
   "cell_type": "code",
   "execution_count": 18,
   "id": "29b1dfe8-d1a3-4371-ad6e-bbcf740b2b68",
   "metadata": {},
   "outputs": [],
   "source": [
    "# os.makedirs(f'labels', exist_ok = True)\n",
    "labels_dir = 'labels'"
   ]
  },
  {
   "cell_type": "code",
   "execution_count": 19,
   "id": "7cc2d6e2-7f3b-4eab-aa65-5e45e935bcc3",
   "metadata": {},
   "outputs": [],
   "source": [
    "label_df = train_df[['image_id','class_id', 'x_mid', 'y_mid', 'w', 'h']]"
   ]
  },
  {
   "cell_type": "code",
   "execution_count": 20,
   "id": "238bf5ac-508f-4b27-9b84-0fd75b2f3c61",
   "metadata": {},
   "outputs": [
    {
     "data": {
      "text/html": [
       "<div>\n",
       "<style scoped>\n",
       "    .dataframe tbody tr th:only-of-type {\n",
       "        vertical-align: middle;\n",
       "    }\n",
       "\n",
       "    .dataframe tbody tr th {\n",
       "        vertical-align: top;\n",
       "    }\n",
       "\n",
       "    .dataframe thead th {\n",
       "        text-align: right;\n",
       "    }\n",
       "</style>\n",
       "<table border=\"1\" class=\"dataframe\">\n",
       "  <thead>\n",
       "    <tr style=\"text-align: right;\">\n",
       "      <th></th>\n",
       "      <th>image_id</th>\n",
       "      <th>class_id</th>\n",
       "      <th>x_mid</th>\n",
       "      <th>y_mid</th>\n",
       "      <th>w</th>\n",
       "      <th>h</th>\n",
       "    </tr>\n",
       "  </thead>\n",
       "  <tbody>\n",
       "    <tr>\n",
       "      <th>0</th>\n",
       "      <td>9a5094b2563a1ef3ff50dc5c7ff71345</td>\n",
       "      <td>3</td>\n",
       "      <td>0.564744</td>\n",
       "      <td>0.674658</td>\n",
       "      <td>0.465385</td>\n",
       "      <td>0.189783</td>\n",
       "    </tr>\n",
       "    <tr>\n",
       "      <th>1</th>\n",
       "      <td>9a5094b2563a1ef3ff50dc5c7ff71345</td>\n",
       "      <td>0</td>\n",
       "      <td>0.565144</td>\n",
       "      <td>0.359803</td>\n",
       "      <td>0.118750</td>\n",
       "      <td>0.107449</td>\n",
       "    </tr>\n",
       "    <tr>\n",
       "      <th>2</th>\n",
       "      <td>9a5094b2563a1ef3ff50dc5c7ff71345</td>\n",
       "      <td>11</td>\n",
       "      <td>0.880769</td>\n",
       "      <td>0.796447</td>\n",
       "      <td>0.041346</td>\n",
       "      <td>0.112586</td>\n",
       "    </tr>\n",
       "    <tr>\n",
       "      <th>3</th>\n",
       "      <td>9a5094b2563a1ef3ff50dc5c7ff71345</td>\n",
       "      <td>10</td>\n",
       "      <td>0.880769</td>\n",
       "      <td>0.796447</td>\n",
       "      <td>0.041346</td>\n",
       "      <td>0.112586</td>\n",
       "    </tr>\n",
       "    <tr>\n",
       "      <th>4</th>\n",
       "      <td>051132a778e61a86eb147c7c6f564dfe</td>\n",
       "      <td>3</td>\n",
       "      <td>0.650535</td>\n",
       "      <td>0.517014</td>\n",
       "      <td>0.472946</td>\n",
       "      <td>0.127778</td>\n",
       "    </tr>\n",
       "  </tbody>\n",
       "</table>\n",
       "</div>"
      ],
      "text/plain": [
       "                           image_id  class_id     x_mid     y_mid         w  \\\n",
       "0  9a5094b2563a1ef3ff50dc5c7ff71345         3  0.564744  0.674658  0.465385   \n",
       "1  9a5094b2563a1ef3ff50dc5c7ff71345         0  0.565144  0.359803  0.118750   \n",
       "2  9a5094b2563a1ef3ff50dc5c7ff71345        11  0.880769  0.796447  0.041346   \n",
       "3  9a5094b2563a1ef3ff50dc5c7ff71345        10  0.880769  0.796447  0.041346   \n",
       "4  051132a778e61a86eb147c7c6f564dfe         3  0.650535  0.517014  0.472946   \n",
       "\n",
       "          h  \n",
       "0  0.189783  \n",
       "1  0.107449  \n",
       "2  0.112586  \n",
       "3  0.112586  \n",
       "4  0.127778  "
      ]
     },
     "execution_count": 20,
     "metadata": {},
     "output_type": "execute_result"
    }
   ],
   "source": [
    "label_df.head()"
   ]
  },
  {
   "cell_type": "code",
   "execution_count": 21,
   "id": "14f5d25f-6ae4-4399-b9e8-a8709814d0aa",
   "metadata": {},
   "outputs": [
    {
     "data": {
      "text/plain": [
       "pandas.core.series.Series"
      ]
     },
     "execution_count": 21,
     "metadata": {},
     "output_type": "execute_result"
    }
   ],
   "source": [
    "type(label_df['x_mid'])"
   ]
  },
  {
   "cell_type": "code",
   "execution_count": 22,
   "id": "b5dd20ae-4496-46eb-a795-8c2a73d50718",
   "metadata": {},
   "outputs": [
    {
     "name": "stderr",
     "output_type": "stream",
     "text": [
      "/home/ubuntu/anaconda3/envs/pytorch_p37/lib/python3.7/site-packages/ipykernel/__main__.py:1: SettingWithCopyWarning: \n",
      "A value is trying to be set on a copy of a slice from a DataFrame.\n",
      "Try using .loc[row_indexer,col_indexer] = value instead\n",
      "\n",
      "See the caveats in the documentation: https://pandas.pydata.org/pandas-docs/stable/user_guide/indexing.html#returning-a-view-versus-a-copy\n",
      "  if __name__ == '__main__':\n"
     ]
    }
   ],
   "source": [
    "label_df['bbox'] = label_df[['class_id', 'x_mid', 'y_mid', 'w', 'h']].values.tolist()"
   ]
  },
  {
   "cell_type": "code",
   "execution_count": 23,
   "id": "ba70f2fa-5d0c-4844-b9c1-4dbbe2525cae",
   "metadata": {},
   "outputs": [
    {
     "data": {
      "text/plain": [
       "4394"
      ]
     },
     "execution_count": 23,
     "metadata": {},
     "output_type": "execute_result"
    }
   ],
   "source": [
    "len(pd.unique(label_df['image_id']))"
   ]
  },
  {
   "cell_type": "code",
   "execution_count": 24,
   "id": "7e5217f0-b999-4111-9030-cd106a21a9af",
   "metadata": {},
   "outputs": [
    {
     "data": {
      "text/html": [
       "<div>\n",
       "<style scoped>\n",
       "    .dataframe tbody tr th:only-of-type {\n",
       "        vertical-align: middle;\n",
       "    }\n",
       "\n",
       "    .dataframe tbody tr th {\n",
       "        vertical-align: top;\n",
       "    }\n",
       "\n",
       "    .dataframe thead th {\n",
       "        text-align: right;\n",
       "    }\n",
       "</style>\n",
       "<table border=\"1\" class=\"dataframe\">\n",
       "  <thead>\n",
       "    <tr style=\"text-align: right;\">\n",
       "      <th></th>\n",
       "      <th>class_id</th>\n",
       "      <th>x_mid</th>\n",
       "      <th>y_mid</th>\n",
       "      <th>w</th>\n",
       "      <th>h</th>\n",
       "    </tr>\n",
       "  </thead>\n",
       "  <tbody>\n",
       "    <tr>\n",
       "      <th>count</th>\n",
       "      <td>23904.000000</td>\n",
       "      <td>23904.000000</td>\n",
       "      <td>23904.000000</td>\n",
       "      <td>23904.000000</td>\n",
       "      <td>23904.000000</td>\n",
       "    </tr>\n",
       "    <tr>\n",
       "      <th>mean</th>\n",
       "      <td>7.244436</td>\n",
       "      <td>0.493648</td>\n",
       "      <td>0.439866</td>\n",
       "      <td>0.156606</td>\n",
       "      <td>0.130043</td>\n",
       "    </tr>\n",
       "    <tr>\n",
       "      <th>std</th>\n",
       "      <td>4.346152</td>\n",
       "      <td>0.223853</td>\n",
       "      <td>0.195153</td>\n",
       "      <td>0.122105</td>\n",
       "      <td>0.113924</td>\n",
       "    </tr>\n",
       "    <tr>\n",
       "      <th>min</th>\n",
       "      <td>0.000000</td>\n",
       "      <td>0.015625</td>\n",
       "      <td>0.022304</td>\n",
       "      <td>0.003906</td>\n",
       "      <td>0.000989</td>\n",
       "    </tr>\n",
       "    <tr>\n",
       "      <th>25%</th>\n",
       "      <td>3.000000</td>\n",
       "      <td>0.292111</td>\n",
       "      <td>0.288615</td>\n",
       "      <td>0.070312</td>\n",
       "      <td>0.054329</td>\n",
       "    </tr>\n",
       "    <tr>\n",
       "      <th>50%</th>\n",
       "      <td>8.000000</td>\n",
       "      <td>0.546404</td>\n",
       "      <td>0.412595</td>\n",
       "      <td>0.119541</td>\n",
       "      <td>0.104331</td>\n",
       "    </tr>\n",
       "    <tr>\n",
       "      <th>75%</th>\n",
       "      <td>11.000000</td>\n",
       "      <td>0.672169</td>\n",
       "      <td>0.593915</td>\n",
       "      <td>0.201172</td>\n",
       "      <td>0.156680</td>\n",
       "    </tr>\n",
       "    <tr>\n",
       "      <th>max</th>\n",
       "      <td>13.000000</td>\n",
       "      <td>0.983398</td>\n",
       "      <td>0.979711</td>\n",
       "      <td>0.957212</td>\n",
       "      <td>0.980375</td>\n",
       "    </tr>\n",
       "  </tbody>\n",
       "</table>\n",
       "</div>"
      ],
      "text/plain": [
       "           class_id         x_mid         y_mid             w             h\n",
       "count  23904.000000  23904.000000  23904.000000  23904.000000  23904.000000\n",
       "mean       7.244436      0.493648      0.439866      0.156606      0.130043\n",
       "std        4.346152      0.223853      0.195153      0.122105      0.113924\n",
       "min        0.000000      0.015625      0.022304      0.003906      0.000989\n",
       "25%        3.000000      0.292111      0.288615      0.070312      0.054329\n",
       "50%        8.000000      0.546404      0.412595      0.119541      0.104331\n",
       "75%       11.000000      0.672169      0.593915      0.201172      0.156680\n",
       "max       13.000000      0.983398      0.979711      0.957212      0.980375"
      ]
     },
     "execution_count": 24,
     "metadata": {},
     "output_type": "execute_result"
    }
   ],
   "source": [
    "label_df.describe()"
   ]
  },
  {
   "cell_type": "code",
   "execution_count": 25,
   "id": "80620476-2880-42d8-a4ee-fd13a10b3c34",
   "metadata": {},
   "outputs": [
    {
     "data": {
      "text/plain": [
       "23904"
      ]
     },
     "execution_count": 25,
     "metadata": {},
     "output_type": "execute_result"
    }
   ],
   "source": [
    "len(label_df)"
   ]
  },
  {
   "cell_type": "code",
   "execution_count": 26,
   "id": "6f7fe4dd-09f5-45ef-9a7a-431b23996d85",
   "metadata": {},
   "outputs": [],
   "source": [
    "# # Create txt files for all labels in yolo format and move to labels folder\n",
    "\n",
    "# for _, row in tqdm(label_df.iterrows()):\n",
    "#     image_name = row['image_id']\n",
    "#     bounding_boxes = [row['bbox']]\n",
    "#     yolo_data = []\n",
    "#     for bbox in bounding_boxes:\n",
    "#         category = int(bbox[0])\n",
    "#         x_center = bbox[1]\n",
    "#         y_center = bbox[2]\n",
    "#         w = bbox[3]\n",
    "#         h = bbox[4]\n",
    "#         yolo_data_string = str(int(category))+' '+str(x_center)+' '+ str(y_center)+' '+str(w)+' '+str(h)\n",
    "\n",
    "#     filepath = os.path.join(labels_dir, f'{image_name}.txt')\n",
    "\n",
    "#     with open(filepath, 'a') as f:\n",
    "#         f.write(str(yolo_data_string)+ \"\\n\")\n",
    "\n"
   ]
  },
  {
   "cell_type": "markdown",
   "id": "7d0229ef-4a7e-4e19-998d-03ca79be2b14",
   "metadata": {},
   "source": [
    "# Base Model Train Val Split"
   ]
  },
  {
   "cell_type": "code",
   "execution_count": 27,
   "id": "e3fb11b6-2285-4973-aa0b-4bcfd627f404",
   "metadata": {},
   "outputs": [],
   "source": [
    "# fold=0\n",
    "# gkf  = GroupKFold(n_splits = 0)\n",
    "# train_df['fold'] = -1\n",
    "# for fold, (train_idx, val_idx) in enumerate(gkf.split(train_df, groups = train_df.image_id.tolist())):\n",
    "#     train_df.loc[val_idx, 'fold'] = fold\n",
    "# train_df.head()"
   ]
  },
  {
   "cell_type": "markdown",
   "id": "17dfd127-c293-47be-8977-851aa1f60045",
   "metadata": {},
   "source": [
    "# Train Val Split K-fold 5"
   ]
  },
  {
   "cell_type": "code",
   "execution_count": 28,
   "id": "ff612016-6cb6-417e-85e2-f0446affc657",
   "metadata": {},
   "outputs": [],
   "source": [
    "# fold=0\n",
    "# gkf  = GroupKFold(n_splits = 5)\n",
    "# train_df['fold'] = -1\n",
    "# for fold, (train_idx, val_idx) in enumerate(gkf.split(train_df, groups = train_df.image_id.tolist())):\n",
    "#     train_df.loc[val_idx, 'fold'] = fold\n",
    "# train_df.head()"
   ]
  },
  {
   "cell_type": "code",
   "execution_count": 29,
   "id": "f2b49859-8eb8-41a5-a3c1-aba15757707e",
   "metadata": {},
   "outputs": [
    {
     "data": {
      "text/plain": [
       "(23904, 16)"
      ]
     },
     "execution_count": 29,
     "metadata": {},
     "output_type": "execute_result"
    }
   ],
   "source": [
    "train_df.shape"
   ]
  },
  {
   "cell_type": "code",
   "execution_count": 31,
   "id": "76363bfc-bef8-4311-b738-84f1c699ea2c",
   "metadata": {},
   "outputs": [],
   "source": [
    "# train_df['fold'].unique()"
   ]
  },
  {
   "cell_type": "markdown",
   "id": "1bf4dd9e-dcce-4539-9487-b9ac4a7ce626",
   "metadata": {},
   "source": [
    "### Run this for each fold"
   ]
  },
  {
   "cell_type": "code",
   "execution_count": 32,
   "id": "0839ea47-6688-4817-8278-c74b2685c009",
   "metadata": {},
   "outputs": [],
   "source": [
    "# for i in range(5):\n",
    "#     fold=i\n",
    "#     train_files = []\n",
    "#     val_files   = []\n",
    "#     val_files += list(train_df[train_df.fold==fold].image_path.unique())\n",
    "#     train_files += list(train_df[train_df.fold!=fold].image_path.unique())\n",
    "\n",
    "#     #Create folders for train and validation and the corresponding labels and move them to the right location\n",
    "\n",
    "#     os.makedirs(f'k-folds/labels/{fold}/train', exist_ok = True)\n",
    "#     os.makedirs(f'k-folds/labels/{fold}/val', exist_ok = True)\n",
    "#     os.makedirs(f'k-folds/images/{fold}/train', exist_ok = True)\n",
    "#     os.makedirs(f'k-folds/images/{fold}/val', exist_ok = True)\n",
    "#     label_dir = 'labels'\n",
    "#     image_dir_train = f'k-folds/images/{fold}/train'\n",
    "#     image_dir_val = f'k-folds/images/{fold}/val'\n",
    "#     label_dir_train = f'k-folds/labels/{fold}/train'\n",
    "#     label_dir_val = f'k-folds/labels/{fold}/val'\n",
    "    \n",
    "#     for file in tqdm(train_files):\n",
    "#         try:\n",
    "#             shutil.copy(file, image_dir_train)\n",
    "#             filename = file.split('/')[-1].split('.')[0]\n",
    "#             shutil.copy(os.path.join(labels_dir, filename +'.txt'), label_dir_train)\n",
    "#         except:\n",
    "#             print(\"No such file\")\n",
    "\n",
    "#     for file in tqdm(val_files):\n",
    "#         try:\n",
    "#             shutil.copy(file, image_dir_val)\n",
    "#             filename = file.split('/')[-1].split('.')[0]\n",
    "#             shutil.copy(os.path.join(label_dir, filename+'.txt'), label_dir_val)\n",
    "#         except:\n",
    "#             print(\"No such file\")"
   ]
  },
  {
   "cell_type": "markdown",
   "id": "3cf0df9c-8288-4890-9d32-6c02c7afff3c",
   "metadata": {},
   "source": [
    "# Yolo Hyperparameters"
   ]
  },
  {
   "cell_type": "code",
   "execution_count": 33,
   "id": "5d33f014-a578-47db-8243-645413184f64",
   "metadata": {},
   "outputs": [],
   "source": [
    "# #cwd = '/content/'\n",
    "# cwd = '/home/ubuntu/vinbigdata/yolov5/data/hyps'\n",
    "\n",
    "# # Hyperparameters\n",
    "# hyp = {'lr0': 0.01,  # initial learning rate (SGD=1E-2, Adam=1E-3)\n",
    "#        'lrf': 0.2,  # final OneCycleLR learning rate (lr0 * lrf)\n",
    "#        'momentum': 0.937,  # SGD momentum\n",
    "#        'weight_decay': 5e-4,  # optimizer weight decay\n",
    "#        'warmup_epochs': 3.0,  # warmup epochs (fractions ok)\n",
    "#        'warmup_momentum': 0.8,  # warmup initial momentum\n",
    "#        'warmup_bias_lr': 0.1,  # warmup initial bias lr\n",
    "#        'box': 0.05,  # box loss gain\n",
    "#        'giou': 0.05,  # giou loss gain\n",
    "#        'cls': 0.5,  # cls loss gain\n",
    "#        'cls_pw': 1.0,  # cls BCELoss positive_weight\n",
    "#        'obj': 1.0,  # obj loss gain (*=img_size/320 if img_size != 320)\n",
    "#        'obj_pw': 1.0,  # obj BCELoss positive_weight\n",
    "#        'iou_t': 0.20,  # iou training threshold (TRY LOWERING THIS)\n",
    "#        'anchor_t': 4.0,  # anchor-multiple threshold\n",
    "#        'anchors': 3,  # anchors per output layer (0 to ignore)\n",
    "#        'fl_gamma': 0,  # focal loss gamma (efficientDet default is gamma=1.5)\n",
    "#        'hsv_h': 0.014,  # image HSV-Hue augmentation (fraction)\n",
    "#        'hsv_s': 0.68,  # image HSV-Saturation augmentation (fraction)\n",
    "#        'hsv_v': 0.36,  # image HSV-Value augmentation (fraction)\n",
    "#        'degrees': 0.2,  # image rotation (+/- deg)\n",
    "#        'translate': 0.2,  # image translation (+/- fraction)\n",
    "#        'scale': 0.3,  # image scale (+/- gain)\n",
    "#        'shear': 0.2,  # image shear (+/- deg)\n",
    "#        'perspective': 0.0,  # image perspective (+/- fraction), range 0-0.001\n",
    "#        'flipud': 0.0,  # image flip up-down (probability)\n",
    "#        'fliplr': 0.0,  # image flip left-right (probability)\n",
    "#        'mosaic': 1.0,  # image mosaic (probability)\n",
    "#        'mixup': 0.0}  # image mixup (probability)\n",
    "\n",
    "\n",
    "# with open(join( cwd , 'hyp_new.yaml'), 'w') as outfile:\n",
    "#     yaml.dump(hyp, outfile, default_flow_style=False)\n",
    "\n",
    "# f = open(join( cwd , 'hyp_new.yaml'), 'r')\n",
    "# print('\\nyaml:')\n",
    "# print(f.read())"
   ]
  },
  {
   "cell_type": "markdown",
   "id": "b8a803cd-726b-4c29-91e5-08046aaadb2f",
   "metadata": {},
   "source": [
    "# Yolo yml file"
   ]
  },
  {
   "cell_type": "code",
   "execution_count": 34,
   "id": "2ff3ec27-e41e-455a-9fd9-e11e9722bf94",
   "metadata": {},
   "outputs": [
    {
     "data": {
      "text/plain": [
       "['Pneumothorax',\n",
       " 'Lung Opacity',\n",
       " 'Other lesion',\n",
       " 'Infiltration',\n",
       " 'Cardiomegaly',\n",
       " 'Pleural thickening',\n",
       " 'Calcification',\n",
       " 'ILD',\n",
       " 'Pulmonary fibrosis',\n",
       " 'Atelectasis',\n",
       " 'Nodule/Mass',\n",
       " 'Aortic enlargement',\n",
       " 'Consolidation',\n",
       " 'Pleural effusion']"
      ]
     },
     "execution_count": 34,
     "metadata": {},
     "output_type": "execute_result"
    }
   ],
   "source": [
    "class_ids, class_names = list(zip(*set(zip(train_df.class_id, train_df.class_name))))\n",
    "classes = list(np.array(class_names)[np.argsort(class_ids)])\n",
    "classes = list(map(lambda x: str(x), classes))\n",
    "classes=list(set(classes))\n",
    "classes"
   ]
  },
  {
   "cell_type": "code",
   "execution_count": 35,
   "id": "7cd1d343-6574-484b-abbc-24a1e4fbbfd7",
   "metadata": {},
   "outputs": [],
   "source": [
    "# Ensemble"
   ]
  },
  {
   "cell_type": "code",
   "execution_count": 36,
   "id": "8aa0f5f3-829d-4e34-87b7-402160a6a525",
   "metadata": {},
   "outputs": [],
   "source": [
    "# # from os import listdir\n",
    "# # from os.path import isfile, join\n",
    "# import yaml\n",
    "\n",
    "# for i in range(5):\n",
    "#     fold = i\n",
    "#     cwd = f'/home/ubuntu/vinbigdata/k-folds/images/{fold}/'\n",
    "\n",
    "#     with open(join( cwd , 'train.txt'), 'w') as f:\n",
    "#         for path in glob(f'/home/ubuntu/vinbigdata/k-folds/images/{fold}/train/*'):\n",
    "#             f.write(path+'\\n')\n",
    "\n",
    "#     with open(join( cwd , 'val.txt'), 'w') as f:\n",
    "#         for path in glob(f'/home/ubuntu/vinbigdata/k-folds/images/{fold}/val/*'):\n",
    "#             f.write(path+'\\n')\n",
    "\n",
    "#     # with open(join( cwd , 'val.txt'), 'w') as f:\n",
    "#     #     for path in glob('/home/ubuntu/GitHub/Data/vinbigdata/images/val/*'):\n",
    "#     #         f.write(path+'\\n')\n",
    "\n",
    "#     with open(join( cwd , 'test.txt'), 'w') as f:\n",
    "#         for path in glob('/home/ubuntu/vinbigdata/jpg_test/*'):\n",
    "#             f.write(path+'\\n')\n",
    "\n",
    "#     data = dict(\n",
    "#         train =  join( cwd , 'train.txt') ,\n",
    "#         val   =  join( cwd , 'val.txt' ),\n",
    "#         test =  join( cwd , 'test.txt'),\n",
    "#         nc    = 14,\n",
    "#         names = classes\n",
    "#         )\n",
    "\n",
    "#     with open(join( cwd , f'vinbigdata_{fold}.yaml'), 'w') as outfile:\n",
    "#         yaml.dump(data, outfile, default_flow_style=False)\n",
    "\n",
    "#     f = open(join( cwd , f'vinbigdata_{fold}.yaml'), 'r')\n",
    "#     print('\\nyaml:')\n",
    "#     print(f.read())"
   ]
  },
  {
   "cell_type": "markdown",
   "id": "7a219834-7cf7-424c-816f-162fb8895742",
   "metadata": {},
   "source": [
    "# Training"
   ]
  },
  {
   "cell_type": "code",
   "execution_count": 37,
   "id": "d8b7ec32-5bf6-48c2-8616-b6e40e5977e9",
   "metadata": {},
   "outputs": [],
   "source": [
    "os.chdir('yolov5')\n",
    "import torch"
   ]
  },
  {
   "cell_type": "code",
   "execution_count": 38,
   "id": "5c1f174d-0627-427e-9e1b-e8cca271c6ba",
   "metadata": {},
   "outputs": [
    {
     "name": "stderr",
     "output_type": "stream",
     "text": [
      "Failed to detect the name of this notebook, you can set it manually with the WANDB_NOTEBOOK_NAME environment variable to enable code saving.\n",
      "\u001b[34m\u001b[1mwandb\u001b[0m: Currently logged in as: \u001b[33minsigh1\u001b[0m (use `wandb login --relogin` to force relogin)\n"
     ]
    },
    {
     "data": {
      "text/plain": [
       "True"
      ]
     },
     "execution_count": 38,
     "metadata": {},
     "output_type": "execute_result"
    }
   ],
   "source": [
    "wandb.login()"
   ]
  },
  {
   "cell_type": "code",
   "execution_count": 39,
   "id": "c31e6675-791e-442e-ba98-4654b0ceba94",
   "metadata": {},
   "outputs": [
    {
     "name": "stdout",
     "output_type": "stream",
     "text": [
      "/bin/bash: switchml: line 1: syntax error: unexpected end of file\n",
      "/bin/bash: error importing function definition for `switchml'\n",
      "/bin/bash: _moduleraw: line 1: syntax error: unexpected end of file\n",
      "/bin/bash: error importing function definition for `_moduleraw'\n",
      "Mon Dec  6 15:54:47 2021       \n",
      "+-----------------------------------------------------------------------------+\n",
      "| NVIDIA-SMI 450.142.00   Driver Version: 450.142.00   CUDA Version: 11.0     |\n",
      "|-------------------------------+----------------------+----------------------+\n",
      "| GPU  Name        Persistence-M| Bus-Id        Disp.A | Volatile Uncorr. ECC |\n",
      "| Fan  Temp  Perf  Pwr:Usage/Cap|         Memory-Usage | GPU-Util  Compute M. |\n",
      "|                               |                      |               MIG M. |\n",
      "|===============================+======================+======================|\n",
      "|   0  Tesla V100-SXM2...  On   | 00000000:00:1E.0 Off |                    0 |\n",
      "| N/A   27C    P0    23W / 300W |      2MiB / 16160MiB |      0%      Default |\n",
      "|                               |                      |                  N/A |\n",
      "+-------------------------------+----------------------+----------------------+\n",
      "                                                                               \n",
      "+-----------------------------------------------------------------------------+\n",
      "| Processes:                                                                  |\n",
      "|  GPU   GI   CI        PID   Type   Process name                  GPU Memory |\n",
      "|        ID   ID                                                   Usage      |\n",
      "|=============================================================================|\n",
      "|  No running processes found                                                 |\n",
      "+-----------------------------------------------------------------------------+\n"
     ]
    }
   ],
   "source": [
    "!nvidia-smi"
   ]
  },
  {
   "cell_type": "code",
   "execution_count": 40,
   "id": "d99216c8-9884-45d7-8d69-904289b547c5",
   "metadata": {},
   "outputs": [
    {
     "name": "stdout",
     "output_type": "stream",
     "text": [
      "/bin/bash: switchml: line 1: syntax error: unexpected end of file\n",
      "/bin/bash: error importing function definition for `switchml'\n",
      "/bin/bash: _moduleraw: line 1: syntax error: unexpected end of file\n",
      "/bin/bash: error importing function definition for `_moduleraw'\n",
      "/home/ubuntu/vinbigdata/yolov5\n"
     ]
    }
   ],
   "source": [
    "!pwd"
   ]
  },
  {
   "cell_type": "code",
   "execution_count": 41,
   "id": "4703d04b-5357-4a2c-92d2-f3e051a8bbc4",
   "metadata": {},
   "outputs": [],
   "source": [
    "# # download weights\n",
    "# !python detect.py --weights yolov5x.pt"
   ]
  },
  {
   "cell_type": "code",
   "execution_count": 42,
   "id": "cc334318-a938-4a16-98a6-de0b0e5763b8",
   "metadata": {},
   "outputs": [
    {
     "name": "stdout",
     "output_type": "stream",
     "text": [
      "/bin/bash: switchml: line 1: syntax error: unexpected end of file\n",
      "/bin/bash: error importing function definition for `switchml'\n",
      "/bin/bash: _moduleraw: line 1: syntax error: unexpected end of file\n",
      "/bin/bash: error importing function definition for `_moduleraw'\n",
      "Traceback (most recent call last):\n",
      "  File \"train.py\", line 34, in <module>\n",
      "    import val  # for end-of-epoch mAP\n",
      "  File \"/home/ubuntu/vinbigdata/yolov5/val.py\", line 26, in <module>\n",
      "    from models.common import DetectMultiBackend\n",
      "  File \"/home/ubuntu/vinbigdata/yolov5/models/common.py\", line 23, in <module>\n",
      "    from utils.datasets import exif_transpose, letterbox\n",
      "  File \"/home/ubuntu/vinbigdata/yolov5/utils/datasets.py\", line 28, in <module>\n",
      "    from utils.augmentations import Albumentations, augment_hsv, copy_paste, letterbox, mixup, random_perspective\n",
      "  File \"/home/ubuntu/vinbigdata/yolov5/utils/augmentations.py\", line 12, in <module>\n",
      "    from utils.general import LOGGER, check_version, colorstr, resample_segments, segment2box\n",
      "  File \"/home/ubuntu/vinbigdata/yolov5/utils/general.py\", line 29, in <module>\n",
      "    import torchvision\n",
      "  File \"/home/ubuntu/anaconda3/envs/pytorch_p37/lib/python3.7/site-packages/torchvision/__init__.py\", line 4, in <module>\n",
      "    from .extension import _HAS_OPS\n",
      "  File \"/home/ubuntu/anaconda3/envs/pytorch_p37/lib/python3.7/site-packages/torchvision/extension.py\", line 101, in <module>\n",
      "    _check_cuda_version()\n",
      "  File \"/home/ubuntu/anaconda3/envs/pytorch_p37/lib/python3.7/site-packages/torchvision/extension.py\", line 97, in _check_cuda_version\n",
      "    .format(t_major, t_minor, tv_major, tv_minor))\n",
      "RuntimeError: Detected that PyTorch and torchvision were compiled with different CUDA versions. PyTorch has CUDA Version=10.2 and torchvision has CUDA Version=11.0. Please reinstall the torchvision that matches your PyTorch install.\n"
     ]
    }
   ],
   "source": [
    "# train test\n",
    "!python train.py --img 1024 --batch 16 --epochs 3 --data /home/ubuntu/vinbigdata/k-folds/images/0/vinbigdata_0.yaml --cache --cfg ./models/yolov5x.yaml --weights yolov5/data/hyps/hyp_new.yaml"
   ]
  },
  {
   "cell_type": "code",
   "execution_count": null,
   "id": "a6fe6944-6b94-4e42-9707-c491b099b97f",
   "metadata": {},
   "outputs": [],
   "source": [
    "# !conda install pytorch torchvision cudatoolkit=10.2 -c pytorch"
   ]
  },
  {
   "cell_type": "code",
   "execution_count": null,
   "id": "ba2a730c-8fbf-40b7-825b-4a300681cb5f",
   "metadata": {},
   "outputs": [],
   "source": []
  }
 ],
 "metadata": {
  "kernelspec": {
   "display_name": "Python 3",
   "language": "python",
   "name": "python3"
  },
  "language_info": {
   "codemirror_mode": {
    "name": "ipython",
    "version": 3
   },
   "file_extension": ".py",
   "mimetype": "text/x-python",
   "name": "python",
   "nbconvert_exporter": "python",
   "pygments_lexer": "ipython3",
   "version": "3.8.8"
  }
 },
 "nbformat": 4,
 "nbformat_minor": 5
}
