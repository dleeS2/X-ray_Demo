{
 "cells": [
  {
   "cell_type": "markdown",
   "id": "18e9828d-96c5-403a-ad7e-31c4b80f879b",
   "metadata": {},
   "source": [
    "# Select by Patient "
   ]
  },
  {
   "cell_type": "code",
   "execution_count": 2,
   "id": "4b384c9c-c9d8-42ef-81ef-6c72c6fb77f0",
   "metadata": {
    "tags": []
   },
   "outputs": [
    {
     "name": "stdout",
     "output_type": "stream",
     "text": [
      "Patient Id:  1 Patient Name:  Anita TAYLOR  Image ID:  1a3e31be4931b71f5840e74d1431b84a\n"
     ]
    },
    {
     "data": {
      "application/vnd.jupyter.widget-view+json": {
       "model_id": "cbe8f13e88c2407eb0b76ed1344ebb20",
       "version_major": 2,
       "version_minor": 0
      },
      "text/plain": [
       "HBox(children=(Image(value=b'\\xff\\xd8\\xff\\xe0\\x00\\x10JFIF\\x00\\x01\\x01\\x00\\x00\\x01\\x00\\x01\\x00\\x00\\xff\\xdb\\x00C…"
      ]
     },
     "metadata": {},
     "output_type": "display_data"
    },
    {
     "name": "stdout",
     "output_type": "stream",
     "text": [
      "Patient Id:  1 Patient Name:  Anita TAYLOR  Image ID:  52f8ccffec591b51c73bf964ee316a49\n"
     ]
    },
    {
     "data": {
      "application/vnd.jupyter.widget-view+json": {
       "model_id": "d5f6bbf2bc164ffc8a51899120df5241",
       "version_major": 2,
       "version_minor": 0
      },
      "text/plain": [
       "HBox(children=(Image(value=b'\\xff\\xd8\\xff\\xe0\\x00\\x10JFIF\\x00\\x01\\x01\\x00\\x00\\x01\\x00\\x01\\x00\\x00\\xff\\xdb\\x00C…"
      ]
     },
     "metadata": {},
     "output_type": "display_data"
    },
    {
     "name": "stdout",
     "output_type": "stream",
     "text": [
      "CPU times: user 32.4 ms, sys: 14.4 ms, total: 46.9 ms\n",
      "Wall time: 6.05 s\n"
     ]
    }
   ],
   "source": [
    "%%time\n",
    "\n",
    "import IPython.display as display\n",
    "import ipywidgets as widgets\n",
    "import pymysql\n",
    "\n",
    "PatientId = 1\n",
    "\n",
    "s2conn = pymysql.connect(\n",
    "    user='root',\n",
    "    password='Sglstrpw34',\n",
    "    host='172.31.62.112',\n",
    "    port=3306,\n",
    "    database='PatientRecords')\n",
    "\n",
    "mycursor = s2conn.cursor()\n",
    "\n",
    "sql_insert_blob_query =  \"\"\"\n",
    "SELECT \n",
    "    ih.PatientID\n",
    "    ,ih.file\n",
    "    ,pi.FirstName\n",
    "    ,pi.LastName\n",
    "    ,jpg.Image\n",
    "    ,jpg.PredictionImage\n",
    "from \n",
    "    ImageHeader ih \n",
    "join PatientInfo2 pi on\n",
    "    pi.PatientID = ih.PatientID\n",
    "join Images.JPGImages jpg on\n",
    "    jpg.file = ih.file\n",
    "where\n",
    "    ih.PatientID = (%s)\n",
    "order by \n",
    "    ih.PatientID, \n",
    "    ih.file; \"\"\"\n",
    "\n",
    "mycursor.execute(sql_insert_blob_query, PatientId)\n",
    "    \n",
    "record = mycursor.fetchall()\n",
    "for row in record:\n",
    "    print(\"Patient Id: \", row[0], \"Patient Name: \", row[2], row[3],\" Image ID: \", row[1] )\n",
    "    image = widgets.Image(value=row[4], format='jpg', width=512, height=640)\n",
    "    PredictionImage = widgets.Image(value=row[5], format='jpg', width=512, height=640) \n",
    "    a=[image,PredictionImage]\n",
    "    wid=widgets.HBox(a)\n",
    "    display.display(wid)\n",
    "    \n",
    "mycursor.close()\n",
    "s2conn.close()"
   ]
  },
  {
   "cell_type": "markdown",
   "id": "a22df942-16c2-4b21-b110-664d2332da44",
   "metadata": {},
   "source": [
    "# Connect to SingleStore with at least 1 Nodule/Mass Predition"
   ]
  },
  {
   "cell_type": "markdown",
   "id": "c63ff2ba-34e6-495a-8e35-758aa29ee1ee",
   "metadata": {},
   "source": [
    "## Profile Data"
   ]
  },
  {
   "cell_type": "code",
   "execution_count": 3,
   "id": "f5b6d05e-d102-4e10-9323-6cda986b1bb0",
   "metadata": {
    "tags": []
   },
   "outputs": [
    {
     "name": "stdout",
     "output_type": "stream",
     "text": [
      "770 images selected.\n",
      "\n",
      "Patient Id:  16 Patient Name:  Kathleen LOPEZ  Image ID:  7a292f45c54655d0fa19dba160b07c4b  Class Name:  Nodule/Mass\n",
      "Patient Id:  49 Patient Name:  Franklin THOMAS  Image ID:  e78d3dafa3d35c1ef2beaed26f884b84  Class Name:  Nodule/Mass\n",
      "Patient Id:  117 Patient Name:  James ANDERSON  Image ID:  273a53879b3ba9afa3d6d1e3aea0a453  Class Name:  Nodule/Mass\n",
      "Patient Id:  126 Patient Name:  Harold HERNANDEZ  Image ID:  35e38672875ff60d5a131d91b4db5a6d  Class Name:  Nodule/Mass\n",
      "Patient Id:  127 Patient Name:  Jacqueline RODRIGUEZ  Image ID:  6c570356c5cdb674231769b436f31d1f  Class Name:  Nodule/Mass\n",
      "Patient Id:  167 Patient Name:  Larry LEE  Image ID:  57a11dff1b33a1e011eb9ccd9a2f24cc  Class Name:  Nodule/Mass\n",
      "Patient Id:  171 Patient Name:  Betty THOMPSON  Image ID:  acf43f7566b4f7b9fa28c839a48f9d61  Class Name:  Nodule/Mass\n",
      "Patient Id:  210 Patient Name:  Mary GARCIA  Image ID:  2b3a09923dd40a6874d3ee54773575ed  Class Name:  Nodule/Mass\n",
      "Patient Id:  212 Patient Name:  John GARCIA  Image ID:  402e634d189693e887ccd6e488a4b29d  Class Name:  Nodule/Mass\n",
      "Patient Id:  231 Patient Name:  Granville WILSON  Image ID:  93ef5877b678e69cf43fa16bbae50b93  Class Name:  Nodule/Mass\n",
      "Patient Id:  249 Patient Name:  Libby DAVIS  Image ID:  f5f0ce7c7c2a1958797bf900ede184fa  Class Name:  Nodule/Mass\n",
      "Patient Id:  265 Patient Name:  Sally WILSON  Image ID:  64e17b0f7b34294b7f74017bc01b080d  Class Name:  Nodule/Mass\n",
      "Patient Id:  274 Patient Name:  Angela MARTIN  Image ID:  0760a14308badcbd370c6866c9db3a0a  Class Name:  Nodule/Mass\n",
      "Patient Id:  284 Patient Name:  Susan JONES  Image ID:  87a615f85d01f3cef76633daa665ac69  Class Name:  Nodule/Mass\n",
      "Patient Id:  296 Patient Name:  Robert MOORE  Image ID:  db724caf57a7adc90648a092e9fa2395  Class Name:  Nodule/Mass\n",
      "Patient Id:  304 Patient Name:  Brenda MARTINEZ  Image ID:  d8220f2e082dae72b6db9b8a86637695  Class Name:  Nodule/Mass\n",
      "Patient Id:  318 Patient Name:  Ronald WHITE  Image ID:  afb8a317a1c70191a4169cf5dd4e1da6  Class Name:  Nodule/Mass\n",
      "Patient Id:  333 Patient Name:  Gary THOMAS  Image ID:  95b1441a7db0a7fa07549ab95ddb4ef9  Class Name:  Nodule/Mass\n",
      "Patient Id:  334 Patient Name:  Judy THOMPSON  Image ID:  74d7567d6aef1fd896f3904205d3a2fb  Class Name:  Nodule/Mass\n",
      "Patient Id:  339 Patient Name:  Aaron MARTINEZ  Image ID:  5f9656fef011ff6876d88f8042a1ec7c  Class Name:  Nodule/Mass\n",
      "Patient Id:  339 Patient Name:  Aaron MARTINEZ  Image ID:  8fb466f9540457e9a568971e8d491fef  Class Name:  Nodule/Mass\n",
      "Patient Id:  398 Patient Name:  Laura THOMAS  Image ID:  9201324ab7bec3e6e853cc0584420132  Class Name:  Nodule/Mass\n",
      "Patient Id:  400 Patient Name:  Susan TAYLOR  Image ID:  2f1cefbcabb4d047b8944af78ac0d8f4  Class Name:  Nodule/Mass\n",
      "Patient Id:  406 Patient Name:  Martha ANDERSON  Image ID:  8cb084ad48ad4a21e15bdb8f4567ed8f  Class Name:  Nodule/Mass\n",
      "Patient Id:  412 Patient Name:  Preston JOHNSON  Image ID:  624decabb72afef84b63d24305cecf3d  Class Name:  Nodule/Mass\n",
      "Patient Id:  417 Patient Name:  Grant MILLER  Image ID:  c1ca66539955f94f6dbd74fb5ba7208d  Class Name:  Nodule/Mass\n",
      "Patient Id:  422 Patient Name:  Joann GARCIA  Image ID:  871a0f6c5f88473af86d1ceab436a040  Class Name:  Nodule/Mass\n",
      "Patient Id:  461 Patient Name:  Edward DAVIS  Image ID:  ea963ef24a74ec47734be65299d3094f  Class Name:  Nodule/Mass\n",
      "Patient Id:  463 Patient Name:  Joan BROWN  Image ID:  499bf22f9d6aba3f7da0609d935c9e1d  Class Name:  Nodule/Mass\n",
      "Patient Id:  474 Patient Name:  Janie ANDERSON  Image ID:  a3af933900637d1538ba1eb72232aafc  Class Name:  Nodule/Mass\n",
      "Patient Id:  478 Patient Name:  Sandra GARCIA  Image ID:  587528f7700a11f9cbeae13bc7c24bc8  Class Name:  Nodule/Mass\n",
      "Patient Id:  491 Patient Name:  Gerald THOMPSON  Image ID:  87292fd850fa8494048bbdae18312907  Class Name:  Nodule/Mass\n",
      "Patient Id:  509 Patient Name:  Barbara THOMPSON  Image ID:  a55870e18b1417f33b4d544c5893fe59  Class Name:  Nodule/Mass\n",
      "Patient Id:  509 Patient Name:  Barbara THOMPSON  Image ID:  f6502a2fcaa749e889a4cafb37227248  Class Name:  Nodule/Mass\n",
      "Patient Id:  514 Patient Name:  Clydene THOMPSON  Image ID:  20a92721508c6b74dac74143d3221152  Class Name:  Nodule/Mass\n",
      "Patient Id:  517 Patient Name:  Elaine RODRIGUEZ  Image ID:  461047418073179170ff04527460a0c6  Class Name:  Nodule/Mass\n",
      "Patient Id:  517 Patient Name:  Elaine RODRIGUEZ  Image ID:  817156a6b23080b1a200ec0b0a2f36c2  Class Name:  Nodule/Mass\n",
      "Patient Id:  521 Patient Name:  Patricia MARTIN  Image ID:  bef145a9dd524d1afdb2394c953bb978  Class Name:  Nodule/Mass\n",
      "Patient Id:  541 Patient Name:  Kenneth THOMPSON  Image ID:  9c76e31a24a12cc234f3a6e3fbd34cea  Class Name:  Nodule/Mass\n",
      "Patient Id:  559 Patient Name:  Grover WHITE  Image ID:  9666b4ca7912fd3909c3adaaae90fb11  Class Name:  Nodule/Mass\n",
      "Patient Id:  568 Patient Name:  Pat HERNANDEZ  Image ID:  7928b9dff786e3dc4951c30dd911ba2d  Class Name:  Nodule/Mass\n",
      "Patient Id:  595 Patient Name:  Gary MARTINEZ  Image ID:  e7136e97a466963b452941e91b6330fe  Class Name:  Nodule/Mass\n",
      "Patient Id:  645 Patient Name:  Patricia MARTINEZ  Image ID:  202cdbe91ad9e9d4e99be4b09611fa84  Class Name:  Nodule/Mass\n",
      "Patient Id:  651 Patient Name:  Judy ADAMS  Image ID:  68669ec2e73171c79b6f9d2225fbd4f0  Class Name:  Nodule/Mass\n",
      "Patient Id:  664 Patient Name:  Robert RODRIGUEZ  Image ID:  c8205cbdfff77ee90770156c3075a38f  Class Name:  Nodule/Mass\n",
      "Patient Id:  691 Patient Name:  Julia MARTIN  Image ID:  6462c0187cc76000952ba43631f027fd  Class Name:  Nodule/Mass\n",
      "Patient Id:  696 Patient Name:  Johnny HERNANDEZ  Image ID:  4fb8b42ce575d32e3bc864ac4b72b46f  Class Name:  Nodule/Mass\n",
      "Patient Id:  697 Patient Name:  Vivian WILSON  Image ID:  43d6a61fac5fb77bbf83e0070b914c82  Class Name:  Nodule/Mass\n",
      "Patient Id:  697 Patient Name:  Vivian WILSON  Image ID:  5d911ff93f3820e66d76ffe822300426  Class Name:  Nodule/Mass\n",
      "Patient Id:  705 Patient Name:  Joy JACKSON  Image ID:  1e1dcf1ea1d974a5fea81b7616a11723  Class Name:  Nodule/Mass\n",
      "Patient Id:  709 Patient Name:  Lee GARCIA  Image ID:  13789084b882efd4810ca26dbfff3858  Class Name:  Nodule/Mass\n",
      "Patient Id:  738 Patient Name:  John MARTINEZ  Image ID:  699a1e44e265a9a8d41b404cedae6842  Class Name:  Nodule/Mass\n",
      "Patient Id:  751 Patient Name:  Dixie LOPEZ  Image ID:  ceec47e464c3dab60af04cd0a5122cf0  Class Name:  Nodule/Mass\n",
      "Patient Id:  771 Patient Name:  Deborah MOORE  Image ID:  127c8c92b4e4393323efcde8c536de93  Class Name:  Nodule/Mass\n",
      "Patient Id:  785 Patient Name:  Donna JACKSON  Image ID:  b2df3c7adbabc1dfe92f13bc9ba744ef  Class Name:  Nodule/Mass\n",
      "Patient Id:  815 Patient Name:  Valerie JONES  Image ID:  4fbeeb5466485b289c75a393b8e03dd5  Class Name:  Nodule/Mass\n",
      "Patient Id:  823 Patient Name:  Craig MOORE  Image ID:  990100555b4fe76dfdd55171e8fcc8a9  Class Name:  Nodule/Mass\n",
      "Patient Id:  835 Patient Name:  Elnora JACKSON  Image ID:  9254bdb75c1c1dfe7822a734b055b6ff  Class Name:  Nodule/Mass\n",
      "Patient Id:  838 Patient Name:  Margo MILLER  Image ID:  ccc7e89355254a0334fdd9b4c61d8402  Class Name:  Nodule/Mass\n",
      "Patient Id:  843 Patient Name:  Delores WILSON  Image ID:  4170940c52599e7c3bb9b4088bb3d884  Class Name:  Nodule/Mass\n",
      "Patient Id:  855 Patient Name:  Delma MOORE  Image ID:  9ab8268a94a58960cf1045e60a2d71a3  Class Name:  Nodule/Mass\n",
      "Patient Id:  861 Patient Name:  Paul WHITE  Image ID:  2a176d08f99af402c877cde732008c46  Class Name:  Nodule/Mass\n",
      "Patient Id:  865 Patient Name:  Leonard DAVIS  Image ID:  04d8c516c82ccf6d54c4f4ade2cd9417  Class Name:  Nodule/Mass\n",
      "Patient Id:  871 Patient Name:  Alma GARCIA  Image ID:  a1099e200fda2e6dc8c80d691fc6e70d  Class Name:  Nodule/Mass\n",
      "Patient Id:  874 Patient Name:  Paul MILLER  Image ID:  3e7261e033146c6a7ae60566a7a12fed  Class Name:  Nodule/Mass\n",
      "Patient Id:  893 Patient Name:  Carol THOMPSON  Image ID:  2dae0b56a64f3708706e63711d970243  Class Name:  Nodule/Mass\n",
      "Patient Id:  903 Patient Name:  Patrick MARTINEZ  Image ID:  5125bef2ea04ca1c3c197576ffccebe5  Class Name:  Nodule/Mass\n",
      "Patient Id:  903 Patient Name:  Patrick MARTINEZ  Image ID:  e9954e6e3b2d0c5bf990a519c0ba5abe  Class Name:  Nodule/Mass\n",
      "Patient Id:  912 Patient Name:  Charles LOPEZ  Image ID:  1b2a7adb5705d9e3f5b63939046d93c7  Class Name:  Nodule/Mass\n",
      "Patient Id:  920 Patient Name:  Billy HALL  Image ID:  15fd19174078e6e85ca8a6521a367ae6  Class Name:  Nodule/Mass\n",
      "Patient Id:  921 Patient Name:  Juana THOMPSON  Image ID:  84a27b87601b81cd39889ced2d489f70  Class Name:  Nodule/Mass\n",
      "Patient Id:  922 Patient Name:  James JACKSON  Image ID:  b489964b59d3f6f9070e45a02e469d8b  Class Name:  Nodule/Mass\n",
      "Patient Id:  930 Patient Name:  Houston PEREZ  Image ID:  de20b8c80c04bd2dbe0782fb21738588  Class Name:  Nodule/Mass\n",
      "Patient Id:  939 Patient Name:  Rosa MARTIN  Image ID:  4e0856fe29f4d2eecc45dcac43c39c1e  Class Name:  Nodule/Mass\n",
      "Patient Id:  962 Patient Name:  Lucinda TAYLOR  Image ID:  27b822c5d3b354f096dfb788fd3fa636  Class Name:  Nodule/Mass\n",
      "Patient Id:  962 Patient Name:  Lucinda TAYLOR  Image ID:  4350258eb4d7ec91137c01233fe0a51c  Class Name:  Nodule/Mass\n",
      "Patient Id:  985 Patient Name:  Kathleen MILLER  Image ID:  bc87c2265556912b25d36f2fef105a01  Class Name:  Nodule/Mass\n",
      "Patient Id:  1002 Patient Name:  Elmer JACKSON  Image ID:  9c5119675b20f4718858b071640754f0  Class Name:  Nodule/Mass\n",
      "Patient Id:  1004 Patient Name:  Harold THOMPSON  Image ID:  90dcff38c040287173fa24f87da5270b  Class Name:  Nodule/Mass\n",
      "Patient Id:  1008 Patient Name:  Viola BROWN  Image ID:  27e113d3d158dbdd548b534c26164e55  Class Name:  Nodule/Mass\n",
      "Patient Id:  1009 Patient Name:  James GARCIA  Image ID:  fccdeeae9c0bd0c2e13d2e9220ada9a4  Class Name:  Nodule/Mass\n",
      "Patient Id:  1018 Patient Name:  Frances MILLER  Image ID:  cf01a407b4f06bb25fae7b729f65a602  Class Name:  Nodule/Mass\n",
      "Patient Id:  1032 Patient Name:  Cathy THOMPSON  Image ID:  330b3939ea1fe042ad347e8d02abc393  Class Name:  Nodule/Mass\n",
      "Patient Id:  1035 Patient Name:  Virgil JACKSON  Image ID:  b45212c0181a586f4e50896ed1ade593  Class Name:  Nodule/Mass\n",
      "Patient Id:  1038 Patient Name:  John THOMAS  Image ID:  4ff71ca20844206cc9680124fd80c4c5  Class Name:  Nodule/Mass\n",
      "Patient Id:  1040 Patient Name:  Sandra TAYLOR  Image ID:  a9ed4b5aaf129325369ebae1cfd5e321  Class Name:  Nodule/Mass\n",
      "Patient Id:  1063 Patient Name:  Marlene MILLER  Image ID:  a867488559f1df515ce34cdfb444df3a  Class Name:  Nodule/Mass\n",
      "Patient Id:  1083 Patient Name:  Susan WHITE  Image ID:  41c3934a9d606ac5ab8d0ed35bb4b8c7  Class Name:  Nodule/Mass\n",
      "Patient Id:  1092 Patient Name:  Carolyn WILSON  Image ID:  8d53f1f5d327b1e1642bdb63d697c4fe  Class Name:  Nodule/Mass\n",
      "Patient Id:  1097 Patient Name:  Chuck MILLER  Image ID:  d617b24dad98aa3b1f2d645828095355  Class Name:  Nodule/Mass\n",
      "Patient Id:  1104 Patient Name:  Carolyn JACKSON  Image ID:  42480dff233be45d4fdca62069ea267f  Class Name:  Nodule/Mass\n",
      "Patient Id:  1104 Patient Name:  Carolyn JACKSON  Image ID:  e4a528876744e3a37158645935028c57  Class Name:  Nodule/Mass\n",
      "Patient Id:  1118 Patient Name:  Maynard LEE  Image ID:  5c3e47918186111b16b0a90f0f75bbc9  Class Name:  Nodule/Mass\n",
      "Patient Id:  1123 Patient Name:  Kathleen WILLIAMS  Image ID:  b84f3ca1815191737e4e635dc93d124a  Class Name:  Nodule/Mass\n",
      "Patient Id:  1134 Patient Name:  Judith WILSON  Image ID:  a673256f7b975e11bf89dbb29f4565b9  Class Name:  Nodule/Mass\n",
      "Patient Id:  1148 Patient Name:  Darrell THOMPSON  Image ID:  b0aff2cb1054d3a5ffcdeb33b2f53ab6  Class Name:  Nodule/Mass\n",
      "Patient Id:  1149 Patient Name:  Mavis GARCIA  Image ID:  fb1150a90723df92e2385c956db5aeef  Class Name:  Nodule/Mass\n",
      "Patient Id:  1151 Patient Name:  Kenneth TAYLOR  Image ID:  7a74f4e463b72f018838f26cf7aabdf2  Class Name:  Nodule/Mass\n",
      "Patient Id:  1159 Patient Name:  Karen BROWN  Image ID:  6fb36dc586cdfd180b79f23f4cd447f0  Class Name:  Nodule/Mass\n",
      "Patient Id:  1199 Patient Name:  Sergio MARTINEZ  Image ID:  aaeb1dc488bcadea5a0861e50063ab98  Class Name:  Nodule/Mass\n",
      "Patient Id:  1226 Patient Name:  Christy BROWN  Image ID:  7b35cd7b025cfc4bb4099e84f9b0eeeb  Class Name:  Nodule/Mass\n",
      "Patient Id:  1232 Patient Name:  John WILSON  Image ID:  2c6c48665c4d007b795cbcb57da481bd  Class Name:  Nodule/Mass\n",
      "Patient Id:  1232 Patient Name:  John WILSON  Image ID:  bf0ac90b81bd62e7444fbe3142506e3d  Class Name:  Nodule/Mass\n",
      "Patient Id:  1247 Patient Name:  John THOMPSON  Image ID:  3b5957a38160102563037a3769a383be  Class Name:  Nodule/Mass\n",
      "Patient Id:  1248 Patient Name:  Janice MILLER  Image ID:  8e8108b7709b8f9f60eabe001816dbd4  Class Name:  Nodule/Mass\n",
      "Patient Id:  1289 Patient Name:  Richard JACKSON  Image ID:  86fa4d1e5cc255212325d29ff77600fe  Class Name:  Nodule/Mass\n",
      "Patient Id:  1309 Patient Name:  Ellen HERNANDEZ  Image ID:  f635b5ecbb18bd0b90c881dd055fb089  Class Name:  Nodule/Mass\n",
      "Patient Id:  1317 Patient Name:  Loretta HERNANDEZ  Image ID:  a6a3e8472da94404496b18198004f698  Class Name:  Nodule/Mass\n",
      "Patient Id:  1325 Patient Name:  Robert BROWN  Image ID:  938d2fcf6e65f8b9f1489dd8ceab7ca8  Class Name:  Nodule/Mass\n",
      "Patient Id:  1348 Patient Name:  Herbert MARTINEZ  Image ID:  99ccfe1695993a5275d11aad4e2abb9c  Class Name:  Nodule/Mass\n",
      "Patient Id:  1359 Patient Name:  Barbara MARTIN  Image ID:  262cd3e70a033d61a7236aa971be339a  Class Name:  Nodule/Mass\n",
      "Patient Id:  1394 Patient Name:  Ronald JACKSON  Image ID:  3123f4eaee1eb304261c91bb668b0631  Class Name:  Nodule/Mass\n",
      "Patient Id:  1408 Patient Name:  Patricia DAVIS  Image ID:  1118706aafb9e28236dda9943e3bb924  Class Name:  Nodule/Mass\n",
      "Patient Id:  1424 Patient Name:  Eileen WILSON  Image ID:  8b5b04ab245a224b4a35b010d0de631f  Class Name:  Nodule/Mass\n",
      "Patient Id:  1438 Patient Name:  Patricia JACKSON  Image ID:  23d21fefa17763a4434cd67b576f09f1  Class Name:  Nodule/Mass\n",
      "Patient Id:  1467 Patient Name:  Ernest MARTINEZ  Image ID:  997d02719c4f6b77010d2ea5bd839edd  Class Name:  Nodule/Mass\n",
      "Patient Id:  1499 Patient Name:  Richard WILSON  Image ID:  0511640ec15281c29b396689471340dd  Class Name:  Nodule/Mass\n",
      "Patient Id:  1500 Patient Name:  Darlene THOMPSON  Image ID:  bc75c3442c357666f6db26efb97e391d  Class Name:  Nodule/Mass\n",
      "Patient Id:  1536 Patient Name:  Susan HERNANDEZ  Image ID:  1280dc55c1ff852024be232c2942e3fd  Class Name:  Nodule/Mass\n",
      "Patient Id:  1539 Patient Name:  Donna THOMAS  Image ID:  f2e5eb5de5ca28f05adcc8c37973e85f  Class Name:  Nodule/Mass\n",
      "Patient Id:  1541 Patient Name:  Vernell LOPEZ  Image ID:  8073db37a31c49306c6aad99a7b84808  Class Name:  Nodule/Mass\n",
      "Patient Id:  1562 Patient Name:  William GARCIA  Image ID:  16c79941fd188812a67288df121c8265  Class Name:  Nodule/Mass\n",
      "Patient Id:  1613 Patient Name:  Kevin WHITE  Image ID:  511a55fa01b995f09cdb64b543b2d241  Class Name:  Nodule/Mass\n",
      "Patient Id:  1636 Patient Name:  Norma GARCIA  Image ID:  5bcc6e26a5dae4bcb41bebf8661bdde2  Class Name:  Nodule/Mass\n",
      "Patient Id:  1679 Patient Name:  James MARTINEZ  Image ID:  31e84e485efdbb4047c66f17e5b52e8f  Class Name:  Nodule/Mass\n",
      "Patient Id:  1681 Patient Name:  Russell JOHNSON  Image ID:  94a727826ddb7c3fe4db682ded5c0541  Class Name:  Nodule/Mass\n",
      "Patient Id:  1703 Patient Name:  Frances GARCIA  Image ID:  12268c1ea761140eafee75acabc44fb0  Class Name:  Nodule/Mass\n",
      "Patient Id:  1716 Patient Name:  George TAYLOR  Image ID:  41fdc5f2d25a364bd7f525ef84fb731c  Class Name:  Nodule/Mass\n",
      "Patient Id:  1761 Patient Name:  Ann LOPEZ  Image ID:  aefa0a033f021f7e0755000a83e57acd  Class Name:  Nodule/Mass\n",
      "Patient Id:  1785 Patient Name:  Edward HERNANDEZ  Image ID:  f0aaa2b7efab4e31457267461744f53c  Class Name:  Nodule/Mass\n",
      "Patient Id:  1812 Patient Name:  William WILSON  Image ID:  25fca74811355266a2c7a0bc442db4e3  Class Name:  Nodule/Mass\n",
      "Patient Id:  1822 Patient Name:  Marjorie JACKSON  Image ID:  253760c0117371987f0cbc8b20e684de  Class Name:  Nodule/Mass\n",
      "Patient Id:  1841 Patient Name:  Cathlene MILLER  Image ID:  11eda2bb6f6db5355ffc8ec8e36a8866  Class Name:  Nodule/Mass\n",
      "Patient Id:  1845 Patient Name:  John THOMPSON  Image ID:  8eea7c2445255538d0785405b6832ff9  Class Name:  Nodule/Mass\n",
      "Patient Id:  1869 Patient Name:  Ralph DAVIS  Image ID:  77b13d39f6c20a45830c2a09659eb00a  Class Name:  Nodule/Mass\n",
      "Patient Id:  1873 Patient Name:  John JONES  Image ID:  7199ee845675a788a07d629d325a431a  Class Name:  Nodule/Mass\n",
      "Patient Id:  1887 Patient Name:  Mary ANDERSON  Image ID:  68ab5b60e34d374002405dfe7f14b7ff  Class Name:  Nodule/Mass\n",
      "Patient Id:  1904 Patient Name:  William ADAMS  Image ID:  e04fc8c293aab8b63db7576e123a7d84  Class Name:  Nodule/Mass\n",
      "Patient Id:  1927 Patient Name:  Terry JOHNSON  Image ID:  566150c4fe08a31a5a17d9d9f6c5f21f  Class Name:  Nodule/Mass\n",
      "Patient Id:  1933 Patient Name:  Dale RODRIGUEZ  Image ID:  e4e376d9aae02fa803ea2d9128aa3131  Class Name:  Nodule/Mass\n",
      "Patient Id:  1961 Patient Name:  Robert MOORE  Image ID:  428de3bd0df77dfd8d747ee481e74b15  Class Name:  Nodule/Mass\n",
      "Patient Id:  1983 Patient Name:  Edwina HALL  Image ID:  e0b367fec82067871659e5ed847cfb63  Class Name:  Nodule/Mass\n",
      "Patient Id:  1985 Patient Name:  Cheryl HERNANDEZ  Image ID:  ba069b56d87a5ff7be250ed5abebcc07  Class Name:  Nodule/Mass\n",
      "Patient Id:  1987 Patient Name:  Lynda LEE  Image ID:  86b6e82323a0bc62ea29acad47cb8b4b  Class Name:  Nodule/Mass\n",
      "Patient Id:  2018 Patient Name:  Josephine MARTIN  Image ID:  8c93071f4d3c65844fe16c44a12a7213  Class Name:  Nodule/Mass\n",
      "Patient Id:  2021 Patient Name:  Willie LEE  Image ID:  0b9dd99214ab1ef052cdfd62fdfe82c4  Class Name:  Nodule/Mass\n",
      "Patient Id:  2023 Patient Name:  Donna MILLER  Image ID:  a06ad52f2d2ee79591f6381b9e1c19c3  Class Name:  Nodule/Mass\n",
      "Patient Id:  2038 Patient Name:  Ronald HERNANDEZ  Image ID:  b9bf0f1b540eaf41cb590ee0a15fe0e7  Class Name:  Nodule/Mass\n",
      "Patient Id:  2069 Patient Name:  James JACKSON  Image ID:  834f395ef75cdefe26c9d2cb3cf809b4  Class Name:  Nodule/Mass\n",
      "Patient Id:  2072 Patient Name:  Cleta THOMAS  Image ID:  dde109688e3f9deac4ab260b9b512ffd  Class Name:  Nodule/Mass\n",
      "Patient Id:  2096 Patient Name:  Nelson RODRIGUEZ  Image ID:  49ffdc3f7a8d0fc1f91335975ac6b44f  Class Name:  Nodule/Mass\n",
      "Patient Id:  2096 Patient Name:  Nelson RODRIGUEZ  Image ID:  97fd11ea81a44af39e0f8bac372acb75  Class Name:  Nodule/Mass\n",
      "Patient Id:  2097 Patient Name:  Humberto JOHNSON  Image ID:  1025d5d08103bc7d79d1853d368b42e8  Class Name:  Nodule/Mass\n",
      "Patient Id:  2108 Patient Name:  Michael MILLER  Image ID:  aa974c2b6ea5fcf05bab269a9c9d4437  Class Name:  Nodule/Mass\n",
      "Patient Id:  2135 Patient Name:  Larry LOPEZ  Image ID:  68c396ded603aae07cb3027b1d2e8a90  Class Name:  Nodule/Mass\n",
      "Patient Id:  2154 Patient Name:  Sandra GARCIA  Image ID:  4ccc63ecf9efef91deef0f5849e3ad34  Class Name:  Nodule/Mass\n",
      "Patient Id:  2154 Patient Name:  Sandra GARCIA  Image ID:  d46fcfc88827c952da48421ecdac7e30  Class Name:  Nodule/Mass\n",
      "Patient Id:  2160 Patient Name:  Sharon MOORE  Image ID:  4c4cf43e7c8529c430c1d1295fee1784  Class Name:  Nodule/Mass\n",
      "Patient Id:  2187 Patient Name:  Martin JOHNSON  Image ID:  ed4171f1a99ec4a60874ce52ab07393a  Class Name:  Nodule/Mass\n",
      "Patient Id:  2190 Patient Name:  John HERNANDEZ  Image ID:  bf5674a53aa324a186a71c78c2810679  Class Name:  Nodule/Mass\n",
      "Patient Id:  2207 Patient Name:  Susan LOPEZ  Image ID:  2c49a0717dffbc97f2236bd0e9ae62a7  Class Name:  Nodule/Mass\n",
      "Patient Id:  2232 Patient Name:  Elaine LEE  Image ID:  fb96a81650614fc467bc6e5af94543b8  Class Name:  Nodule/Mass\n",
      "Patient Id:  2233 Patient Name:  Cortland WILSON  Image ID:  fa93ce20869f64a1d44d6b8b3d962061  Class Name:  Nodule/Mass\n",
      "Patient Id:  2243 Patient Name:  Emilio HERNANDEZ  Image ID:  e652b2cebae0a6c74e292b3112d29e6e  Class Name:  Nodule/Mass\n",
      "Patient Id:  2269 Patient Name:  Janice WHITE  Image ID:  b761841b1bffc40e56e97a869f994f69  Class Name:  Nodule/Mass\n",
      "Patient Id:  2270 Patient Name:  Walter RODRIGUEZ  Image ID:  61f1b63d57ebeda7057f052360cd7810  Class Name:  Nodule/Mass\n",
      "Patient Id:  2273 Patient Name:  Linda JONES  Image ID:  c75d652b2cd934bb797a9a02c6aec8ee  Class Name:  Nodule/Mass\n",
      "Patient Id:  2279 Patient Name:  Joanne MILLER  Image ID:  889347926c284c6c61234b357153d327  Class Name:  Nodule/Mass\n",
      "Patient Id:  2336 Patient Name:  Glenda WHITE  Image ID:  9b1d076abcb937c2e19f7c2e10dbcbc0  Class Name:  Nodule/Mass\n",
      "Patient Id:  2348 Patient Name:  Eileen TAYLOR  Image ID:  1aef7fa409ee0cb4579032577e02e9cb  Class Name:  Nodule/Mass\n",
      "Patient Id:  2362 Patient Name:  Larry MARTINEZ  Image ID:  6e5776831430f043f18d70c93239457a  Class Name:  Nodule/Mass\n",
      "Patient Id:  2370 Patient Name:  Dorothy LOPEZ  Image ID:  469f62e3e53dd6327aa266bea169f198  Class Name:  Nodule/Mass\n",
      "Patient Id:  2379 Patient Name:  Rebecca THOMAS  Image ID:  13183cb48b0aae02e88c3f45547d393a  Class Name:  Nodule/Mass\n",
      "Patient Id:  2382 Patient Name:  Jack TAYLOR  Image ID:  13fcd440ee477324ffe130645d60b350  Class Name:  Nodule/Mass\n",
      "Patient Id:  2392 Patient Name:  Janet THOMAS  Image ID:  2f5a53aead893fd99947027a083f649d  Class Name:  Nodule/Mass\n",
      "Patient Id:  2401 Patient Name:  Patricia HERNANDEZ  Image ID:  a64b5f68552ca1639d8662089d95fed8  Class Name:  Nodule/Mass\n",
      "Patient Id:  2418 Patient Name:  Gerald RODRIGUEZ  Image ID:  c69e4be327f6c723c1d45f7e4d8540fb  Class Name:  Nodule/Mass\n",
      "Patient Id:  2425 Patient Name:  Dorita WHITE  Image ID:  42fba4329860d5995fea57553104907a  Class Name:  Nodule/Mass\n",
      "Patient Id:  2425 Patient Name:  Dorita WHITE  Image ID:  936fd5cff1c058d39817a08f58b72cae  Class Name:  Nodule/Mass\n",
      "Patient Id:  2435 Patient Name:  Augustine MARTIN  Image ID:  7d96035b3771e1c56dc1f47f37a35672  Class Name:  Nodule/Mass\n",
      "Patient Id:  2447 Patient Name:  Cheryl TAYLOR  Image ID:  5d5a37ba110538a40cbc037126af47d3  Class Name:  Nodule/Mass\n",
      "Patient Id:  2451 Patient Name:  Alexander DAVIS  Image ID:  c723c6ffb2f746dff02c9538c6c593f4  Class Name:  Nodule/Mass\n",
      "Patient Id:  2456 Patient Name:  Tony MOORE  Image ID:  baee2b2532f77cf56a0961369c712346  Class Name:  Nodule/Mass\n",
      "Patient Id:  2457 Patient Name:  Dick MILLER  Image ID:  d7eb94980cc0b411e02e7e792f686eef  Class Name:  Nodule/Mass\n",
      "Patient Id:  2457 Patient Name:  Dick MILLER  Image ID:  de6e8f086381d773cb6290df0d6a7eb9  Class Name:  Nodule/Mass\n",
      "Patient Id:  2468 Patient Name:  John LEE  Image ID:  24dd3c2b634ac8b951b5aa1b24a536c8  Class Name:  Nodule/Mass\n",
      "Patient Id:  2485 Patient Name:  Bonnie ANDERSON  Image ID:  360c94f96b9beac4211eb22003a0f732  Class Name:  Nodule/Mass\n",
      "Patient Id:  2492 Patient Name:  Harvey MARTINEZ  Image ID:  2aa1314e73226a5551d4e27f4925c967  Class Name:  Nodule/Mass\n",
      "Patient Id:  2497 Patient Name:  Bobby TAYLOR  Image ID:  82877be2465c084b0b9bc186fc7f158f  Class Name:  Nodule/Mass\n",
      "Patient Id:  2501 Patient Name:  Richard BROWN  Image ID:  5bfab539ea74f0a5051707ca62f562b6  Class Name:  Nodule/Mass\n",
      "Patient Id:  2523 Patient Name:  Ramona MOORE  Image ID:  77fb399d095bb11d1344a1a114f59376  Class Name:  Nodule/Mass\n",
      "Patient Id:  2584 Patient Name:  Raymond TAYLOR  Image ID:  7237fe007c5cab239011e89137eee3a7  Class Name:  Nodule/Mass\n",
      "Patient Id:  2603 Patient Name:  Kenneth MOORE  Image ID:  5156d69e540648eb952371ec5c80bc81  Class Name:  Nodule/Mass\n",
      "Patient Id:  2615 Patient Name:  Brenda MARTINEZ  Image ID:  4fc49c5102e8cc394d6e7c4194c45b4c  Class Name:  Nodule/Mass\n",
      "Patient Id:  2624 Patient Name:  Dennis MARTIN  Image ID:  4f3f489a6b0257782ee57deaba29b0d8  Class Name:  Nodule/Mass\n",
      "Patient Id:  2639 Patient Name:  Mary LOPEZ  Image ID:  69d19f0d8ac223581188a5adf05cd313  Class Name:  Nodule/Mass\n",
      "Patient Id:  2646 Patient Name:  Cathy MARTINEZ  Image ID:  77b13969911c7f66060294c6cd76f58a  Class Name:  Nodule/Mass\n",
      "Patient Id:  2663 Patient Name:  Pamela MARTINEZ  Image ID:  522dea0833b59836405679f464299eac  Class Name:  Nodule/Mass\n",
      "Patient Id:  2666 Patient Name:  Sharon WILSON  Image ID:  b42962e103033ae66afb049d00cb477c  Class Name:  Nodule/Mass\n",
      "Patient Id:  2670 Patient Name:  Karen RODRIGUEZ  Image ID:  2218a9269d253e672bbf6dbe8da48f8f  Class Name:  Nodule/Mass\n",
      "Patient Id:  2671 Patient Name:  Roger GARCIA  Image ID:  3f4c0ff4b6e48838d7d9ddd9573f14b7  Class Name:  Nodule/Mass\n",
      "Patient Id:  2671 Patient Name:  Roger GARCIA  Image ID:  f245dd1ae0f1919c98f3cc4e2c8765c3  Class Name:  Nodule/Mass\n",
      "Patient Id:  2695 Patient Name:  Geraldine BROWN  Image ID:  41b743f4d7c76feea7da57a6a7d2373a  Class Name:  Nodule/Mass\n",
      "Patient Id:  2712 Patient Name:  Lana DAVIS  Image ID:  4492c069f7ada2a19b95a740e9af64e4  Class Name:  Nodule/Mass\n",
      "Patient Id:  2721 Patient Name:  Kenneth MILLER  Image ID:  4f1aea7b3a7d3d3af2a5367565bc4f37  Class Name:  Nodule/Mass\n",
      "Patient Id:  2736 Patient Name:  Ellis HERNANDEZ  Image ID:  878e449975ff3b3fe915c976e7b8349e  Class Name:  Nodule/Mass\n",
      "Patient Id:  2748 Patient Name:  Linda LEE  Image ID:  7520d54e60d31f2310d1eb5c77a7507a  Class Name:  Nodule/Mass\n",
      "Patient Id:  2766 Patient Name:  Carol JOHNSON  Image ID:  a629d0f2bd9dfde3991ef4aec75e1c8e  Class Name:  Nodule/Mass\n",
      "Patient Id:  2775 Patient Name:  Dorothy ANDERSON  Image ID:  69e693c4c5f1f8ad419b1d2ed43c7375  Class Name:  Nodule/Mass\n",
      "Patient Id:  2790 Patient Name:  Darlene JACKSON  Image ID:  49ff79c0235064bd067c31148066acf0  Class Name:  Nodule/Mass\n",
      "Patient Id:  2794 Patient Name:  Geneva LOPEZ  Image ID:  abc4b79db99cd7f87b59ae2ad55c169f  Class Name:  Nodule/Mass\n",
      "Patient Id:  2810 Patient Name:  Robert MILLER  Image ID:  01bae93cacf4bd0206de3ac69ce2bfbb  Class Name:  Nodule/Mass\n",
      "Patient Id:  2832 Patient Name:  Earl RODRIGUEZ  Image ID:  6d5acf3f8a973a26844d617fffe72998  Class Name:  Nodule/Mass\n",
      "Patient Id:  2887 Patient Name:  Yvonna JACKSON  Image ID:  08daf3cf9bcf3d306ad08dbb9a53f4f2  Class Name:  Nodule/Mass\n",
      "Patient Id:  2890 Patient Name:  Michael GARCIA  Image ID:  54977dc8364b21ccbf2e43d2fdb09837  Class Name:  Nodule/Mass\n",
      "Patient Id:  2903 Patient Name:  Leslie RODRIGUEZ  Image ID:  cd907f4eff4c31b66d2feb2fa7185d36  Class Name:  Nodule/Mass\n",
      "Patient Id:  2912 Patient Name:  Becky JACKSON  Image ID:  e4e32ce0e061d700c0afda13faa45b1d  Class Name:  Nodule/Mass\n",
      "Patient Id:  2930 Patient Name:  Beth MOORE  Image ID:  4f58c1bba4416c27de765e6120ea84e1  Class Name:  Nodule/Mass\n",
      "Patient Id:  2932 Patient Name:  Adele THOMAS  Image ID:  bf742708d94bd9f8620db2f6f4b596f5  Class Name:  Nodule/Mass\n",
      "Patient Id:  2985 Patient Name:  Melanie MILLER  Image ID:  7f3bc37df76505eeb37bec4a0bc3b945  Class Name:  Nodule/Mass\n",
      "Patient Id:  3009 Patient Name:  William THOMAS  Image ID:  11acc69b72d448e98a3c2a7d9e57618d  Class Name:  Nodule/Mass\n",
      "Patient Id:  3016 Patient Name:  Gloria MARTIN  Image ID:  6fbeb3ec1ec16b267f98fc12cbab9b6f  Class Name:  Nodule/Mass\n",
      "Patient Id:  3017 Patient Name:  Gerald RODRIGUEZ  Image ID:  573ff866dcd6b3a8805c5b87c4df8ff8  Class Name:  Nodule/Mass\n",
      "Patient Id:  3021 Patient Name:  Mary ANDERSON  Image ID:  61a153c76cdd06fc381288fe5ef546eb  Class Name:  Nodule/Mass\n",
      "Patient Id:  3039 Patient Name:  Tim ANDERSON  Image ID:  579ceeec7e5374a80d88551c81db441a  Class Name:  Nodule/Mass\n",
      "Patient Id:  3048 Patient Name:  Joseph RODRIGUEZ  Image ID:  194948df6c373e542f180aabe09894e8  Class Name:  Nodule/Mass\n",
      "Patient Id:  3062 Patient Name:  Azalee THOMAS  Image ID:  fc853c552cdae3eb0eb78f6101922b06  Class Name:  Nodule/Mass\n",
      "Patient Id:  3067 Patient Name:  Mona MARTIN  Image ID:  3b954ff67ca7bcf8d10be0d2a9b193ae  Class Name:  Nodule/Mass\n",
      "Patient Id:  3078 Patient Name:  Clayton LEE  Image ID:  1049b2ea72618fc2406996e0d869d317  Class Name:  Nodule/Mass\n",
      "Patient Id:  3121 Patient Name:  George MARTIN  Image ID:  1af9eca90157fa3d3c04c3ac90ccb9a9  Class Name:  Nodule/Mass\n",
      "Patient Id:  3161 Patient Name:  Cathleen MARTINEZ  Image ID:  333feefeb39e5d2df1e5de640c82a9a4  Class Name:  Nodule/Mass\n",
      "Patient Id:  3167 Patient Name:  Thomas MARTIN  Image ID:  d0252f72f9db197d04d2f59c8f77f908  Class Name:  Nodule/Mass\n",
      "Patient Id:  3175 Patient Name:  Mary JACKSON  Image ID:  06b04918044786c36584a86273d72747  Class Name:  Nodule/Mass\n",
      "Patient Id:  3192 Patient Name:  Dale MOORE  Image ID:  b0bef1b57611726c4b0c636264fe5061  Class Name:  Nodule/Mass\n",
      "Patient Id:  3196 Patient Name:  Margaret TAYLOR  Image ID:  ba1cf5031a6f73a997901af57110de77  Class Name:  Nodule/Mass\n",
      "Patient Id:  3200 Patient Name:  Wanda MOORE  Image ID:  9df823bdb8130ffcea2bee7544a0db94  Class Name:  Nodule/Mass\n",
      "Patient Id:  3202 Patient Name:  Sharon THOMPSON  Image ID:  5076848df8fa698b517a34f6a8246d43  Class Name:  Nodule/Mass\n",
      "Patient Id:  3215 Patient Name:  Arthur THOMAS  Image ID:  ce371ba7a1fb344e711357b2a55c8754  Class Name:  Nodule/Mass\n",
      "Patient Id:  3240 Patient Name:  Norbert WILSON  Image ID:  6fa1438e182fd577efba73531c0c35a8  Class Name:  Nodule/Mass\n",
      "Patient Id:  3251 Patient Name:  Linda WRIGHT  Image ID:  96d4d2d2fff41438e38075881b7b0d58  Class Name:  Nodule/Mass\n",
      "Patient Id:  3264 Patient Name:  Charles HERNANDEZ  Image ID:  269af0bfa0e3246aa7b7330a3c510030  Class Name:  Nodule/Mass\n",
      "Patient Id:  3273 Patient Name:  John MARTINEZ  Image ID:  3873c800bc356d4752c3c5cd7f657bc5  Class Name:  Nodule/Mass\n",
      "Patient Id:  3275 Patient Name:  Sandra CLARK  Image ID:  4cbf38a5b1aeed126903357f867c2fc0  Class Name:  Nodule/Mass\n",
      "Patient Id:  3299 Patient Name:  Karen WILLIAMS  Image ID:  3a8d4d0553fda8c1021a74a0e59ae131  Class Name:  Nodule/Mass\n",
      "Patient Id:  3301 Patient Name:  Paula THOMAS  Image ID:  3c3977477c6ca3ea8a3d18ba0e4afed4  Class Name:  Nodule/Mass\n",
      "Patient Id:  3317 Patient Name:  Kathryn MARTINEZ  Image ID:  18ab1248c29601086e724c18891d2bee  Class Name:  Nodule/Mass\n",
      "Patient Id:  3318 Patient Name:  Fred JACKSON  Image ID:  0a75c2f2e7bc1090077b8ef4aeeeacce  Class Name:  Nodule/Mass\n",
      "Patient Id:  3328 Patient Name:  Dianne RODRIGUEZ  Image ID:  0a411e44ec67f3d5d80a5b3d5a3edca3  Class Name:  Nodule/Mass\n",
      "Patient Id:  3332 Patient Name:  Warren HERNANDEZ  Image ID:  447ffd3522ec98af212bfbea80f54023  Class Name:  Nodule/Mass\n",
      "Patient Id:  3338 Patient Name:  Janice MARTINEZ  Image ID:  6a189a482cee7b86116ba07b6c5a3579  Class Name:  Nodule/Mass\n",
      "Patient Id:  3339 Patient Name:  Berniece TAYLOR  Image ID:  42e45c17b9e92a9108ef6f2f47804d8a  Class Name:  Nodule/Mass\n",
      "Patient Id:  3402 Patient Name:  Cynthia MOORE  Image ID:  2021c6c746096cd28002e71ceb992c69  Class Name:  Nodule/Mass\n",
      "Patient Id:  3408 Patient Name:  Samuel MARTINEZ  Image ID:  1eb469f4d7f3c627bd265a57dbbf91b4  Class Name:  Nodule/Mass\n",
      "Patient Id:  3440 Patient Name:  Larry DAVIS  Image ID:  2cc27e3c32eea31bb6c57b7164a3c867  Class Name:  Nodule/Mass\n",
      "Patient Id:  3445 Patient Name:  David MARTIN  Image ID:  3dd04efbb7f8f0e2757e8e588350f8e0  Class Name:  Nodule/Mass\n",
      "Patient Id:  3449 Patient Name:  Dortha TAYLOR  Image ID:  c5dfd21f7ffbb5183cb8a2b7874de381  Class Name:  Nodule/Mass\n",
      "Patient Id:  3456 Patient Name:  Frances GARCIA  Image ID:  f561aa1fdb8a675552e5b0c17839023e  Class Name:  Nodule/Mass\n",
      "Patient Id:  3478 Patient Name:  Arthur RODRIGUEZ  Image ID:  9ca2725b69db57ebc2df26a7da70affb  Class Name:  Nodule/Mass\n",
      "Patient Id:  3492 Patient Name:  Patricia LEE  Image ID:  1c0edcab874f51772ec86ac6405a0a69  Class Name:  Nodule/Mass\n",
      "Patient Id:  3492 Patient Name:  Patricia LEE  Image ID:  df935ddeb1879b7cdf428682abb987b9  Class Name:  Nodule/Mass\n",
      "Patient Id:  3493 Patient Name:  Catherine WILLIAMS  Image ID:  f0c719e77a94983d22ad4a1e96e37f34  Class Name:  Nodule/Mass\n",
      "Patient Id:  3504 Patient Name:  Thomas WHITE  Image ID:  d3823d24855b6ef03c188e962948b4b9  Class Name:  Nodule/Mass\n",
      "Patient Id:  3532 Patient Name:  Jean TAYLOR  Image ID:  f7dd175ca0962155ec39311b997a5288  Class Name:  Nodule/Mass\n",
      "Patient Id:  3536 Patient Name:  Junior DAVIS  Image ID:  efa7592fab822d9a1d6dc92d31e41fa1  Class Name:  Nodule/Mass\n",
      "Patient Id:  3540 Patient Name:  Coy JONES  Image ID:  4d74dcaf2f76dd250ef660648ef8acc5  Class Name:  Nodule/Mass\n",
      "Patient Id:  3542 Patient Name:  Reginald ANDERSON  Image ID:  9392bf868724b18bb06b2ee710d69e12  Class Name:  Nodule/Mass\n",
      "Patient Id:  3554 Patient Name:  Aubrey JOHNSON  Image ID:  14155c990928bd35a34c5b63593cb300  Class Name:  Nodule/Mass\n",
      "Patient Id:  3554 Patient Name:  Aubrey JOHNSON  Image ID:  b3c00be8bb1e193775433d45ead67f95  Class Name:  Nodule/Mass\n",
      "Patient Id:  3566 Patient Name:  Sharon ANDERSON  Image ID:  63415dfe4d7eb0c122a6818e84195475  Class Name:  Nodule/Mass\n",
      "Patient Id:  3575 Patient Name:  Judith LOPEZ  Image ID:  7d746268923b15615c93334eff3a6baf  Class Name:  Nodule/Mass\n",
      "Patient Id:  3591 Patient Name:  Denis ALLEN  Image ID:  2eae70b57d68947a20d6d0cc8f9f2e58  Class Name:  Nodule/Mass\n",
      "Patient Id:  3600 Patient Name:  George MARTINEZ  Image ID:  6b6f79dad019a4dee92fa35456f75a48  Class Name:  Nodule/Mass\n",
      "Patient Id:  3600 Patient Name:  George MARTINEZ  Image ID:  9043e39c8e52843751e7cc9edc2c02e6  Class Name:  Nodule/Mass\n",
      "Patient Id:  3618 Patient Name:  Linda WHITE  Image ID:  99e1fdb74b8c507753026cd4ee28465c  Class Name:  Nodule/Mass\n",
      "Patient Id:  3635 Patient Name:  Darilyn LOPEZ  Image ID:  0f7ab20fb85469481df0c23360fac949  Class Name:  Nodule/Mass\n",
      "Patient Id:  3661 Patient Name:  Kathleen MARTIN  Image ID:  5260bd9fff6293f51f50232b2f0ebdcb  Class Name:  Nodule/Mass\n",
      "Patient Id:  3676 Patient Name:  Karen LOPEZ  Image ID:  8015e5edbf16541fef78e6f8859764e4  Class Name:  Nodule/Mass\n",
      "Patient Id:  3699 Patient Name:  Alan WILSON  Image ID:  d5f6e4ac57771303fe96ac40b177a28d  Class Name:  Nodule/Mass\n",
      "Patient Id:  3704 Patient Name:  Keith MOORE  Image ID:  a78e6dc6978392015fa78795c0aea8a7  Class Name:  Nodule/Mass\n",
      "Patient Id:  3717 Patient Name:  Boyce WILLIAMS  Image ID:  68291bf070ea8be26049e41d95b1bd25  Class Name:  Nodule/Mass\n",
      "Patient Id:  3719 Patient Name:  William MARTIN  Image ID:  997fdbeb9910b1d22539b9311cc565a5  Class Name:  Nodule/Mass\n",
      "Patient Id:  3719 Patient Name:  William MARTIN  Image ID:  c865945685e5f2dd91133e6a59a916d0  Class Name:  Nodule/Mass\n",
      "Patient Id:  3720 Patient Name:  Bob MILLER  Image ID:  6c35a010256b29d6db4956f5bffff4a2  Class Name:  Nodule/Mass\n",
      "Patient Id:  3731 Patient Name:  Margaret BROWN  Image ID:  4ac56d1d9d015150191e49197b8ed15e  Class Name:  Nodule/Mass\n",
      "Patient Id:  3748 Patient Name:  Maureen JACKSON  Image ID:  493a7af11aa1a9a1a676aba29e0c6f9d  Class Name:  Nodule/Mass\n",
      "Patient Id:  3756 Patient Name:  Catherine MARTINEZ  Image ID:  9548c30d5cd9f5051877d7070e1dc33c  Class Name:  Nodule/Mass\n",
      "Patient Id:  3766 Patient Name:  Peter MARTIN  Image ID:  1e96e84ac07738cd2f019b1c1d1aac5c  Class Name:  Nodule/Mass\n",
      "Patient Id:  3767 Patient Name:  Thearon HERNANDEZ  Image ID:  2479523e23486abd1d2ad666381eea86  Class Name:  Nodule/Mass\n",
      "Patient Id:  3789 Patient Name:  William DAVIS  Image ID:  810491951571933b11959743e41a704b  Class Name:  Nodule/Mass\n",
      "Patient Id:  3790 Patient Name:  Elaine MOORE  Image ID:  36ce9c445dc3d9c1773d39281e40c14b  Class Name:  Nodule/Mass\n",
      "Patient Id:  3814 Patient Name:  Patricia TAYLOR  Image ID:  2220f4ec338e6fa4f139d9b91aca9da3  Class Name:  Nodule/Mass\n",
      "Patient Id:  3830 Patient Name:  Beverly JACKSON  Image ID:  541e1c8eccc493eca63cb8482f1ad36f  Class Name:  Nodule/Mass\n",
      "Patient Id:  3884 Patient Name:  Barbara WHITE  Image ID:  7021edd61c6640c497c774e6ef61e491  Class Name:  Nodule/Mass\n",
      "Patient Id:  3909 Patient Name:  Rose MARTIN  Image ID:  2a96255deafcf2f24bf9f266e1c12633  Class Name:  Nodule/Mass\n",
      "Patient Id:  3984 Patient Name:  Michael LOPEZ  Image ID:  6a2119f5509f4f9b7811ff4e7d786a62  Class Name:  Nodule/Mass\n",
      "Patient Id:  4007 Patient Name:  Linda THOMAS  Image ID:  8735dbb94fc3e09cd42b44c3e07c654e  Class Name:  Nodule/Mass\n",
      "Patient Id:  4008 Patient Name:  Janice MILLER  Image ID:  4a8a7088ed91ca054e7e0d6f36f11a61  Class Name:  Nodule/Mass\n",
      "Patient Id:  4008 Patient Name:  Janice MILLER  Image ID:  a341ed51756547e8d43f052b7994d0ec  Class Name:  Nodule/Mass\n",
      "Patient Id:  4019 Patient Name:  Thomas THOMPSON  Image ID:  3acf425a6bdaac2e5fa779acf53041cc  Class Name:  Nodule/Mass\n",
      "Patient Id:  4023 Patient Name:  Barbara RODRIGUEZ  Image ID:  6ab69f995bbbc0522d8819fec2cf1d3b  Class Name:  Nodule/Mass\n",
      "Patient Id:  4026 Patient Name:  Nancy MARTINEZ  Image ID:  a5eabc3dd2734b211c9b09205443a2ea  Class Name:  Nodule/Mass\n",
      "Patient Id:  4070 Patient Name:  Bobbie JOHNSON  Image ID:  1f897eadcbbca4e2104e7a2d7fd3e0f9  Class Name:  Nodule/Mass\n",
      "Patient Id:  4077 Patient Name:  Mabel ANDERSON  Image ID:  6113a98628cae718b3b8f79eac32cb4d  Class Name:  Nodule/Mass\n",
      "Patient Id:  4086 Patient Name:  Paulette WHITE  Image ID:  a4f53850cb70bbfa9f3ea93f0117a9c1  Class Name:  Nodule/Mass\n",
      "Patient Id:  4106 Patient Name:  Richard LEE  Image ID:  66a1a5d0239bd22d299a1e1333ed5d0b  Class Name:  Nodule/Mass\n",
      "Patient Id:  4116 Patient Name:  Nora TAYLOR  Image ID:  027c56d37095bcc595ddd429f96902ae  Class Name:  Nodule/Mass\n",
      "Patient Id:  4130 Patient Name:  Kathrin THOMPSON  Image ID:  6b94fef0e417c083388ba961b1d2786a  Class Name:  Nodule/Mass\n",
      "Patient Id:  4130 Patient Name:  Kathrin THOMPSON  Image ID:  9852b93d2e984a4c427f7d14be534717  Class Name:  Nodule/Mass\n",
      "Patient Id:  4145 Patient Name:  Frederick MARTINEZ  Image ID:  222c75d9eed5a032f38820a5716af2ec  Class Name:  Nodule/Mass\n",
      "Patient Id:  4145 Patient Name:  Frederick MARTINEZ  Image ID:  9a8695ad310ac6f361071299a35b43db  Class Name:  Nodule/Mass\n",
      "Patient Id:  4152 Patient Name:  Judith MILLER  Image ID:  65591c33ed8729b0ed1eebf4f59e418b  Class Name:  Nodule/Mass\n",
      "Patient Id:  4168 Patient Name:  Virginia MOORE  Image ID:  0e88612bd294e249382b9e64d222cdf4  Class Name:  Nodule/Mass\n",
      "Patient Id:  4172 Patient Name:  Lyle LOPEZ  Image ID:  9d3db915dfabc8a9ac9cda6223856b90  Class Name:  Nodule/Mass\n",
      "Patient Id:  4180 Patient Name:  Judy ANDERSON  Image ID:  a3d0584454ba83eb250d992fff249d96  Class Name:  Nodule/Mass\n",
      "Patient Id:  4182 Patient Name:  Julia WILSON  Image ID:  48c44319fb3ad32555821ee0c74e6719  Class Name:  Nodule/Mass\n",
      "Patient Id:  4196 Patient Name:  James LEWIS  Image ID:  d4e8665286a7fd59bcd408868c247a5d  Class Name:  Nodule/Mass\n",
      "Patient Id:  4199 Patient Name:  John MARTINEZ  Image ID:  816008f1b6e1fd740b3b52bb9e258377  Class Name:  Nodule/Mass\n",
      "Patient Id:  4204 Patient Name:  Gladys TAYLOR  Image ID:  c516ff097d60479f58a797cefad2c80f  Class Name:  Nodule/Mass\n",
      "Patient Id:  4211 Patient Name:  Floyd LEE  Image ID:  fb511731a1fc742451a090891ebaa0ce  Class Name:  Nodule/Mass\n",
      "Patient Id:  4218 Patient Name:  Patricia MARTIN  Image ID:  d60854afebf749f87a8c95a07cb30d48  Class Name:  Nodule/Mass\n",
      "Patient Id:  4240 Patient Name:  Robert WHITE  Image ID:  5032e302ade4e419a056c3d54b29a97c  Class Name:  Nodule/Mass\n",
      "Patient Id:  4255 Patient Name:  Roger MARTINEZ  Image ID:  3dae58e1cf69a2284f2a44ded5c7405a  Class Name:  Nodule/Mass\n",
      "Patient Id:  4257 Patient Name:  Donald DAVIS  Image ID:  bc288b3d6a7c674d372b85133272b09a  Class Name:  Nodule/Mass\n",
      "Patient Id:  4274 Patient Name:  William JOHNSON  Image ID:  fde0dc4919750b5bbc571fe138bf36f6  Class Name:  Nodule/Mass\n",
      "Patient Id:  4282 Patient Name:  Brenda LOPEZ  Image ID:  40ea42113164f63625a196207c4bd0af  Class Name:  Nodule/Mass\n",
      "Patient Id:  4289 Patient Name:  Patricia JACKSON  Image ID:  3aaf9082b2fc37d21d61ae532d3112d4  Class Name:  Nodule/Mass\n",
      "Patient Id:  4298 Patient Name:  Alice GARCIA  Image ID:  658f4a76ab0e81e31d37f12c8c661b3c  Class Name:  Nodule/Mass\n",
      "Patient Id:  4300 Patient Name:  Jane HALL  Image ID:  03e6ecfa6f6fb33dfeac6ca4f9b459c9  Class Name:  Nodule/Mass\n",
      "Patient Id:  4304 Patient Name:  Richard RODRIGUEZ  Image ID:  07c12d0f562f17579aabc18c11e2ad54  Class Name:  Nodule/Mass\n",
      "Patient Id:  4310 Patient Name:  Kenneth MARTINEZ  Image ID:  62aaaa8d5b9997ba1dbd718e2e8671dd  Class Name:  Nodule/Mass\n",
      "Patient Id:  4332 Patient Name:  Richard RODRIGUEZ  Image ID:  618132e055081856c6b4918a11f4eabd  Class Name:  Nodule/Mass\n",
      "Patient Id:  4351 Patient Name:  Janet LOPEZ  Image ID:  ab5b5c50cb42ce37bf4d9dd91cb5a16a  Class Name:  Nodule/Mass\n",
      "Patient Id:  4354 Patient Name:  Kenneth LOPEZ  Image ID:  91f1c20e4e0753f19022f919014aaa3d  Class Name:  Nodule/Mass\n",
      "Patient Id:  4370 Patient Name:  Betty KING  Image ID:  1932e3ca2084c4ef9ee98c747cd21f16  Class Name:  Nodule/Mass\n",
      "Patient Id:  4382 Patient Name:  Lucille WRIGHT  Image ID:  dad083d8150288db33157fde49ab35f9  Class Name:  Nodule/Mass\n",
      "Patient Id:  4395 Patient Name:  Jill TAYLOR  Image ID:  6a5a92798a840e7b12533ada2e2816cb  Class Name:  Nodule/Mass\n",
      "Patient Id:  4412 Patient Name:  Lawrence JOHNSON  Image ID:  4d41ef24c7ad0bcbb810768c9f6547ba  Class Name:  Nodule/Mass\n",
      "Patient Id:  4449 Patient Name:  Delores TAYLOR  Image ID:  89a42d2cbb43c51f6541b17130f3c03e  Class Name:  Nodule/Mass\n",
      "Patient Id:  4457 Patient Name:  Suzanne THOMAS  Image ID:  534e7dc7c241654e8e0c5b1ce519406e  Class Name:  Nodule/Mass\n",
      "Patient Id:  4470 Patient Name:  Lynn MOORE  Image ID:  30174f91133f986dd4f8f95d2b2d92b2  Class Name:  Nodule/Mass\n",
      "Patient Id:  4471 Patient Name:  Charles JACKSON  Image ID:  0786a13cabda003d621aa54c5b875fdf  Class Name:  Nodule/Mass\n",
      "Patient Id:  4477 Patient Name:  Michele ANDERSON  Image ID:  eafabce713e83112f3951b7ed8f6bed8  Class Name:  Nodule/Mass\n",
      "Patient Id:  4478 Patient Name:  Linda ANDERSON  Image ID:  5e20e4cfb5ad865ea9b81a2b1be9f2d5  Class Name:  Nodule/Mass\n",
      "Patient Id:  4489 Patient Name:  Joyce LEE  Image ID:  a6c7487aea4a4e9c3bdf351c1ccaeca3  Class Name:  Nodule/Mass\n",
      "Patient Id:  4490 Patient Name:  Emil HERNANDEZ  Image ID:  b685d041e15fd6b5ffbac258f0673518  Class Name:  Nodule/Mass\n",
      "Patient Id:  4500 Patient Name:  Arlene WILLIAMS  Image ID:  938c334f4b35ca75b953f86378fe9975  Class Name:  Nodule/Mass\n",
      "Patient Id:  4513 Patient Name:  Evelyn GARCIA  Image ID:  b7cb4aab02fe2cdcf2de5b7a93f49d73  Class Name:  Nodule/Mass\n",
      "Patient Id:  4526 Patient Name:  John MARTIN  Image ID:  86f8a2d7a8ea7bc8f1d9410b1434ffca  Class Name:  Nodule/Mass\n",
      "Patient Id:  4542 Patient Name:  Linda GARCIA  Image ID:  5999e9610932a293d57fa921d4a4905c  Class Name:  Nodule/Mass\n",
      "Patient Id:  4543 Patient Name:  Gary MOORE  Image ID:  b70e768f4383a21290d3e841ca47b2a9  Class Name:  Nodule/Mass\n",
      "Patient Id:  4548 Patient Name:  Billy GARCIA  Image ID:  570ff043568e88ee3792b8805e145485  Class Name:  Nodule/Mass\n",
      "Patient Id:  4549 Patient Name:  Mary GARCIA  Image ID:  2204fe4a8d1b984f7b6b9951e5f11c79  Class Name:  Nodule/Mass\n",
      "Patient Id:  4577 Patient Name:  Richard GARCIA  Image ID:  86e8ce292daefc9328a104fa2116d6de  Class Name:  Nodule/Mass\n",
      "Patient Id:  4600 Patient Name:  Beatrice TAYLOR  Image ID:  4c029c4f3deed9414b157053867709b0  Class Name:  Nodule/Mass\n",
      "Patient Id:  4617 Patient Name:  Valma LEE  Image ID:  9561bf8f8c47cf0af8bec8f6a268e15b  Class Name:  Nodule/Mass\n",
      "Patient Id:  4617 Patient Name:  Valma LEE  Image ID:  d647ae4618fc943d965b25c3aab3fb4c  Class Name:  Nodule/Mass\n",
      "Patient Id:  4626 Patient Name:  Allen JOHNSON  Image ID:  133ed9054828b0e75987e00217aef89d  Class Name:  Nodule/Mass\n",
      "Patient Id:  4637 Patient Name:  Robert HERNANDEZ  Image ID:  a9f2816d377349f221a96f46c728d36e  Class Name:  Nodule/Mass\n",
      "Patient Id:  4639 Patient Name:  Joe HERNANDEZ  Image ID:  377b56ae5dc0492da6c9c79018928041  Class Name:  Nodule/Mass\n",
      "Patient Id:  4641 Patient Name:  Priscilla HERNANDEZ  Image ID:  84eb3e8b282f648bbc43c356f058f24e  Class Name:  Nodule/Mass\n",
      "Patient Id:  4671 Patient Name:  Kay JACKSON  Image ID:  900fa6baa0c15f5c96eaed57294ec6d4  Class Name:  Nodule/Mass\n",
      "Patient Id:  4697 Patient Name:  William THOMAS  Image ID:  f81818f7d9803fe35faa81fb3ae15856  Class Name:  Nodule/Mass\n",
      "Patient Id:  4726 Patient Name:  Richard WRIGHT  Image ID:  1a36a4fb918591ad214a593f6fe52db3  Class Name:  Nodule/Mass\n",
      "Patient Id:  4727 Patient Name:  John HERNANDEZ  Image ID:  98734f45cdc062d160228410a8da696d  Class Name:  Nodule/Mass\n",
      "Patient Id:  4733 Patient Name:  Kathleen MARTIN  Image ID:  f6306d0752c00d1271b36ae4d3b9ddda  Class Name:  Nodule/Mass\n",
      "Patient Id:  4742 Patient Name:  Gilbert MOORE  Image ID:  059ec0fc0d6840cff6e268e46f85faa0  Class Name:  Nodule/Mass\n",
      "Patient Id:  4742 Patient Name:  Gilbert MOORE  Image ID:  9e8a5a85012b7b8c5dd164382d93e089  Class Name:  Nodule/Mass\n",
      "Patient Id:  4760 Patient Name:  Lorenza ANDERSON  Image ID:  ad7ccd5224c39c8f0c6675044e95f185  Class Name:  Nodule/Mass\n",
      "Patient Id:  4761 Patient Name:  Keith ANDERSON  Image ID:  19417bae94986e8c122ae6efd92e3997  Class Name:  Nodule/Mass\n",
      "Patient Id:  4778 Patient Name:  Karen TAYLOR  Image ID:  1254518b2893f58324e93f375cffbd6c  Class Name:  Nodule/Mass\n",
      "Patient Id:  4778 Patient Name:  Karen TAYLOR  Image ID:  7da8cf1d4261791fbb0bae6f6bdb33ec  Class Name:  Nodule/Mass\n",
      "Patient Id:  4783 Patient Name:  John ANDERSON  Image ID:  343e1bdfaa62eb9f0148e3cd32aab124  Class Name:  Nodule/Mass\n",
      "Patient Id:  4790 Patient Name:  James MILLER  Image ID:  69cab0314beaa8eefe2f3b4d316b2642  Class Name:  Nodule/Mass\n",
      "Patient Id:  4812 Patient Name:  Lawrence GARCIA  Image ID:  a604284321e34a6c3a30506f732c00e9  Class Name:  Nodule/Mass\n",
      "Patient Id:  4824 Patient Name:  Thaddeus WHITE  Image ID:  225792d8531c9bee52c674cc975f689d  Class Name:  Nodule/Mass\n",
      "Patient Id:  4837 Patient Name:  Susan MOORE  Image ID:  144b76b191aa1e02065903ee1cc3d578  Class Name:  Nodule/Mass\n",
      "Patient Id:  4840 Patient Name:  Fredia JACKSON  Image ID:  c2e13e12172f1d2b7e4a8e784b4b16c8  Class Name:  Nodule/Mass\n",
      "Patient Id:  4849 Patient Name:  Gail HERNANDEZ  Image ID:  c002429d774966eacca0e2413295040b  Class Name:  Nodule/Mass\n",
      "Patient Id:  4850 Patient Name:  Jimmy MARTINEZ  Image ID:  768480654fabe20d0c1340a17e129808  Class Name:  Nodule/Mass\n",
      "Patient Id:  4851 Patient Name:  Eugine JACKSON  Image ID:  25e40d94f13653fcd2b829c45cb18e3f  Class Name:  Nodule/Mass\n",
      "Patient Id:  4892 Patient Name:  Edith RODRIGUEZ  Image ID:  9fc583b82b23ec8adb680d4fa2a6ba93  Class Name:  Nodule/Mass\n",
      "Patient Id:  4918 Patient Name:  Cynthia WHITE  Image ID:  a257e58a06d3267edc82453ae093ac97  Class Name:  Nodule/Mass\n",
      "Patient Id:  4927 Patient Name:  Brenda GARCIA  Image ID:  e496dd7622691291445f692fc3479f56  Class Name:  Nodule/Mass\n",
      "Patient Id:  4946 Patient Name:  Dorothy LEWIS  Image ID:  945eb0f9c575a45a148e7e64f7cf402a  Class Name:  Nodule/Mass\n",
      "Patient Id:  4969 Patient Name:  Stanley THOMAS  Image ID:  3aaefe9e6128e0b34d206e0c86ef3e9c  Class Name:  Nodule/Mass\n",
      "Patient Id:  4993 Patient Name:  Frank WILSON  Image ID:  d1ee146b55af8b9cd84ec605a9aa36bd  Class Name:  Nodule/Mass\n",
      "Patient Id:  4994 Patient Name:  Berton BROWN  Image ID:  a31b1d98d512c9d593a6718e996eb0c6  Class Name:  Nodule/Mass\n",
      "Patient Id:  5012 Patient Name:  Jose RODRIGUEZ  Image ID:  759d70b78eb5f4f47bd4eaf9f4dbb425  Class Name:  Nodule/Mass\n",
      "Patient Id:  5013 Patient Name:  Barbara WHITE  Image ID:  7691599752bbacd065fc71d3b54e67d0  Class Name:  Nodule/Mass\n",
      "Patient Id:  5041 Patient Name:  Kay THOMAS  Image ID:  a868475eb59e09a1fc9d6d5c12511d43  Class Name:  Nodule/Mass\n",
      "Patient Id:  5079 Patient Name:  Rodney THOMAS  Image ID:  4d3acb5e51c6ab03ed5bc7537125ffc2  Class Name:  Nodule/Mass\n",
      "Patient Id:  5109 Patient Name:  Janet WILSON  Image ID:  010a3dbb67bc37800a041866844861b1  Class Name:  Nodule/Mass\n",
      "Patient Id:  5109 Patient Name:  Janet WILSON  Image ID:  5149be077d0b6e167ccc0f9c3e3de686  Class Name:  Nodule/Mass\n",
      "Patient Id:  5157 Patient Name:  Paula ANDERSON  Image ID:  2f4bc0f22545fa58a89bfa13cc083191  Class Name:  Nodule/Mass\n",
      "Patient Id:  5193 Patient Name:  Deborah TAYLOR  Image ID:  6db7247f37af756bab04104a96b2356a  Class Name:  Nodule/Mass\n",
      "Patient Id:  5213 Patient Name:  Charlotte TAYLOR  Image ID:  6a39d0181e330fae49e2fe5398e049f1  Class Name:  Nodule/Mass\n",
      "Patient Id:  5214 Patient Name:  Susan WILSON  Image ID:  e6e1f33532a2f3f93d17d2be963cd122  Class Name:  Nodule/Mass\n",
      "Patient Id:  5223 Patient Name:  Troy THOMAS  Image ID:  f1f76abbb54845f5be539cb4f8298a51  Class Name:  Nodule/Mass\n",
      "Patient Id:  5224 Patient Name:  James THOMAS  Image ID:  b9b2a7a46b88db57379c59db58cc2228  Class Name:  Nodule/Mass\n",
      "Patient Id:  5228 Patient Name:  Beverly LOPEZ  Image ID:  58d76e6dae9bbb3a24fe79f771b735a6  Class Name:  Nodule/Mass\n",
      "Patient Id:  5243 Patient Name:  Joanne MARTINEZ  Image ID:  67b79ff73377ea7e3b3077e7fe493ca0  Class Name:  Nodule/Mass\n",
      "Patient Id:  5251 Patient Name:  Vera MARTINEZ  Image ID:  4c7d33b4c5bf485af4df30bb8500a002  Class Name:  Nodule/Mass\n",
      "Patient Id:  5275 Patient Name:  Robert GARCIA  Image ID:  9713e99a411c458e17f7f8ad8924c181  Class Name:  Nodule/Mass\n",
      "Patient Id:  5284 Patient Name:  Maxine JOHNSON  Image ID:  75f6585ed7753c64c462ed9c76dd826a  Class Name:  Nodule/Mass\n",
      "Patient Id:  5292 Patient Name:  Paul MOORE  Image ID:  51c6734c151658e86413813899a155f2  Class Name:  Nodule/Mass\n",
      "Patient Id:  5293 Patient Name:  Laverne TAYLOR  Image ID:  a1df46be5ace1fcd65a304d44f83a1a6  Class Name:  Nodule/Mass\n",
      "Patient Id:  5301 Patient Name:  Donald MARTIN  Image ID:  7f5eab5de5307d4ae8e2a0fa99c0b41a  Class Name:  Nodule/Mass\n",
      "Patient Id:  5302 Patient Name:  Dianne THOMAS  Image ID:  17791317b59d89c03ce7a15826e1b876  Class Name:  Nodule/Mass\n",
      "Patient Id:  5306 Patient Name:  Sharon KING  Image ID:  15231685e2711bfe8eaef46418877d94  Class Name:  Nodule/Mass\n",
      "Patient Id:  5322 Patient Name:  Sammie MARTINEZ  Image ID:  75ec71c3e8edd4291eb1bec543ca5855  Class Name:  Nodule/Mass\n",
      "Patient Id:  5322 Patient Name:  Sammie MARTINEZ  Image ID:  ab1b2498d8770cdc4e45374618612fa3  Class Name:  Nodule/Mass\n",
      "Patient Id:  5346 Patient Name:  Marie RODRIGUEZ  Image ID:  8fcbf4c0ba3178b938cc3c80df975fe3  Class Name:  Nodule/Mass\n",
      "Patient Id:  5347 Patient Name:  John THOMAS  Image ID:  6eccc3e361a9cbaaa9a280f30d38f137  Class Name:  Nodule/Mass\n",
      "Patient Id:  5359 Patient Name:  Florence MILLER  Image ID:  f2f8d46d9438459a795b19be73738cbb  Class Name:  Nodule/Mass\n",
      "Patient Id:  5360 Patient Name:  Terry ANDERSON  Image ID:  ae127045cca13da6dbfee11df1f08c7e  Class Name:  Nodule/Mass\n",
      "Patient Id:  5379 Patient Name:  Robertha WILLIAMS  Image ID:  5cecfb5a445acc92080b9fbdf321a4eb  Class Name:  Nodule/Mass\n",
      "Patient Id:  5409 Patient Name:  Andy DAVIS  Image ID:  d28066fe44fe04cfc20c727bd3155510  Class Name:  Nodule/Mass\n",
      "Patient Id:  5412 Patient Name:  Brenda MILLER  Image ID:  ecf9eb0e92ca13ace0ac71331f964371  Class Name:  Nodule/Mass\n",
      "Patient Id:  5415 Patient Name:  Judith ANDERSON  Image ID:  9f7ac02c7456ab3178c7997e15cdce84  Class Name:  Nodule/Mass\n",
      "Patient Id:  5432 Patient Name:  Laurel DAVIS  Image ID:  54e0ba972c320dff17869991619db028  Class Name:  Nodule/Mass\n",
      "Patient Id:  5436 Patient Name:  Wanda JACKSON  Image ID:  81a4366baeebb4b90a33aa5b9cb99220  Class Name:  Nodule/Mass\n",
      "Patient Id:  5437 Patient Name:  Mary LOPEZ  Image ID:  afb6230703512afc370f236e8fe98806  Class Name:  Nodule/Mass\n",
      "Patient Id:  5464 Patient Name:  Reva LOPEZ  Image ID:  f730c80ec55bf2f6b80001ec0686f245  Class Name:  Nodule/Mass\n",
      "Patient Id:  5466 Patient Name:  Stephen DAVIS  Image ID:  916917dc9ec6191ac3c32d8b2c6571e2  Class Name:  Nodule/Mass\n",
      "Patient Id:  5466 Patient Name:  Stephen DAVIS  Image ID:  a07064273b3f1112655970e8326f25df  Class Name:  Nodule/Mass\n",
      "Patient Id:  5471 Patient Name:  Donald ANDERSON  Image ID:  5ddead13c81182b80ac84286d5edfd1d  Class Name:  Nodule/Mass\n",
      "Patient Id:  5489 Patient Name:  Glenda JACKSON  Image ID:  5fc06f3386f8762ac1d2563520056a95  Class Name:  Nodule/Mass\n",
      "Patient Id:  5502 Patient Name:  Alice JACKSON  Image ID:  20b3714dd6c53ce0f439e05ca97b60e8  Class Name:  Nodule/Mass\n",
      "Patient Id:  5511 Patient Name:  Robert LEE  Image ID:  c184ac40eb6c1713f28f34582f768c5d  Class Name:  Nodule/Mass\n",
      "Patient Id:  5512 Patient Name:  Janet MILLER  Image ID:  36e495b7888099453ba79ff57a2c4334  Class Name:  Nodule/Mass\n",
      "Patient Id:  5514 Patient Name:  Cathy WILLIAMS  Image ID:  a8c660e329167de455edee73f47606d1  Class Name:  Nodule/Mass\n",
      "Patient Id:  5520 Patient Name:  Charles GARCIA  Image ID:  cfe3e67ca5f8235d64e51416a26e70cc  Class Name:  Nodule/Mass\n",
      "Patient Id:  5523 Patient Name:  George THOMAS  Image ID:  2d64ca640df9686f4d2f6152b6ca74ab  Class Name:  Nodule/Mass\n",
      "Patient Id:  5525 Patient Name:  Wendell WHITE  Image ID:  9e83685b659621945abb3edbd792cf0b  Class Name:  Nodule/Mass\n",
      "Patient Id:  5571 Patient Name:  Candice GARCIA  Image ID:  2b6ec0aa221b1f430e8f5cb1696844dd  Class Name:  Nodule/Mass\n",
      "Patient Id:  5604 Patient Name:  Sandra MARTIN  Image ID:  3fce94c1b748aab8c5a46595fa0213de  Class Name:  Nodule/Mass\n",
      "Patient Id:  5611 Patient Name:  Carl MARTINEZ  Image ID:  9d78bfe4df5aa3ba04c68ac0373d3470  Class Name:  Nodule/Mass\n",
      "Patient Id:  5623 Patient Name:  Wanda WHITE  Image ID:  3884726ab4793df899a6f3767c971d0e  Class Name:  Nodule/Mass\n",
      "Patient Id:  5630 Patient Name:  Carey LEE  Image ID:  a74467045836dd130c7ee24b84a6121f  Class Name:  Nodule/Mass\n",
      "Patient Id:  5648 Patient Name:  Fred THOMAS  Image ID:  2ca9dac5fb539feaec32dbf027e48729  Class Name:  Nodule/Mass\n",
      "Patient Id:  5648 Patient Name:  Fred THOMAS  Image ID:  9461f0417adb7494c8655031cb73febd  Class Name:  Nodule/Mass\n",
      "Patient Id:  5676 Patient Name:  Ramon RODRIGUEZ  Image ID:  30a19e21bc219f1956701d0e4491ba77  Class Name:  Nodule/Mass\n",
      "Patient Id:  5677 Patient Name:  Lawrence MILLER  Image ID:  7a1d72be9ef473df66d225c53e61f77e  Class Name:  Nodule/Mass\n",
      "Patient Id:  5684 Patient Name:  Yvette SANCHEZ  Image ID:  662b95447b40328a6844834af8835fd2  Class Name:  Nodule/Mass\n",
      "Patient Id:  5688 Patient Name:  Judith SMITH  Image ID:  e9c0a723726efbed9a1d43d4db015ff3  Class Name:  Nodule/Mass\n",
      "Patient Id:  5712 Patient Name:  Susan LEWIS  Image ID:  747eec98df4c54df053df178cc8c2395  Class Name:  Nodule/Mass\n",
      "Patient Id:  5712 Patient Name:  Susan LEWIS  Image ID:  af8c3c5b00e34b6b5c4471aae6dc5a90  Class Name:  Nodule/Mass\n",
      "Patient Id:  5712 Patient Name:  Susan LEWIS  Image ID:  d63906e598ca29e9041fd8db589c61b1  Class Name:  Nodule/Mass\n",
      "Patient Id:  5715 Patient Name:  Linda HARRIS  Image ID:  f0b8c0d06a7cccc003f214b216673324  Class Name:  Nodule/Mass\n",
      "Patient Id:  5723 Patient Name:  Arthur TAYLOR  Image ID:  def03f80d3b78a52a6f9af13565343ff  Class Name:  Nodule/Mass\n",
      "Patient Id:  5761 Patient Name:  Anna THOMPSON  Image ID:  0a16dc6491142ff8c7c36f3b3f4ebd02  Class Name:  Nodule/Mass\n",
      "Patient Id:  5763 Patient Name:  Rosemary GARCIA  Image ID:  62c14fe41339b118b7fa4a0bb569f3f9  Class Name:  Nodule/Mass\n",
      "Patient Id:  5789 Patient Name:  William THOMPSON  Image ID:  2e1571fc9e41f68fcc84b6094d664416  Class Name:  Nodule/Mass\n",
      "Patient Id:  5812 Patient Name:  Billy RODRIGUEZ  Image ID:  25f92d35866a758f4175812fe3f7f47c  Class Name:  Nodule/Mass\n",
      "Patient Id:  5874 Patient Name:  Larry LEWIS  Image ID:  47c3488b2b2c3cc1fe426ba89c5ea057  Class Name:  Nodule/Mass\n",
      "Patient Id:  5888 Patient Name:  Keith TAYLOR  Image ID:  60398630bcbf4f2fa6f5730fd9a9f4dc  Class Name:  Nodule/Mass\n",
      "Patient Id:  5894 Patient Name:  David THOMPSON  Image ID:  6bf23c1214cebef3a98ab21dcb5c6a56  Class Name:  Nodule/Mass\n",
      "Patient Id:  5927 Patient Name:  Henry ANDERSON  Image ID:  fdd323a08a8d9890c938351d465108b6  Class Name:  Nodule/Mass\n",
      "Patient Id:  5933 Patient Name:  Thomas WILSON  Image ID:  dc4874ef7e2d7ad6f69d4c779df4aa9b  Class Name:  Nodule/Mass\n",
      "Patient Id:  5956 Patient Name:  Luther LEE  Image ID:  9c314e403d3e6e3ed09e79a57019f9ad  Class Name:  Nodule/Mass\n",
      "Patient Id:  5959 Patient Name:  Edward MOORE  Image ID:  1dca2f734825798b81f034da81d257f4  Class Name:  Nodule/Mass\n",
      "Patient Id:  5963 Patient Name:  Harry GARCIA  Image ID:  7e5d928dcce24b3553e87d501a263b33  Class Name:  Nodule/Mass\n",
      "Patient Id:  5979 Patient Name:  Donna JOHNSON  Image ID:  a8ba44710ed9f78bdf9a52c28da82ace  Class Name:  Nodule/Mass\n",
      "Patient Id:  5983 Patient Name:  Virginia JOHNSON  Image ID:  5a29c1b605b7a41733a9bbecdd70de2b  Class Name:  Nodule/Mass\n",
      "Patient Id:  6004 Patient Name:  Kenneth RODRIGUEZ  Image ID:  325c062a860bca024758a223755d74a6  Class Name:  Nodule/Mass\n",
      "Patient Id:  6014 Patient Name:  David MARTINEZ  Image ID:  5cbf1220606242111b9d4c6754c71777  Class Name:  Nodule/Mass\n",
      "Patient Id:  6039 Patient Name:  David WILLIAMS  Image ID:  1296335140a042ff0270825cdae2fa09  Class Name:  Nodule/Mass\n",
      "Patient Id:  6041 Patient Name:  Gilbert LOPEZ  Image ID:  ae764a3ffd1b0317e4496637b3708a20  Class Name:  Nodule/Mass\n",
      "Patient Id:  6054 Patient Name:  Jack MOORE  Image ID:  7355afc2a3a775378d54578397734408  Class Name:  Nodule/Mass\n",
      "Patient Id:  6056 Patient Name:  Charles TAYLOR  Image ID:  b6c2c6dd309938a3e4f695269871fce9  Class Name:  Nodule/Mass\n",
      "Patient Id:  6065 Patient Name:  Selena THOMAS  Image ID:  fc50039c45fdb6c9224bfff5ba4e64b3  Class Name:  Nodule/Mass\n",
      "Patient Id:  6075 Patient Name:  Daniel MARTIN  Image ID:  a305cc27ac9afe19b9873329b373fcf0  Class Name:  Nodule/Mass\n",
      "Patient Id:  6084 Patient Name:  Joyce WILSON  Image ID:  2a7ee9317e4ee95e6a50a175d96fbbd8  Class Name:  Nodule/Mass\n",
      "Patient Id:  6098 Patient Name:  James JACKSON  Image ID:  1ca15cd9835324d8a30bd20544a9cab8  Class Name:  Nodule/Mass\n",
      "Patient Id:  6116 Patient Name:  Hans LOPEZ  Image ID:  4b19ca098b479dd60cc2288ab680e3eb  Class Name:  Nodule/Mass\n",
      "Patient Id:  6130 Patient Name:  Madelyn ANDERSON  Image ID:  9d860e1de305444810a5da045db303ea  Class Name:  Nodule/Mass\n",
      "Patient Id:  6134 Patient Name:  Bonnie ANDERSON  Image ID:  5c696936abfc9bbded3d8fd2fa853678  Class Name:  Nodule/Mass\n",
      "Patient Id:  6135 Patient Name:  Harold WHITE  Image ID:  1ce0b74770c21730b35e7800b7b8e4ad  Class Name:  Nodule/Mass\n",
      "Patient Id:  6135 Patient Name:  Harold WHITE  Image ID:  22672ab82c290c20b86863291e25ef6c  Class Name:  Nodule/Mass\n",
      "Patient Id:  6135 Patient Name:  Harold WHITE  Image ID:  789cba61f30c4c087a6cd97def275aca  Class Name:  Nodule/Mass\n",
      "Patient Id:  6145 Patient Name:  Claudette THOMPSON  Image ID:  fb929e0efd696fe0f54902da5e7ec57a  Class Name:  Nodule/Mass\n",
      "Patient Id:  6150 Patient Name:  Sandra JACKSON  Image ID:  7f77642e1e77897f5bc2545278153c40  Class Name:  Nodule/Mass\n",
      "Patient Id:  6158 Patient Name:  George MILLER  Image ID:  2d2d0ff82a88f0fcd89f30d7a4765e31  Class Name:  Nodule/Mass\n",
      "Patient Id:  6160 Patient Name:  John THOMAS  Image ID:  79e7c75ba7fa306f9b3445ccad034fb1  Class Name:  Nodule/Mass\n",
      "Patient Id:  6168 Patient Name:  William THOMPSON  Image ID:  aceb52fe7e0ecdd14840c61b4625e6ff  Class Name:  Nodule/Mass\n",
      "Patient Id:  6182 Patient Name:  Joyce JACKSON  Image ID:  9442ea6c07348514a3f2231dc38454ed  Class Name:  Nodule/Mass\n",
      "Patient Id:  6191 Patient Name:  Lorraine MOORE  Image ID:  cf32a2bc41deeb7436a36bcc4ff324fb  Class Name:  Nodule/Mass\n",
      "Patient Id:  6194 Patient Name:  Nancy HERNANDEZ  Image ID:  e0dc2e79105ad93532484e956ef8a71a  Class Name:  Nodule/Mass\n",
      "Patient Id:  6234 Patient Name:  Rebecca TAYLOR  Image ID:  b34b31b0663b718ff3e1d67e6c4135e3  Class Name:  Nodule/Mass\n",
      "Patient Id:  6255 Patient Name:  Carla ANDERSON  Image ID:  7bf0f93d42efd25936029bd1082d88a2  Class Name:  Nodule/Mass\n",
      "Patient Id:  6255 Patient Name:  Carla ANDERSON  Image ID:  d0e7b36dd1975188809340a634301e87  Class Name:  Nodule/Mass\n",
      "Patient Id:  6255 Patient Name:  Carla ANDERSON  Image ID:  e41d7b9d7af7d738c31ae832a725632b  Class Name:  Nodule/Mass\n",
      "Patient Id:  6280 Patient Name:  Johnny THOMAS  Image ID:  fa3b6b158acb587e7cfac000b3737a39  Class Name:  Nodule/Mass\n",
      "Patient Id:  6328 Patient Name:  Barry LOPEZ  Image ID:  a1134e92282815efb505a93105083393  Class Name:  Nodule/Mass\n",
      "Patient Id:  6365 Patient Name:  Carol WILSON  Image ID:  892e41c7ed24db564a46d384de10c99c  Class Name:  Nodule/Mass\n",
      "Patient Id:  6377 Patient Name:  Mark WILSON  Image ID:  9ac0c9b5c28f252ec7ee7323b7ecf704  Class Name:  Nodule/Mass\n",
      "Patient Id:  6381 Patient Name:  Harold WILSON  Image ID:  f764cd85ea43abfb8e4d638fb0eae057  Class Name:  Nodule/Mass\n",
      "Patient Id:  6410 Patient Name:  Thomas HERNANDEZ  Image ID:  e54b5a593bc03c789ecdc18d8270964e  Class Name:  Nodule/Mass\n",
      "Patient Id:  6425 Patient Name:  Thomas JOHNSON  Image ID:  569265e9ba8363c44d32599f9851158b  Class Name:  Nodule/Mass\n",
      "Patient Id:  6476 Patient Name:  Harold THOMPSON  Image ID:  7a7b30a642d5f305ccf5f7a6f2e901e8  Class Name:  Nodule/Mass\n",
      "Patient Id:  6493 Patient Name:  Jennifer WHITE  Image ID:  99c9f80ddc48480a4562f47530a6b573  Class Name:  Nodule/Mass\n",
      "Patient Id:  6497 Patient Name:  Emily MOORE  Image ID:  d18baf80b9c942af3688e9ddeb3dd18b  Class Name:  Nodule/Mass\n",
      "Patient Id:  6499 Patient Name:  Bessie THOMPSON  Image ID:  4334f287e7a843348a24c4dfa9718d6f  Class Name:  Nodule/Mass\n",
      "Patient Id:  6523 Patient Name:  Donald THOMAS  Image ID:  6f766386cad8fec2a39bab9fbc3e44cf  Class Name:  Nodule/Mass\n",
      "Patient Id:  6538 Patient Name:  Sally RODRIGUEZ  Image ID:  2b3f933dae2d8beb2f065fd3a7bded78  Class Name:  Nodule/Mass\n",
      "Patient Id:  6542 Patient Name:  Kathy HERNANDEZ  Image ID:  38ab2d3283b496d60dc137e94d16b7c6  Class Name:  Nodule/Mass\n",
      "Patient Id:  6566 Patient Name:  Susan MARTINEZ  Image ID:  8e3d51015dcc574507110141019bc77a  Class Name:  Nodule/Mass\n",
      "Patient Id:  6574 Patient Name:  Carroll JONES  Image ID:  ace398a669b2e39eb12fdd80d5e526a1  Class Name:  Nodule/Mass\n",
      "Patient Id:  6575 Patient Name:  Kenneth DAVIS  Image ID:  af15833e946fa12ce1815ffbb05a2f51  Class Name:  Nodule/Mass\n",
      "Patient Id:  6593 Patient Name:  Susan MARTINEZ  Image ID:  bb93a8a5285c48a0797bc5216e99f861  Class Name:  Nodule/Mass\n",
      "Patient Id:  6602 Patient Name:  Larry WILSON  Image ID:  ebe4ab991ab3c0551a697e34f5e83b36  Class Name:  Nodule/Mass\n",
      "Patient Id:  6608 Patient Name:  Bob TAYLOR  Image ID:  238b1299945de447d94124e14734edab  Class Name:  Nodule/Mass\n",
      "Patient Id:  6613 Patient Name:  Kenneth MILLER  Image ID:  4f3a001347620cd760469c7656a98afa  Class Name:  Nodule/Mass\n",
      "Patient Id:  6662 Patient Name:  Emory WHITE  Image ID:  1700104c53dad4e23980cc44dfec1b64  Class Name:  Nodule/Mass\n",
      "Patient Id:  6662 Patient Name:  Emory WHITE  Image ID:  4ecccb854e4e2d710c4859b402ab4880  Class Name:  Nodule/Mass\n",
      "Patient Id:  6705 Patient Name:  Donald THOMPSON  Image ID:  379350d6cca599b6a09c5387c9160aad  Class Name:  Nodule/Mass\n",
      "Patient Id:  6705 Patient Name:  Donald THOMPSON  Image ID:  73677ea9100c2fc6b88ba7442c90bcf9  Class Name:  Nodule/Mass\n",
      "Patient Id:  6707 Patient Name:  Mannie GARCIA  Image ID:  bb7d4479b3065e5912e328c065733504  Class Name:  Nodule/Mass\n",
      "Patient Id:  6708 Patient Name:  Donna MARTIN  Image ID:  c1c9528727dd016bad131ff8c3863774  Class Name:  Nodule/Mass\n",
      "Patient Id:  6711 Patient Name:  Martha WHITE  Image ID:  afe9c9c0bcc2c72f4fab87d9bc63cc8e  Class Name:  Nodule/Mass\n",
      "Patient Id:  6736 Patient Name:  William SMITH  Image ID:  9455d586debaa57d4e592d7a1292c977  Class Name:  Nodule/Mass\n",
      "Patient Id:  6742 Patient Name:  Ronald MARTIN  Image ID:  2064c0ca2857f38fe43d1a3e30847a1b  Class Name:  Nodule/Mass\n",
      "Patient Id:  6746 Patient Name:  Steve JACKSON  Image ID:  23ac6234107db29775e5a285c5b0e364  Class Name:  Nodule/Mass\n",
      "Patient Id:  6751 Patient Name:  Wilhelmina BROWN  Image ID:  45e4a17c1e5246e303bc1b2dd372bbad  Class Name:  Nodule/Mass\n",
      "Patient Id:  6766 Patient Name:  Marsha THOMPSON  Image ID:  c14b94a6ebfb3a4b828bd71537f682c7  Class Name:  Nodule/Mass\n",
      "Patient Id:  6769 Patient Name:  Suzanne WHITE  Image ID:  9fadd9298bf4c257b98def6d14732238  Class Name:  Nodule/Mass\n",
      "Patient Id:  6778 Patient Name:  Marion THOMPSON  Image ID:  7487afc84cf5bbc3de57737b08f6e87a  Class Name:  Nodule/Mass\n",
      "Patient Id:  6789 Patient Name:  Delia LOPEZ  Image ID:  b87b691b9ceeaf0c9539b2844be6e1e1  Class Name:  Nodule/Mass\n",
      "Patient Id:  6805 Patient Name:  Linda DAVIS  Image ID:  58c402c36cd3b9eec1056ba64752fc1f  Class Name:  Nodule/Mass\n",
      "Patient Id:  6827 Patient Name:  Robert LOPEZ  Image ID:  2f4573aa154b6ee5f4ba4dc90626f5ec  Class Name:  Nodule/Mass\n",
      "Patient Id:  6827 Patient Name:  Robert LOPEZ  Image ID:  ef5443eef2359a9882e61754855887cb  Class Name:  Nodule/Mass\n",
      "Patient Id:  6834 Patient Name:  Henri LOPEZ  Image ID:  96486c2488f9b4755798099db0d54a18  Class Name:  Nodule/Mass\n",
      "Patient Id:  6851 Patient Name:  Linda WHITE  Image ID:  0906a09b04f8d82c2cad5b820602a403  Class Name:  Nodule/Mass\n",
      "Patient Id:  6876 Patient Name:  Claudia THOMPSON  Image ID:  8d320a31edbc7f28ea0e329c5a91c55c  Class Name:  Nodule/Mass\n",
      "Patient Id:  6906 Patient Name:  Donald DAVIS  Image ID:  8c09865ee3cb674cc41dee8bca45fe5a  Class Name:  Nodule/Mass\n",
      "Patient Id:  6907 Patient Name:  Donna MARTINEZ  Image ID:  07a5129d03938c17811a621b5665bb04  Class Name:  Nodule/Mass\n",
      "Patient Id:  6965 Patient Name:  Ronald BROWN  Image ID:  ad0fae23cb517dbc4c7c1038996b08f2  Class Name:  Nodule/Mass\n",
      "Patient Id:  6980 Patient Name:  Alan MARTIN  Image ID:  45db750ac1e7ebdaaba5b1079f06094a  Class Name:  Nodule/Mass\n",
      "Patient Id:  7017 Patient Name:  Gayle BROWN  Image ID:  0c5ff01c7bfb4362fcd98f36e555b08c  Class Name:  Nodule/Mass\n",
      "Patient Id:  7024 Patient Name:  Brenda JACKSON  Image ID:  9eda421bef2cf66e06dd8ae2d155ac2a  Class Name:  Nodule/Mass\n",
      "Patient Id:  7048 Patient Name:  Sam WILSON  Image ID:  9ca34f0aba12135845cac8922ffae83d  Class Name:  Nodule/Mass\n",
      "Patient Id:  7050 Patient Name:  Doris TAYLOR  Image ID:  f8be8b8d517d3b48315bbbeda0ad3a79  Class Name:  Nodule/Mass\n",
      "Patient Id:  7060 Patient Name:  Tomas MOORE  Image ID:  4b4d890639634f5cc8aaefc9fed962ca  Class Name:  Nodule/Mass\n",
      "Patient Id:  7061 Patient Name:  Constance THOMPSON  Image ID:  d06cddc18ffb530f46d3d1d3382dfbec  Class Name:  Nodule/Mass\n",
      "Patient Id:  7062 Patient Name:  Ana TAYLOR  Image ID:  705cd5032d85ea8054d447cb28ab79e4  Class Name:  Nodule/Mass\n",
      "Patient Id:  7075 Patient Name:  Jan JONES  Image ID:  f2e56bf4b304000674dde626b3335ca7  Class Name:  Nodule/Mass\n",
      "Patient Id:  7087 Patient Name:  Martha JONES  Image ID:  57a1a6b02398e336508aa57ecf962e74  Class Name:  Nodule/Mass\n",
      "Patient Id:  7100 Patient Name:  Gracie DAVIS  Image ID:  9b3c46e22c6d7280065ddeaf9230d730  Class Name:  Nodule/Mass\n",
      "Patient Id:  7130 Patient Name:  Paulette MOORE  Image ID:  f233f426d24061d9584932e52bfdbd49  Class Name:  Nodule/Mass\n",
      "Patient Id:  7138 Patient Name:  Carolyn JACKSON  Image ID:  367d407eeafceb8dd55ee11f7e52b3d7  Class Name:  Nodule/Mass\n",
      "Patient Id:  7153 Patient Name:  Gloria LEE  Image ID:  f38e6047550ecab948fe98c912f3e508  Class Name:  Nodule/Mass\n",
      "Patient Id:  7158 Patient Name:  Mary WILLIAMS  Image ID:  b2df8e7f5070e86f339c3750a6568887  Class Name:  Nodule/Mass\n",
      "Patient Id:  7169 Patient Name:  Herman ANDERSON  Image ID:  9c89004f6827ca42cc151098ce8bd986  Class Name:  Nodule/Mass\n",
      "Patient Id:  7178 Patient Name:  Donald THOMPSON  Image ID:  37e7deb1b1895f2d2648781e426a3460  Class Name:  Nodule/Mass\n",
      "Patient Id:  7180 Patient Name:  Jackie DAVIS  Image ID:  ab8276dba30d7268b96c07a0fff9bbdb  Class Name:  Nodule/Mass\n",
      "Patient Id:  7184 Patient Name:  Alice HERNANDEZ  Image ID:  708e9255eba0c7279a625e6eb817f6d7  Class Name:  Nodule/Mass\n",
      "Patient Id:  7189 Patient Name:  Candace MOORE  Image ID:  5b21cf5288e23f7abc39fc7fecae09cd  Class Name:  Nodule/Mass\n",
      "Patient Id:  7194 Patient Name:  Lynette JOHNSON  Image ID:  345412ae32ce10abcd9961bbad3ff781  Class Name:  Nodule/Mass\n",
      "Patient Id:  7219 Patient Name:  Roy HERNANDEZ  Image ID:  633440744a1f7413483909dc0af84de1  Class Name:  Nodule/Mass\n",
      "Patient Id:  7277 Patient Name:  Elizabeth BROWN  Image ID:  3df005a70ab162381374fd43655aa145  Class Name:  Nodule/Mass\n",
      "Patient Id:  7308 Patient Name:  Anna GARCIA  Image ID:  48774729b8921e024731f773e541d248  Class Name:  Nodule/Mass\n",
      "Patient Id:  7312 Patient Name:  Diann JACKSON  Image ID:  0b0e106a53f9dc3b28a9b15f94510b7a  Class Name:  Nodule/Mass\n",
      "Patient Id:  7318 Patient Name:  Sally THOMAS  Image ID:  b0e39c29cfb8dab209d591461d51c4d4  Class Name:  Nodule/Mass\n",
      "Patient Id:  7319 Patient Name:  Peter THOMAS  Image ID:  690a74b4ebf969fbadc5ad0a1187968d  Class Name:  Nodule/Mass\n",
      "Patient Id:  7321 Patient Name:  David GARCIA  Image ID:  7742abe5bd817ba643d38fb517e35b24  Class Name:  Nodule/Mass\n",
      "Patient Id:  7336 Patient Name:  Catherine GARCIA  Image ID:  21e14e9b837be036c1ca616888d50a03  Class Name:  Nodule/Mass\n",
      "Patient Id:  7366 Patient Name:  Susan JACKSON  Image ID:  967cc2106c325f85a5447798328f5d33  Class Name:  Nodule/Mass\n",
      "Patient Id:  7393 Patient Name:  Steve WILLIAMS  Image ID:  8e1a18777633a830c6e5897e4dddb6f7  Class Name:  Nodule/Mass\n",
      "Patient Id:  7398 Patient Name:  Yolonda LEE  Image ID:  660eef5eec9f1d7af587da0e67222e94  Class Name:  Nodule/Mass\n",
      "Patient Id:  7422 Patient Name:  Carolyn RODRIGUEZ  Image ID:  4d3473f7b6e8882286ee4260ed30e03c  Class Name:  Nodule/Mass\n",
      "Patient Id:  7429 Patient Name:  Susan WILLIAMS  Image ID:  07bedc010fd13a8e5903473ebcf39cd1  Class Name:  Nodule/Mass\n",
      "Patient Id:  7431 Patient Name:  Karen HERNANDEZ  Image ID:  f5e6b0ff23298eff87b65789ee32959e  Class Name:  Nodule/Mass\n",
      "Patient Id:  7443 Patient Name:  Harry GARCIA  Image ID:  3c7f79f9a904282f9dbe9b625216cffc  Class Name:  Nodule/Mass\n",
      "Patient Id:  7457 Patient Name:  Theresa WHITE  Image ID:  fdcbaf21dccc1202812b5233b960de0b  Class Name:  Nodule/Mass\n",
      "Patient Id:  7464 Patient Name:  Willis RODRIGUEZ  Image ID:  613fd7f3a8b48248d4027c90a414ff9a  Class Name:  Nodule/Mass\n",
      "Patient Id:  7471 Patient Name:  Joyce THOMAS  Image ID:  1d34d1439d33676b14a5b55f7e1502cc  Class Name:  Nodule/Mass\n",
      "Patient Id:  7491 Patient Name:  William WILSON  Image ID:  8c2904da3c81a948576addbd1b3fb1c2  Class Name:  Nodule/Mass\n",
      "Patient Id:  7520 Patient Name:  Paula JONES  Image ID:  79bd8310bd57dfd23d33bfe5b3cc81d3  Class Name:  Nodule/Mass\n",
      "Patient Id:  7545 Patient Name:  Merle ANDERSON  Image ID:  50d48c5870580f5e7ac6a94c15728e90  Class Name:  Nodule/Mass\n",
      "Patient Id:  7565 Patient Name:  Willie JACKSON  Image ID:  43168eb06024ac4634c14f1d386f4136  Class Name:  Nodule/Mass\n",
      "Patient Id:  7574 Patient Name:  Linda JONES  Image ID:  615f0f5be81be998158659b735a3e8c8  Class Name:  Nodule/Mass\n",
      "Patient Id:  7579 Patient Name:  Lawrence MOORE  Image ID:  305c85dddfdddac905f288a8106ca371  Class Name:  Nodule/Mass\n",
      "Patient Id:  7587 Patient Name:  Toni JACKSON  Image ID:  f688540fa7c5a58e3f5f0d0908a15164  Class Name:  Nodule/Mass\n",
      "Patient Id:  7624 Patient Name:  Mary WILSON  Image ID:  8d2b6e9f00bc492227893e226bcee86f  Class Name:  Nodule/Mass\n",
      "Patient Id:  7624 Patient Name:  Mary WILSON  Image ID:  eae43f6c9435e668fc39ea66e494ad45  Class Name:  Nodule/Mass\n",
      "Patient Id:  7639 Patient Name:  Carrie DAVIS  Image ID:  4b33db392748079f75a5250a15840b74  Class Name:  Nodule/Mass\n",
      "Patient Id:  7654 Patient Name:  Susan LOPEZ  Image ID:  bdd0bebed953f69413213d387c9717e7  Class Name:  Nodule/Mass\n",
      "Patient Id:  7663 Patient Name:  Suzan MOORE  Image ID:  972f8298395b49ef09c8faf6a04e22b0  Class Name:  Nodule/Mass\n",
      "Patient Id:  7671 Patient Name:  Ronald BROWN  Image ID:  41cee81dbe9886a56b6c3ee56fb23448  Class Name:  Nodule/Mass\n",
      "Patient Id:  7684 Patient Name:  Marilyn MOORE  Image ID:  271f9008a6ac0c2fbed2ee6d40ff8750  Class Name:  Nodule/Mass\n",
      "Patient Id:  7693 Patient Name:  Diane THOMPSON  Image ID:  bf2d10fe88254cf97b08fab2e7c80232  Class Name:  Nodule/Mass\n",
      "Patient Id:  7726 Patient Name:  Daphne ANDERSON  Image ID:  8ac12a69ad57ca73535e04b6cfba5edb  Class Name:  Nodule/Mass\n",
      "Patient Id:  7733 Patient Name:  Daniel TAYLOR  Image ID:  8fca80e7b01704575f553adf60d9c3ed  Class Name:  Nodule/Mass\n",
      "Patient Id:  7740 Patient Name:  Phyllis RODRIGUEZ  Image ID:  1663ffcf2520d42473b572deb56b2497  Class Name:  Nodule/Mass\n",
      "Patient Id:  7740 Patient Name:  Phyllis RODRIGUEZ  Image ID:  41b3ba8c3998b6947018ce3bf0a4e546  Class Name:  Nodule/Mass\n",
      "Patient Id:  7761 Patient Name:  Donna THOMAS  Image ID:  9d46209b17ae9d14fcc7039796d05e6f  Class Name:  Nodule/Mass\n",
      "Patient Id:  7761 Patient Name:  Donna THOMAS  Image ID:  a9bfb9e92e3303005bbb9e98a86bd3c8  Class Name:  Nodule/Mass\n",
      "Patient Id:  7764 Patient Name:  Andre ANDERSON  Image ID:  43947f72e5d1a4998606a193af8b7a69  Class Name:  Nodule/Mass\n",
      "Patient Id:  7766 Patient Name:  Dawn THOMAS  Image ID:  4b001bab36d94f73c1ead3ab74690dbc  Class Name:  Nodule/Mass\n",
      "Patient Id:  7767 Patient Name:  Brenda MARTIN  Image ID:  8ae85268313b0db2f58d2193aab645c9  Class Name:  Nodule/Mass\n",
      "Patient Id:  7803 Patient Name:  Larry BROWN  Image ID:  2f8f4f988fd84809caf191477ebc05db  Class Name:  Nodule/Mass\n",
      "Patient Id:  7807 Patient Name:  Billy JACKSON  Image ID:  9dc2037ca1424465db0c4fe2972767f0  Class Name:  Nodule/Mass\n",
      "Patient Id:  7821 Patient Name:  Joan JOHNSON  Image ID:  af070ec995bc4fd4ebe6c4af7ebab4ff  Class Name:  Nodule/Mass\n",
      "Patient Id:  7848 Patient Name:  Tim JONES  Image ID:  e82d33dfd04d95c61d8d133dcbf29691  Class Name:  Nodule/Mass\n",
      "Patient Id:  7853 Patient Name:  Ray THOMAS  Image ID:  f9ed3bb4d581e085c189f563936b147d  Class Name:  Nodule/Mass\n",
      "Patient Id:  7855 Patient Name:  Richard JACKSON  Image ID:  4136016fd53cb7cd6a3ac0a6f02ad0d1  Class Name:  Nodule/Mass\n",
      "Patient Id:  7888 Patient Name:  Jerry WHITE  Image ID:  1b3379be7c72c3ae5404df423ed74388  Class Name:  Nodule/Mass\n",
      "Patient Id:  7910 Patient Name:  Erwin WILSON  Image ID:  129a1e7753432edd052a2cdbfbaee00e  Class Name:  Nodule/Mass\n",
      "Patient Id:  7915 Patient Name:  Owen JONES  Image ID:  0a8d69d1c45bece901929db269a5e6cf  Class Name:  Nodule/Mass\n",
      "Patient Id:  7931 Patient Name:  Richard ADAMS  Image ID:  ee78e8eed2761d5df2f0bd231820b114  Class Name:  Nodule/Mass\n",
      "Patient Id:  7933 Patient Name:  Margarett TAYLOR  Image ID:  e5f555e04bd705502f7ca5e36e9e845a  Class Name:  Nodule/Mass\n",
      "Patient Id:  7969 Patient Name:  Thomas ANDERSON  Image ID:  fe619a02b19b72ad527dc3e8642f4afd  Class Name:  Nodule/Mass\n",
      "Patient Id:  7987 Patient Name:  John MARTINEZ  Image ID:  b59629dc8c337b965c0addbd03d08856  Class Name:  Nodule/Mass\n",
      "Patient Id:  8010 Patient Name:  Vicki MARTINEZ  Image ID:  95b9b32e68bfb95100cc300664f9aae5  Class Name:  Nodule/Mass\n",
      "Patient Id:  8017 Patient Name:  Patricia MARTIN  Image ID:  51dcd45e616257b874c6017e46737417  Class Name:  Nodule/Mass\n",
      "Patient Id:  8017 Patient Name:  Patricia MARTIN  Image ID:  ba665972d68d2cb8b55839ad6592961c  Class Name:  Nodule/Mass\n",
      "Patient Id:  8030 Patient Name:  Charles GARCIA  Image ID:  c349be7e4665f40957aed354d8d56d58  Class Name:  Nodule/Mass\n",
      "Patient Id:  8053 Patient Name:  Michael GARCIA  Image ID:  342ac977b5591f53b37f9fcce27bfa2c  Class Name:  Nodule/Mass\n",
      "Patient Id:  8064 Patient Name:  Joan HERNANDEZ  Image ID:  3a0135174fe1bec08b8318fba4aa951c  Class Name:  Nodule/Mass\n",
      "Patient Id:  8079 Patient Name:  Henry ROBINSON  Image ID:  5c22ee484c55a079ac153153368ecd60  Class Name:  Nodule/Mass\n",
      "Patient Id:  8086 Patient Name:  Cynthia ROBINSON  Image ID:  c201c69926e59f0c1dfeeeb8365ff05a  Class Name:  Nodule/Mass\n",
      "Patient Id:  8134 Patient Name:  Melvin HERNANDEZ  Image ID:  e27172128ec1e2610400fd1312f53896  Class Name:  Nodule/Mass\n",
      "Patient Id:  8135 Patient Name:  Roger WILSON  Image ID:  a782b1a571da89222c8085b9fb6b1df5  Class Name:  Nodule/Mass\n",
      "Patient Id:  8138 Patient Name:  Janice BROWN  Image ID:  44ff83f86f81c54ed2540ccddcc68263  Class Name:  Nodule/Mass\n",
      "Patient Id:  8143 Patient Name:  Mary GREEN  Image ID:  df1ba068fad70f8cfa474ee67004067c  Class Name:  Nodule/Mass\n",
      "Patient Id:  8150 Patient Name:  Christina MARTIN  Image ID:  e312a8c1788a0b47d0ce8c1321a912f9  Class Name:  Nodule/Mass\n",
      "Patient Id:  8160 Patient Name:  Nancy MOORE  Image ID:  b7806ab0cae2d0a9e40e009a354e4712  Class Name:  Nodule/Mass\n",
      "Patient Id:  8189 Patient Name:  Dennis JACKSON  Image ID:  d03bca40fd8aa7ad5940d73d00b1e95a  Class Name:  Nodule/Mass\n",
      "Patient Id:  8201 Patient Name:  Michael GARCIA  Image ID:  330f501cb35f5f63d3f9cefe507ff47a  Class Name:  Nodule/Mass\n",
      "Patient Id:  8210 Patient Name:  Ann MILLER  Image ID:  37a92825a91afad20459a69b0f61967a  Class Name:  Nodule/Mass\n",
      "Patient Id:  8216 Patient Name:  Robert WILSON  Image ID:  d19b822e1f1cb392d172d1ee4fa73005  Class Name:  Nodule/Mass\n",
      "Patient Id:  8241 Patient Name:  Janice JONES  Image ID:  19850eb0ba7a72faf4b329254ab42828  Class Name:  Nodule/Mass\n",
      "Patient Id:  8243 Patient Name:  Lee WILSON  Image ID:  c323203fff69b129f3aadbf66dada2cd  Class Name:  Nodule/Mass\n",
      "Patient Id:  8249 Patient Name:  Robert LOPEZ  Image ID:  570103628c5548a5ea2c4a1c1f0a051f  Class Name:  Nodule/Mass\n",
      "Patient Id:  8263 Patient Name:  George JACKSON  Image ID:  80566fdc49f6da7e1a3e5f69bda6d299  Class Name:  Nodule/Mass\n",
      "Patient Id:  8267 Patient Name:  Stella MARTINEZ  Image ID:  54b776c1c57573abd6484945cd19f70f  Class Name:  Nodule/Mass\n",
      "Patient Id:  8318 Patient Name:  Robert JONES  Image ID:  013893a5fa90241c65c3efcdbdd2cec1  Class Name:  Nodule/Mass\n",
      "Patient Id:  8324 Patient Name:  Christina WILSON  Image ID:  0ba74ac32c808042eb0044c4871c8562  Class Name:  Nodule/Mass\n",
      "Patient Id:  8335 Patient Name:  Frank LEE  Image ID:  5dcc50d9eb1c4959a2a0dbdf2845ffc3  Class Name:  Nodule/Mass\n",
      "Patient Id:  8370 Patient Name:  Mary JONES  Image ID:  5994672502a02f2e1d49b164e16ab4af  Class Name:  Nodule/Mass\n",
      "Patient Id:  8396 Patient Name:  Patricia MARTINEZ  Image ID:  8af84125f707b873c506f65de72e02e4  Class Name:  Nodule/Mass\n",
      "Patient Id:  8400 Patient Name:  Rosa MOORE  Image ID:  19da7247b897983617e17c69636620ad  Class Name:  Nodule/Mass\n",
      "Patient Id:  8401 Patient Name:  William JACKSON  Image ID:  448408b2da910f68f956ba77db83bf7f  Class Name:  Nodule/Mass\n",
      "Patient Id:  8418 Patient Name:  Nora HERNANDEZ  Image ID:  e58fe7f6d0a7b6885789d418252279ff  Class Name:  Nodule/Mass\n",
      "Patient Id:  8419 Patient Name:  William WILSON  Image ID:  7f96d122bf50434dcfd3dd9b16d2c05f  Class Name:  Nodule/Mass\n",
      "Patient Id:  8422 Patient Name:  Linda ANDERSON  Image ID:  5b2e28bd44d10e3e10605d0d95ffba22  Class Name:  Nodule/Mass\n",
      "Patient Id:  8444 Patient Name:  George MOORE  Image ID:  83b5a0edd3e244010d8dfcbb4c20d3b8  Class Name:  Nodule/Mass\n",
      "Patient Id:  8445 Patient Name:  James ANDERSON  Image ID:  59d5b55eca496f01f9d795e593f53db3  Class Name:  Nodule/Mass\n",
      "Patient Id:  8451 Patient Name:  Jane WHITE  Image ID:  0aee36a63b071c37c1d647d931c7a833  Class Name:  Nodule/Mass\n",
      "Patient Id:  8460 Patient Name:  Genevieve TAYLOR  Image ID:  ca19716f532ddbf179f3db529e83dc14  Class Name:  Nodule/Mass\n",
      "Patient Id:  8472 Patient Name:  Joanne LOPEZ  Image ID:  897a9061820965f894abf66586bef0a5  Class Name:  Nodule/Mass\n",
      "Patient Id:  8482 Patient Name:  James MARTINEZ  Image ID:  84ba0b4f7173bcd81edb868806d46e86  Class Name:  Nodule/Mass\n",
      "Patient Id:  8500 Patient Name:  David LOPEZ  Image ID:  495a8387ebc7d7ccfef5756ba2f4bb01  Class Name:  Nodule/Mass\n",
      "Patient Id:  8524 Patient Name:  Joetta SANCHEZ  Image ID:  844c43d38ba987837ba7d59a2b0c2436  Class Name:  Nodule/Mass\n",
      "Patient Id:  8545 Patient Name:  Johnny DAVIS  Image ID:  c08b334ae97ac2ef330464fc964dc7ec  Class Name:  Nodule/Mass\n",
      "Patient Id:  8557 Patient Name:  Joyce MILLER  Image ID:  8649d84b0796e9deccdd4f6bd8d4e998  Class Name:  Nodule/Mass\n",
      "Patient Id:  8577 Patient Name:  Viola THOMAS  Image ID:  84e40e31ede36c012e3784591369d622  Class Name:  Nodule/Mass\n",
      "Patient Id:  8586 Patient Name:  Carol THOMAS  Image ID:  3d13a22e76206fe0ec7290d11675fc55  Class Name:  Nodule/Mass\n",
      "Patient Id:  8588 Patient Name:  Douglas BROWN  Image ID:  0007d316f756b3fa0baea2ff514ce945  Class Name:  Nodule/Mass\n",
      "Patient Id:  8588 Patient Name:  Douglas BROWN  Image ID:  522f0c06d9e1f4a71a80d3c3977d2224  Class Name:  Nodule/Mass\n",
      "Patient Id:  8610 Patient Name:  Frank LEE  Image ID:  09fcb37b4bf132c373ae0435f13fa059  Class Name:  Nodule/Mass\n",
      "Patient Id:  8621 Patient Name:  Bobby RODRIGUEZ  Image ID:  2a8be2bd51a3851ed0ce9c84e9a62426  Class Name:  Nodule/Mass\n",
      "Patient Id:  8684 Patient Name:  Anderson GARCIA  Image ID:  93d04c587467e12a828828f907adecdb  Class Name:  Nodule/Mass\n",
      "Patient Id:  8709 Patient Name:  James WILLIAMS  Image ID:  25c342addb22487b245ba09784e3efc9  Class Name:  Nodule/Mass\n",
      "Patient Id:  8713 Patient Name:  Howard THOMAS  Image ID:  449d8bc9224433abf1a23b78998bac06  Class Name:  Nodule/Mass\n",
      "Patient Id:  8725 Patient Name:  Gary TAYLOR  Image ID:  dea1a3c3102b2b3efccffd9452c1da7f  Class Name:  Nodule/Mass\n",
      "Patient Id:  8752 Patient Name:  Michel LEE  Image ID:  bbded36443480f20efc2a93c6c353369  Class Name:  Nodule/Mass\n",
      "Patient Id:  8752 Patient Name:  Michel LEE  Image ID:  d1ae8f8c681cf7e9ad6fc1f8ab02dc3a  Class Name:  Nodule/Mass\n",
      "Patient Id:  8769 Patient Name:  Deborah THOMPSON  Image ID:  f8f3bf0d3d08f814e2764470681998a4  Class Name:  Nodule/Mass\n",
      "Patient Id:  8781 Patient Name:  Steven RODRIGUEZ  Image ID:  92cc2be1500427075fed66385ea7dc97  Class Name:  Nodule/Mass\n",
      "Patient Id:  8790 Patient Name:  Jerry MARTINEZ  Image ID:  c15780a1800258280c80ab54047af86b  Class Name:  Nodule/Mass\n",
      "Patient Id:  8820 Patient Name:  Gregory WILSON  Image ID:  9312eef59a2ec95acb7e39d0508d89cc  Class Name:  Nodule/Mass\n",
      "Patient Id:  8842 Patient Name:  Monique MARTINEZ  Image ID:  f8e09e1878afbde523ffbccbf3f7eded  Class Name:  Nodule/Mass\n",
      "Patient Id:  8852 Patient Name:  Carlo DAVIS  Image ID:  328c2e4790fad49004a3bf14be3a51c6  Class Name:  Nodule/Mass\n",
      "Patient Id:  8857 Patient Name:  Sandra THOMPSON  Image ID:  0c7a38f293d5f5e4846aa4ca6db4daf1  Class Name:  Nodule/Mass\n",
      "Patient Id:  8881 Patient Name:  Carol THOMPSON  Image ID:  b8b8c9ae5afd3e8d2dbd5d69fa0f9378  Class Name:  Nodule/Mass\n",
      "Patient Id:  8905 Patient Name:  Richard MARTINEZ  Image ID:  04fd89a35648f61485c02b90454bf246  Class Name:  Nodule/Mass\n",
      "Patient Id:  8924 Patient Name:  Linda MARTINEZ  Image ID:  e52b5e6afc1c45823626dfc0b0c07a8c  Class Name:  Nodule/Mass\n",
      "Patient Id:  8938 Patient Name:  Odel THOMPSON  Image ID:  63f24af3bd9f735911958c1190306af1  Class Name:  Nodule/Mass\n",
      "Patient Id:  8952 Patient Name:  Robert WHITE  Image ID:  c1488ee019d770c751f6340afdab5a2c  Class Name:  Nodule/Mass\n",
      "Patient Id:  8956 Patient Name:  Thomas WILSON  Image ID:  87f7997c901c0026e338e6f6d79b385f  Class Name:  Nodule/Mass\n",
      "Patient Id:  8956 Patient Name:  Thomas WILSON  Image ID:  c4f7b110380be6bee542f5c26c78f36d  Class Name:  Nodule/Mass\n",
      "Patient Id:  8964 Patient Name:  Linda BROWN  Image ID:  a79e4b1c72a57047464f65c65f2b7ff3  Class Name:  Nodule/Mass\n",
      "Patient Id:  8978 Patient Name:  Mary LEE  Image ID:  bd1aeb3b9a96232d36037a08070a2149  Class Name:  Nodule/Mass\n",
      "Patient Id:  8982 Patient Name:  Diane HERNANDEZ  Image ID:  5927e15c854e4b6ba3fda0539251b91a  Class Name:  Nodule/Mass\n",
      "Patient Id:  8982 Patient Name:  Diane HERNANDEZ  Image ID:  c27f709d67e4efcf04157036c6195c75  Class Name:  Nodule/Mass\n",
      "Patient Id:  9045 Patient Name:  Paul LOPEZ  Image ID:  4fbadd9601a2a98892407eff3f194de7  Class Name:  Nodule/Mass\n",
      "Patient Id:  9049 Patient Name:  Ruth MARTINEZ  Image ID:  b18121dc37e2914d7a630c3ac781c9d7  Class Name:  Nodule/Mass\n",
      "Patient Id:  9119 Patient Name:  James HERNANDEZ  Image ID:  c05d9cb1afa188530a03e514df4d6696  Class Name:  Nodule/Mass\n",
      "Patient Id:  9124 Patient Name:  Estelle THOMPSON  Image ID:  a8b3c06853e734708957190140f9eb35  Class Name:  Nodule/Mass\n",
      "Patient Id:  9146 Patient Name:  Edward JOHNSON  Image ID:  9a515577750417b5e6d096b6ae16880e  Class Name:  Nodule/Mass\n",
      "Patient Id:  9157 Patient Name:  Randal WILLIAMS  Image ID:  9e4494bb24faf76970a1116cda4da0fc  Class Name:  Nodule/Mass\n",
      "Patient Id:  9172 Patient Name:  William DAVIS  Image ID:  a3505263b75023b90b3bfcc7524d6310  Class Name:  Nodule/Mass\n",
      "Patient Id:  9176 Patient Name:  Lynn GARCIA  Image ID:  6033196ab6e265d7263d11ce1ae5d1c6  Class Name:  Nodule/Mass\n",
      "Patient Id:  9176 Patient Name:  Lynn GARCIA  Image ID:  83993c8d8053cfbc221fe1a34b7d1a03  Class Name:  Nodule/Mass\n",
      "Patient Id:  9198 Patient Name:  Willie MARTIN  Image ID:  c6c19cc8f966c6353e663a4e299d9a39  Class Name:  Nodule/Mass\n",
      "Patient Id:  9206 Patient Name:  Ernest MARTINEZ  Image ID:  0c6a7e3c733bd4f4d89443ca16615fc6  Class Name:  Nodule/Mass\n",
      "Patient Id:  9222 Patient Name:  Patricia MARTIN  Image ID:  be85b7d55e0ef589729ef4dd6ffc38fb  Class Name:  Nodule/Mass\n",
      "Patient Id:  9227 Patient Name:  Jackie MOORE  Image ID:  aefca6fbdab82ce59b2c7cceed75d062  Class Name:  Nodule/Mass\n",
      "Patient Id:  9258 Patient Name:  Jacquelyn HERNANDEZ  Image ID:  2591164d62a43e6d97a560800247cd5e  Class Name:  Nodule/Mass\n",
      "Patient Id:  9284 Patient Name:  David MARTIN  Image ID:  55794edcf6b27d7b8af0ac89eac453a6  Class Name:  Nodule/Mass\n",
      "Patient Id:  9303 Patient Name:  James MILLER  Image ID:  1d6476853a2aaaf281c1be2e2584e383  Class Name:  Nodule/Mass\n",
      "Patient Id:  9351 Patient Name:  Linda MARTINEZ  Image ID:  a4c53519d7af7aba7473d67f07afc21a  Class Name:  Nodule/Mass\n",
      "Patient Id:  9371 Patient Name:  Joan JOHNSON  Image ID:  3024b7dc8e38999c16ab20ed51c7aa2e  Class Name:  Nodule/Mass\n",
      "Patient Id:  9373 Patient Name:  Gladys MARTIN  Image ID:  06c69cf01de70640c23fddb47572b8dd  Class Name:  Nodule/Mass\n",
      "Patient Id:  9373 Patient Name:  Gladys MARTIN  Image ID:  8a67f8e2673ceb7004824904b6e72055  Class Name:  Nodule/Mass\n",
      "Patient Id:  9378 Patient Name:  Charles LEE  Image ID:  6581602a6339fe446da34c3bbc628dc8  Class Name:  Nodule/Mass\n",
      "Patient Id:  9381 Patient Name:  Donald LOPEZ  Image ID:  59615049fbc2df4b0aaeb3aca6648421  Class Name:  Nodule/Mass\n",
      "Patient Id:  9388 Patient Name:  Linda RODRIGUEZ  Image ID:  f0fe423a27c36770206a214d8d81a344  Class Name:  Nodule/Mass\n",
      "Patient Id:  9393 Patient Name:  Kathleen HERNANDEZ  Image ID:  44b30aa87ad06bd8263adbaab603da4a  Class Name:  Nodule/Mass\n",
      "Patient Id:  9400 Patient Name:  Samuel THOMPSON  Image ID:  33bfefddbcc3ffb6ccfac10b9fd63afc  Class Name:  Nodule/Mass\n",
      "Patient Id:  9400 Patient Name:  Samuel THOMPSON  Image ID:  c8f8879d41d18802e1eac91792aab861  Class Name:  Nodule/Mass\n",
      "Patient Id:  9402 Patient Name:  Juan LEE  Image ID:  2998cdc708e79055543eb95842261f57  Class Name:  Nodule/Mass\n",
      "Patient Id:  9414 Patient Name:  Silas GARCIA  Image ID:  66396f621903b00a1b7e1f54c8e5e8b3  Class Name:  Nodule/Mass\n",
      "Patient Id:  9418 Patient Name:  Diana WRIGHT  Image ID:  479f688143635e866da68da5dcd88efc  Class Name:  Nodule/Mass\n",
      "Patient Id:  9448 Patient Name:  Barbara HERNANDEZ  Image ID:  102cbcda64728d1f29cab99f4614e141  Class Name:  Nodule/Mass\n",
      "Patient Id:  9453 Patient Name:  Brenda THOMAS  Image ID:  ca2a64d3c50654de6327f3880bbc17d3  Class Name:  Nodule/Mass\n",
      "Patient Id:  9454 Patient Name:  William WILSON  Image ID:  52c85584532b1c23d447ab91ac1787ef  Class Name:  Nodule/Mass\n",
      "Patient Id:  9459 Patient Name:  Joan JACKSON  Image ID:  9c442dd90183b3bdfc38a3f81845658f  Class Name:  Nodule/Mass\n",
      "Patient Id:  9459 Patient Name:  Joan JACKSON  Image ID:  b78367d7be3c92afe88f13efcb6dcaf5  Class Name:  Nodule/Mass\n",
      "Patient Id:  9463 Patient Name:  Yolanda JACKSON  Image ID:  41981decf2f67490e917ab06a55a677c  Class Name:  Nodule/Mass\n",
      "Patient Id:  9465 Patient Name:  James JOHNSON  Image ID:  27129548cc62420449c33ed5fb41eec6  Class Name:  Nodule/Mass\n",
      "Patient Id:  9476 Patient Name:  Sharon WILSON  Image ID:  065e7a6c7c848aa3f17ae034e7fbec23  Class Name:  Nodule/Mass\n",
      "Patient Id:  9501 Patient Name:  Nancy RODRIGUEZ  Image ID:  adac80611898114bb1cd5cb47d80ffb4  Class Name:  Nodule/Mass\n",
      "Patient Id:  9511 Patient Name:  Stephen WILLIAMS  Image ID:  d593950d521cc08356d710dc4a68b73d  Class Name:  Nodule/Mass\n",
      "Patient Id:  9512 Patient Name:  Margie JOHNSON  Image ID:  b872e348b0ba7c7259853c8312f9daa4  Class Name:  Nodule/Mass\n",
      "Patient Id:  9523 Patient Name:  Patricia WHITE  Image ID:  9c9f556eea533f066368e0f4a452bee7  Class Name:  Nodule/Mass\n",
      "Patient Id:  9526 Patient Name:  Perry JOHNSON  Image ID:  3eaab50f6e8eb3229e752d546e41979b  Class Name:  Nodule/Mass\n",
      "Patient Id:  9526 Patient Name:  Perry JOHNSON  Image ID:  bb67aca944fb48947c777e0ad22b8ccc  Class Name:  Nodule/Mass\n",
      "Patient Id:  9532 Patient Name:  Willie MILLER  Image ID:  b691366d6d838d521c053720ef950e54  Class Name:  Nodule/Mass\n",
      "Patient Id:  9546 Patient Name:  Leslie LEE  Image ID:  d166f983d8e9178a4604a8b4378828a9  Class Name:  Nodule/Mass\n",
      "Patient Id:  9554 Patient Name:  Sally LEE  Image ID:  bd6d55f7df34a4347f106831229d0d18  Class Name:  Nodule/Mass\n",
      "Patient Id:  9557 Patient Name:  Elmer TAYLOR  Image ID:  afc6fb73eec576696b80c9deec2d3463  Class Name:  Nodule/Mass\n",
      "Patient Id:  9564 Patient Name:  Kathryn GARCIA  Image ID:  2a7272f9551b1b6248aba470735154aa  Class Name:  Nodule/Mass\n",
      "Patient Id:  9569 Patient Name:  Thomas JONES  Image ID:  d93f320722bd8a1dd8ed8f9be0a2d128  Class Name:  Nodule/Mass\n",
      "Patient Id:  9589 Patient Name:  Spencer THOMAS  Image ID:  4f29e68be3ff463ba57cfcf7ebfddfbc  Class Name:  Nodule/Mass\n",
      "Patient Id:  9619 Patient Name:  Penny MARTINEZ  Image ID:  6d77cebbbcaafe74863f18ad5e9549a5  Class Name:  Nodule/Mass\n",
      "Patient Id:  9657 Patient Name:  Dorothy LOPEZ  Image ID:  4de0046df0947c59999ff9fc24c8f1f8  Class Name:  Nodule/Mass\n",
      "Patient Id:  9658 Patient Name:  Leslie MARTIN  Image ID:  67d78accb5656a6e435a912ca941c27e  Class Name:  Nodule/Mass\n",
      "Patient Id:  9659 Patient Name:  Roy THOMAS  Image ID:  edff2d7a316236e57447381af74a7ebf  Class Name:  Nodule/Mass\n",
      "Patient Id:  9691 Patient Name:  Joseph HERNANDEZ  Image ID:  d41c05973e6b7a4a676759923007a01a  Class Name:  Nodule/Mass\n",
      "Patient Id:  9694 Patient Name:  Mary WILLIAMS  Image ID:  0dae90df11425cf2a357af877293026f  Class Name:  Nodule/Mass\n",
      "Patient Id:  9694 Patient Name:  Mary WILLIAMS  Image ID:  73de4dfd9d1dd268f299b08c1ec3d4a2  Class Name:  Nodule/Mass\n",
      "Patient Id:  9696 Patient Name:  William GARCIA  Image ID:  6ac75953da6e3587b8bf97673ee7049f  Class Name:  Nodule/Mass\n",
      "Patient Id:  9696 Patient Name:  William GARCIA  Image ID:  e7bcf671b3a76fc9b0ba29727f3a7a5c  Class Name:  Nodule/Mass\n",
      "Patient Id:  9716 Patient Name:  John RODRIGUEZ  Image ID:  4b514fdcb1c194983b7b34c9fc3e0ad5  Class Name:  Nodule/Mass\n",
      "Patient Id:  9721 Patient Name:  Daniel JONES  Image ID:  2e14a1d545fe84fb87891640ba990781  Class Name:  Nodule/Mass\n",
      "Patient Id:  9727 Patient Name:  Gail HERNANDEZ  Image ID:  37097f7608e3b19fd015b45cd85104ca  Class Name:  Nodule/Mass\n",
      "Patient Id:  9729 Patient Name:  Myrtle THOMPSON  Image ID:  542662f9fffebc1b9c7f852a3792e3a9  Class Name:  Nodule/Mass\n",
      "Patient Id:  9737 Patient Name:  Jeffrey WHITE  Image ID:  0a4fbc9ade84a7abd1680eb8ba031a9d  Class Name:  Nodule/Mass\n",
      "Patient Id:  9770 Patient Name:  Stephen GARCIA  Image ID:  0059d21bef1793fa9522e4ec8cae1a1a  Class Name:  Nodule/Mass\n",
      "Patient Id:  9779 Patient Name:  Francine MOORE  Image ID:  30c14fe250babdc626ccf16bba0560e3  Class Name:  Nodule/Mass\n",
      "Patient Id:  9812 Patient Name:  Philip PEREZ  Image ID:  b6f79693e9ae47422c76c434ad003fa9  Class Name:  Nodule/Mass\n",
      "Patient Id:  9823 Patient Name:  Marjorie MOORE  Image ID:  9045dfc3d4a724a051e85b331af35116  Class Name:  Nodule/Mass\n",
      "Patient Id:  9845 Patient Name:  Pedro BROWN  Image ID:  509273d5d4ce790330ea3956d448d8dd  Class Name:  Nodule/Mass\n",
      "Patient Id:  9847 Patient Name:  Rose RODRIGUEZ  Image ID:  6db59ec25f0f8ab882e5ce79b1688aed  Class Name:  Nodule/Mass\n",
      "Patient Id:  9855 Patient Name:  Maxine THOMPSON  Image ID:  21d5465ffc737f2c94f66cc5b740614e  Class Name:  Nodule/Mass\n",
      "Patient Id:  9890 Patient Name:  Kenneth JONES  Image ID:  e8899a119282a4b2b67b19ad42bedf6a  Class Name:  Nodule/Mass\n",
      "Patient Id:  9919 Patient Name:  Billy WILSON  Image ID:  adf83198e0e44726552116b6bf7b845a  Class Name:  Nodule/Mass\n",
      "Patient Id:  9919 Patient Name:  Billy WILSON  Image ID:  f4d47aa68af0a6a3b5ca91e721707421  Class Name:  Nodule/Mass\n",
      "Patient Id:  9923 Patient Name:  David MILLER  Image ID:  958a4c63f5e4151e78a7a3684eb4616f  Class Name:  Nodule/Mass\n",
      "Patient Id:  9924 Patient Name:  Susan WILSON  Image ID:  ccd7d21b78e61e095e6d506c57b2f4f7  Class Name:  Nodule/Mass\n",
      "Patient Id:  9938 Patient Name:  Helen JACKSON  Image ID:  e1d0449f1cb674cecbd6c6dd3da50b1b  Class Name:  Nodule/Mass\n",
      "Patient Id:  9939 Patient Name:  Ned MOORE  Image ID:  bd797642567d40f2ad51baddcaef6838  Class Name:  Nodule/Mass\n",
      "Patient Id:  9953 Patient Name:  Charles MARTINEZ  Image ID:  f5f324fd65b3230f3f9e103dd701ae37  Class Name:  Nodule/Mass\n",
      "Patient Id:  9966 Patient Name:  Mary MARTINEZ  Image ID:  55e5dd662042639488ebb9fbd6a02864  Class Name:  Nodule/Mass\n",
      "Patient Id:  9969 Patient Name:  Charlene MARTIN  Image ID:  d2eba3b4a06d7b0df1e0490bb9091743  Class Name:  Nodule/Mass\n",
      "Patient Id:  9978 Patient Name:  Beverly LOPEZ  Image ID:  48156d6bfe2963e62c115d0fa7a56f8b  Class Name:  Nodule/Mass\n",
      "Patient Id:  9988 Patient Name:  Harold THOMAS  Image ID:  11b45b85ec598039c5b2da0ebc23d0a3  Class Name:  Nodule/Mass\n",
      "Patient Id:  9997 Patient Name:  Carolyn THOMAS  Image ID:  c0440c09698f89df168dc146af067fe7  Class Name:  Nodule/Mass\n",
      "CPU times: user 1.05 s, sys: 318 ms, total: 1.36 s\n",
      "Wall time: 887 ms\n"
     ]
    }
   ],
   "source": [
    "%%time\n",
    "\n",
    "# At least 1 Nodule/Mass Predition\n",
    "\n",
    "s2conn = pymysql.connect(\n",
    "    user='root',\n",
    "    password='Sglstrpw34',\n",
    "    host='172.31.62.112',\n",
    "    port=3306,\n",
    "    database='PatientRecords')\n",
    "\n",
    "mycursor = s2conn.cursor()\n",
    "\n",
    "sql =  \"\"\"\n",
    "SELECT \n",
    "    ih.PatientID\n",
    "    ,ih.file\n",
    "    ,ip2.ClassName \n",
    "    ,pi.FirstName\n",
    "    ,pi.LastName\n",
    "from \n",
    "    ImageHeader ih \n",
    "join (\n",
    "    select\n",
    "        file\n",
    "        ,ClassID\n",
    "        ,ClassName\n",
    "        ,count(*) ClassCount\n",
    "    from\n",
    "        ImagePredictions ip\n",
    "    group by\n",
    "        file\n",
    "        ,ClassID\n",
    "        ,ClassName\n",
    ") ip2 on\n",
    "    ip2.file = ih.file\n",
    "join PatientInfo2 pi on\n",
    "    pi.PatientID = ih.PatientID\n",
    "where\n",
    "    ip2.ClassName = 'Nodule/Mass'\n",
    "    and ip2.ClassCount > 1\n",
    "order by \n",
    "    ih.PatientID, \n",
    "    ih.file; \n",
    "\"\"\"\n",
    "\n",
    "mycursor.execute(sql)\n",
    "print(mycursor.rowcount, \"images selected.\\n\")\n",
    "\n",
    "record = mycursor.fetchall()\n",
    "for row in record:\n",
    "    print(\"Patient Id: \", row[0], \"Patient Name: \", row[3], row[4],\" Image ID: \", row[1] , \" Class Name: \", row[2])\n",
    "    \n",
    "mycursor.close()\n",
    "s2conn.close()"
   ]
  },
  {
   "cell_type": "markdown",
   "id": "7e4a8613-b097-4ce7-b3b9-f36b987fc3ba",
   "metadata": {},
   "source": [
    "# Display Patient having more that 3 Nodule/Masses on X-Ray showing Images"
   ]
  },
  {
   "cell_type": "code",
   "execution_count": 4,
   "id": "65cbc7be-7bd8-4109-97a1-4e390998b272",
   "metadata": {
    "tags": []
   },
   "outputs": [
    {
     "name": "stdout",
     "output_type": "stream",
     "text": [
      "49 images selected.\n",
      "\n",
      "Patient Id:  126 Patient Name:  Harold HERNANDEZ  Image ID:  35e38672875ff60d5a131d91b4db5a6d  Class Name:  Nodule/Mass\n"
     ]
    },
    {
     "data": {
      "application/vnd.jupyter.widget-view+json": {
       "model_id": "2adb74c43052443e9bf2762aacfbc899",
       "version_major": 2,
       "version_minor": 0
      },
      "text/plain": [
       "HBox(children=(Image(value=b'\\xff\\xd8\\xff\\xe0\\x00\\x10JFIF\\x00\\x01\\x01\\x00\\x00\\x01\\x00\\x01\\x00\\x00\\xff\\xdb\\x00C…"
      ]
     },
     "metadata": {},
     "output_type": "display_data"
    },
    {
     "name": "stdout",
     "output_type": "stream",
     "text": [
      "Patient Id:  296 Patient Name:  Robert MOORE  Image ID:  db724caf57a7adc90648a092e9fa2395  Class Name:  Nodule/Mass\n"
     ]
    },
    {
     "data": {
      "application/vnd.jupyter.widget-view+json": {
       "model_id": "576b3b6379a74d30963736bcd4637706",
       "version_major": 2,
       "version_minor": 0
      },
      "text/plain": [
       "HBox(children=(Image(value=b'\\xff\\xd8\\xff\\xe0\\x00\\x10JFIF\\x00\\x01\\x01\\x00\\x00\\x01\\x00\\x01\\x00\\x00\\xff\\xdb\\x00C…"
      ]
     },
     "metadata": {},
     "output_type": "display_data"
    },
    {
     "name": "stdout",
     "output_type": "stream",
     "text": [
      "Patient Id:  705 Patient Name:  Joy JACKSON  Image ID:  1e1dcf1ea1d974a5fea81b7616a11723  Class Name:  Nodule/Mass\n"
     ]
    },
    {
     "data": {
      "application/vnd.jupyter.widget-view+json": {
       "model_id": "f6823f7da29b4931b72a17f44a02867f",
       "version_major": 2,
       "version_minor": 0
      },
      "text/plain": [
       "HBox(children=(Image(value=b'\\xff\\xd8\\xff\\xe0\\x00\\x10JFIF\\x00\\x01\\x01\\x00\\x00\\x01\\x00\\x01\\x00\\x00\\xff\\xdb\\x00C…"
      ]
     },
     "metadata": {},
     "output_type": "display_data"
    },
    {
     "name": "stdout",
     "output_type": "stream",
     "text": [
      "Patient Id:  930 Patient Name:  Houston PEREZ  Image ID:  de20b8c80c04bd2dbe0782fb21738588  Class Name:  Nodule/Mass\n"
     ]
    },
    {
     "data": {
      "application/vnd.jupyter.widget-view+json": {
       "model_id": "412924b54dbe4db6bcf797850837dc46",
       "version_major": 2,
       "version_minor": 0
      },
      "text/plain": [
       "HBox(children=(Image(value=b'\\xff\\xd8\\xff\\xe0\\x00\\x10JFIF\\x00\\x01\\x01\\x00\\x00\\x01\\x00\\x01\\x00\\x00\\xff\\xdb\\x00C…"
      ]
     },
     "metadata": {},
     "output_type": "display_data"
    },
    {
     "name": "stdout",
     "output_type": "stream",
     "text": [
      "Patient Id:  939 Patient Name:  Rosa MARTIN  Image ID:  4e0856fe29f4d2eecc45dcac43c39c1e  Class Name:  Nodule/Mass\n"
     ]
    },
    {
     "data": {
      "application/vnd.jupyter.widget-view+json": {
       "model_id": "92e5e66947364f70926d2f8eeb34fca7",
       "version_major": 2,
       "version_minor": 0
      },
      "text/plain": [
       "HBox(children=(Image(value=b'\\xff\\xd8\\xff\\xe0\\x00\\x10JFIF\\x00\\x01\\x01\\x00\\x00\\x01\\x00\\x01\\x00\\x00\\xff\\xdb\\x00C…"
      ]
     },
     "metadata": {},
     "output_type": "display_data"
    },
    {
     "name": "stdout",
     "output_type": "stream",
     "text": [
      "Patient Id:  962 Patient Name:  Lucinda TAYLOR  Image ID:  27b822c5d3b354f096dfb788fd3fa636  Class Name:  Nodule/Mass\n"
     ]
    },
    {
     "data": {
      "application/vnd.jupyter.widget-view+json": {
       "model_id": "89190605be3944d3b0611591e33f31c0",
       "version_major": 2,
       "version_minor": 0
      },
      "text/plain": [
       "HBox(children=(Image(value=b'\\xff\\xd8\\xff\\xe0\\x00\\x10JFIF\\x00\\x01\\x01\\x00\\x00\\x01\\x00\\x01\\x00\\x00\\xff\\xdb\\x00C…"
      ]
     },
     "metadata": {},
     "output_type": "display_data"
    },
    {
     "name": "stdout",
     "output_type": "stream",
     "text": [
      "Patient Id:  1104 Patient Name:  Carolyn JACKSON  Image ID:  e4a528876744e3a37158645935028c57  Class Name:  Nodule/Mass\n"
     ]
    },
    {
     "data": {
      "application/vnd.jupyter.widget-view+json": {
       "model_id": "cd4babb75fdb42d6a2328e2fc732b7d5",
       "version_major": 2,
       "version_minor": 0
      },
      "text/plain": [
       "HBox(children=(Image(value=b'\\xff\\xd8\\xff\\xe0\\x00\\x10JFIF\\x00\\x01\\x01\\x00\\x00\\x01\\x00\\x01\\x00\\x00\\xff\\xdb\\x00C…"
      ]
     },
     "metadata": {},
     "output_type": "display_data"
    },
    {
     "name": "stdout",
     "output_type": "stream",
     "text": [
      "Patient Id:  1232 Patient Name:  John WILSON  Image ID:  2c6c48665c4d007b795cbcb57da481bd  Class Name:  Nodule/Mass\n"
     ]
    },
    {
     "data": {
      "application/vnd.jupyter.widget-view+json": {
       "model_id": "6c878a1c58fe4fbb8c057297d3f7f31e",
       "version_major": 2,
       "version_minor": 0
      },
      "text/plain": [
       "HBox(children=(Image(value=b'\\xff\\xd8\\xff\\xe0\\x00\\x10JFIF\\x00\\x01\\x01\\x00\\x00\\x01\\x00\\x01\\x00\\x00\\xff\\xdb\\x00C…"
      ]
     },
     "metadata": {},
     "output_type": "display_data"
    },
    {
     "name": "stdout",
     "output_type": "stream",
     "text": [
      "Patient Id:  1248 Patient Name:  Janice MILLER  Image ID:  8e8108b7709b8f9f60eabe001816dbd4  Class Name:  Nodule/Mass\n"
     ]
    },
    {
     "data": {
      "application/vnd.jupyter.widget-view+json": {
       "model_id": "91dd652d25314b85ba75faf2be68a038",
       "version_major": 2,
       "version_minor": 0
      },
      "text/plain": [
       "HBox(children=(Image(value=b'\\xff\\xd8\\xff\\xe0\\x00\\x10JFIF\\x00\\x01\\x01\\x00\\x00\\x01\\x00\\x01\\x00\\x00\\xff\\xdb\\x00C…"
      ]
     },
     "metadata": {},
     "output_type": "display_data"
    },
    {
     "name": "stdout",
     "output_type": "stream",
     "text": [
      "Patient Id:  1904 Patient Name:  William ADAMS  Image ID:  e04fc8c293aab8b63db7576e123a7d84  Class Name:  Nodule/Mass\n"
     ]
    },
    {
     "data": {
      "application/vnd.jupyter.widget-view+json": {
       "model_id": "777bb26ceb0448ffa61da352caf8f88e",
       "version_major": 2,
       "version_minor": 0
      },
      "text/plain": [
       "HBox(children=(Image(value=b'\\xff\\xd8\\xff\\xe0\\x00\\x10JFIF\\x00\\x01\\x01\\x00\\x00\\x01\\x00\\x01\\x00\\x00\\xff\\xdb\\x00C…"
      ]
     },
     "metadata": {},
     "output_type": "display_data"
    },
    {
     "name": "stdout",
     "output_type": "stream",
     "text": [
      "Patient Id:  2273 Patient Name:  Linda JONES  Image ID:  c75d652b2cd934bb797a9a02c6aec8ee  Class Name:  Nodule/Mass\n"
     ]
    },
    {
     "data": {
      "application/vnd.jupyter.widget-view+json": {
       "model_id": "e8b8b36a329b426ab44d4af9567d44f4",
       "version_major": 2,
       "version_minor": 0
      },
      "text/plain": [
       "HBox(children=(Image(value=b'\\xff\\xd8\\xff\\xe0\\x00\\x10JFIF\\x00\\x01\\x01\\x00\\x00\\x01\\x00\\x01\\x00\\x00\\xff\\xdb\\x00C…"
      ]
     },
     "metadata": {},
     "output_type": "display_data"
    },
    {
     "name": "stdout",
     "output_type": "stream",
     "text": [
      "Patient Id:  2425 Patient Name:  Dorita WHITE  Image ID:  42fba4329860d5995fea57553104907a  Class Name:  Nodule/Mass\n"
     ]
    },
    {
     "data": {
      "application/vnd.jupyter.widget-view+json": {
       "model_id": "eead64ddf34d4166b2ba4e9f84416e5c",
       "version_major": 2,
       "version_minor": 0
      },
      "text/plain": [
       "HBox(children=(Image(value=b'\\xff\\xd8\\xff\\xe0\\x00\\x10JFIF\\x00\\x01\\x01\\x00\\x00\\x01\\x00\\x01\\x00\\x00\\xff\\xdb\\x00C…"
      ]
     },
     "metadata": {},
     "output_type": "display_data"
    },
    {
     "name": "stdout",
     "output_type": "stream",
     "text": [
      "Patient Id:  2451 Patient Name:  Alexander DAVIS  Image ID:  c723c6ffb2f746dff02c9538c6c593f4  Class Name:  Nodule/Mass\n"
     ]
    },
    {
     "data": {
      "application/vnd.jupyter.widget-view+json": {
       "model_id": "b9e98b3144cc476ca1d5bbe7cda45784",
       "version_major": 2,
       "version_minor": 0
      },
      "text/plain": [
       "HBox(children=(Image(value=b'\\xff\\xd8\\xff\\xe0\\x00\\x10JFIF\\x00\\x01\\x01\\x00\\x00\\x01\\x00\\x01\\x00\\x00\\xff\\xdb\\x00C…"
      ]
     },
     "metadata": {},
     "output_type": "display_data"
    },
    {
     "name": "stdout",
     "output_type": "stream",
     "text": [
      "Patient Id:  3299 Patient Name:  Karen WILLIAMS  Image ID:  3a8d4d0553fda8c1021a74a0e59ae131  Class Name:  Nodule/Mass\n"
     ]
    },
    {
     "data": {
      "application/vnd.jupyter.widget-view+json": {
       "model_id": "4e6d74dfa9334c35a81d3898a5c140df",
       "version_major": 2,
       "version_minor": 0
      },
      "text/plain": [
       "HBox(children=(Image(value=b'\\xff\\xd8\\xff\\xe0\\x00\\x10JFIF\\x00\\x01\\x01\\x00\\x00\\x01\\x00\\x01\\x00\\x00\\xff\\xdb\\x00C…"
      ]
     },
     "metadata": {},
     "output_type": "display_data"
    },
    {
     "name": "stdout",
     "output_type": "stream",
     "text": [
      "Patient Id:  3301 Patient Name:  Paula THOMAS  Image ID:  3c3977477c6ca3ea8a3d18ba0e4afed4  Class Name:  Nodule/Mass\n"
     ]
    },
    {
     "data": {
      "application/vnd.jupyter.widget-view+json": {
       "model_id": "ce28c81356ff4e5f9ebc83740cabc2ba",
       "version_major": 2,
       "version_minor": 0
      },
      "text/plain": [
       "HBox(children=(Image(value=b'\\xff\\xd8\\xff\\xe0\\x00\\x10JFIF\\x00\\x01\\x01\\x00\\x00\\x01\\x00\\x01\\x00\\x00\\xff\\xdb\\x00C…"
      ]
     },
     "metadata": {},
     "output_type": "display_data"
    },
    {
     "name": "stdout",
     "output_type": "stream",
     "text": [
      "Patient Id:  3449 Patient Name:  Dortha TAYLOR  Image ID:  c5dfd21f7ffbb5183cb8a2b7874de381  Class Name:  Nodule/Mass\n"
     ]
    },
    {
     "data": {
      "application/vnd.jupyter.widget-view+json": {
       "model_id": "c5fc1dfc6f3c4d9894b2460c3dd7cfed",
       "version_major": 2,
       "version_minor": 0
      },
      "text/plain": [
       "HBox(children=(Image(value=b'\\xff\\xd8\\xff\\xe0\\x00\\x10JFIF\\x00\\x01\\x01\\x00\\x00\\x01\\x00\\x01\\x00\\x00\\xff\\xdb\\x00C…"
      ]
     },
     "metadata": {},
     "output_type": "display_data"
    },
    {
     "name": "stdout",
     "output_type": "stream",
     "text": [
      "Patient Id:  3504 Patient Name:  Thomas WHITE  Image ID:  d3823d24855b6ef03c188e962948b4b9  Class Name:  Nodule/Mass\n"
     ]
    },
    {
     "data": {
      "application/vnd.jupyter.widget-view+json": {
       "model_id": "4c30b60b20504265ba2c74227d12d6f0",
       "version_major": 2,
       "version_minor": 0
      },
      "text/plain": [
       "HBox(children=(Image(value=b'\\xff\\xd8\\xff\\xe0\\x00\\x10JFIF\\x00\\x01\\x01\\x00\\x00\\x01\\x00\\x01\\x00\\x00\\xff\\xdb\\x00C…"
      ]
     },
     "metadata": {},
     "output_type": "display_data"
    },
    {
     "name": "stdout",
     "output_type": "stream",
     "text": [
      "Patient Id:  3575 Patient Name:  Judith LOPEZ  Image ID:  7d746268923b15615c93334eff3a6baf  Class Name:  Nodule/Mass\n"
     ]
    },
    {
     "data": {
      "application/vnd.jupyter.widget-view+json": {
       "model_id": "0b2b78b0434c43659fc1119d0d2a86c2",
       "version_major": 2,
       "version_minor": 0
      },
      "text/plain": [
       "HBox(children=(Image(value=b'\\xff\\xd8\\xff\\xe0\\x00\\x10JFIF\\x00\\x01\\x01\\x00\\x00\\x01\\x00\\x01\\x00\\x00\\xff\\xdb\\x00C…"
      ]
     },
     "metadata": {},
     "output_type": "display_data"
    },
    {
     "name": "stdout",
     "output_type": "stream",
     "text": [
      "Patient Id:  3600 Patient Name:  George MARTINEZ  Image ID:  9043e39c8e52843751e7cc9edc2c02e6  Class Name:  Nodule/Mass\n"
     ]
    },
    {
     "data": {
      "application/vnd.jupyter.widget-view+json": {
       "model_id": "b402d59acb3e4f388e4a9fcc564c84e4",
       "version_major": 2,
       "version_minor": 0
      },
      "text/plain": [
       "HBox(children=(Image(value=b'\\xff\\xd8\\xff\\xe0\\x00\\x10JFIF\\x00\\x01\\x01\\x00\\x00\\x01\\x00\\x01\\x00\\x00\\xff\\xdb\\x00C…"
      ]
     },
     "metadata": {},
     "output_type": "display_data"
    },
    {
     "name": "stdout",
     "output_type": "stream",
     "text": [
      "Patient Id:  3731 Patient Name:  Margaret BROWN  Image ID:  4ac56d1d9d015150191e49197b8ed15e  Class Name:  Nodule/Mass\n"
     ]
    },
    {
     "data": {
      "application/vnd.jupyter.widget-view+json": {
       "model_id": "90abe3d6531947b28fc526094fa0a1b3",
       "version_major": 2,
       "version_minor": 0
      },
      "text/plain": [
       "HBox(children=(Image(value=b'\\xff\\xd8\\xff\\xe0\\x00\\x10JFIF\\x00\\x01\\x01\\x00\\x00\\x01\\x00\\x01\\x00\\x00\\xff\\xdb\\x00C…"
      ]
     },
     "metadata": {},
     "output_type": "display_data"
    },
    {
     "name": "stdout",
     "output_type": "stream",
     "text": [
      "Patient Id:  4168 Patient Name:  Virginia MOORE  Image ID:  0e88612bd294e249382b9e64d222cdf4  Class Name:  Nodule/Mass\n"
     ]
    },
    {
     "data": {
      "application/vnd.jupyter.widget-view+json": {
       "model_id": "da7dd5b7df4a488e936ec6ce3d773470",
       "version_major": 2,
       "version_minor": 0
      },
      "text/plain": [
       "HBox(children=(Image(value=b'\\xff\\xd8\\xff\\xe0\\x00\\x10JFIF\\x00\\x01\\x01\\x00\\x00\\x01\\x00\\x01\\x00\\x00\\xff\\xdb\\x00C…"
      ]
     },
     "metadata": {},
     "output_type": "display_data"
    },
    {
     "name": "stdout",
     "output_type": "stream",
     "text": [
      "Patient Id:  4395 Patient Name:  Jill TAYLOR  Image ID:  6a5a92798a840e7b12533ada2e2816cb  Class Name:  Nodule/Mass\n"
     ]
    },
    {
     "data": {
      "application/vnd.jupyter.widget-view+json": {
       "model_id": "cc35d586b5ac4d42854cb13162a2a165",
       "version_major": 2,
       "version_minor": 0
      },
      "text/plain": [
       "HBox(children=(Image(value=b'\\xff\\xd8\\xff\\xe0\\x00\\x10JFIF\\x00\\x01\\x01\\x00\\x00\\x01\\x00\\x01\\x00\\x00\\xff\\xdb\\x00C…"
      ]
     },
     "metadata": {},
     "output_type": "display_data"
    },
    {
     "name": "stdout",
     "output_type": "stream",
     "text": [
      "Patient Id:  4637 Patient Name:  Robert HERNANDEZ  Image ID:  a9f2816d377349f221a96f46c728d36e  Class Name:  Nodule/Mass\n"
     ]
    },
    {
     "data": {
      "application/vnd.jupyter.widget-view+json": {
       "model_id": "308c465fb3084c65981beaceecd7ae85",
       "version_major": 2,
       "version_minor": 0
      },
      "text/plain": [
       "HBox(children=(Image(value=b'\\xff\\xd8\\xff\\xe0\\x00\\x10JFIF\\x00\\x01\\x01\\x00\\x00\\x01\\x00\\x01\\x00\\x00\\xff\\xdb\\x00C…"
      ]
     },
     "metadata": {},
     "output_type": "display_data"
    },
    {
     "name": "stdout",
     "output_type": "stream",
     "text": [
      "Patient Id:  4742 Patient Name:  Gilbert MOORE  Image ID:  059ec0fc0d6840cff6e268e46f85faa0  Class Name:  Nodule/Mass\n"
     ]
    },
    {
     "data": {
      "application/vnd.jupyter.widget-view+json": {
       "model_id": "c130e2c750d848bdaf82c48cfc5b7d8a",
       "version_major": 2,
       "version_minor": 0
      },
      "text/plain": [
       "HBox(children=(Image(value=b'\\xff\\xd8\\xff\\xe0\\x00\\x10JFIF\\x00\\x01\\x01\\x00\\x00\\x01\\x00\\x01\\x00\\x00\\xff\\xdb\\x00C…"
      ]
     },
     "metadata": {},
     "output_type": "display_data"
    },
    {
     "name": "stdout",
     "output_type": "stream",
     "text": [
      "Patient Id:  4761 Patient Name:  Keith ANDERSON  Image ID:  19417bae94986e8c122ae6efd92e3997  Class Name:  Nodule/Mass\n"
     ]
    },
    {
     "data": {
      "application/vnd.jupyter.widget-view+json": {
       "model_id": "2f01b78fe2134c2c964fb88f347e2bb9",
       "version_major": 2,
       "version_minor": 0
      },
      "text/plain": [
       "HBox(children=(Image(value=b'\\xff\\xd8\\xff\\xe0\\x00\\x10JFIF\\x00\\x01\\x01\\x00\\x00\\x01\\x00\\x01\\x00\\x00\\xff\\xdb\\x00C…"
      ]
     },
     "metadata": {},
     "output_type": "display_data"
    },
    {
     "name": "stdout",
     "output_type": "stream",
     "text": [
      "Patient Id:  5214 Patient Name:  Susan WILSON  Image ID:  e6e1f33532a2f3f93d17d2be963cd122  Class Name:  Nodule/Mass\n"
     ]
    },
    {
     "data": {
      "application/vnd.jupyter.widget-view+json": {
       "model_id": "a3b512def91f4473b7eb6430993cdcee",
       "version_major": 2,
       "version_minor": 0
      },
      "text/plain": [
       "HBox(children=(Image(value=b'\\xff\\xd8\\xff\\xe0\\x00\\x10JFIF\\x00\\x01\\x01\\x00\\x00\\x01\\x00\\x01\\x00\\x00\\xff\\xdb\\x00C…"
      ]
     },
     "metadata": {},
     "output_type": "display_data"
    },
    {
     "name": "stdout",
     "output_type": "stream",
     "text": [
      "Patient Id:  5224 Patient Name:  James THOMAS  Image ID:  b9b2a7a46b88db57379c59db58cc2228  Class Name:  Nodule/Mass\n"
     ]
    },
    {
     "data": {
      "application/vnd.jupyter.widget-view+json": {
       "model_id": "9a3a13b3176646dabdaaa581d269eaf9",
       "version_major": 2,
       "version_minor": 0
      },
      "text/plain": [
       "HBox(children=(Image(value=b'\\xff\\xd8\\xff\\xe0\\x00\\x10JFIF\\x00\\x01\\x01\\x00\\x00\\x01\\x00\\x01\\x00\\x00\\xff\\xdb\\x00C…"
      ]
     },
     "metadata": {},
     "output_type": "display_data"
    },
    {
     "name": "stdout",
     "output_type": "stream",
     "text": [
      "Patient Id:  5789 Patient Name:  William THOMPSON  Image ID:  2e1571fc9e41f68fcc84b6094d664416  Class Name:  Nodule/Mass\n"
     ]
    },
    {
     "data": {
      "application/vnd.jupyter.widget-view+json": {
       "model_id": "e681d7014de74ffb8b0f9b2a5086aa10",
       "version_major": 2,
       "version_minor": 0
      },
      "text/plain": [
       "HBox(children=(Image(value=b'\\xff\\xd8\\xff\\xe0\\x00\\x10JFIF\\x00\\x01\\x01\\x00\\x00\\x01\\x00\\x01\\x00\\x00\\xff\\xdb\\x00C…"
      ]
     },
     "metadata": {},
     "output_type": "display_data"
    },
    {
     "name": "stdout",
     "output_type": "stream",
     "text": [
      "Patient Id:  6116 Patient Name:  Hans LOPEZ  Image ID:  4b19ca098b479dd60cc2288ab680e3eb  Class Name:  Nodule/Mass\n"
     ]
    },
    {
     "data": {
      "application/vnd.jupyter.widget-view+json": {
       "model_id": "606da5baf3f24f729919d0ed41a80e7b",
       "version_major": 2,
       "version_minor": 0
      },
      "text/plain": [
       "HBox(children=(Image(value=b'\\xff\\xd8\\xff\\xe0\\x00\\x10JFIF\\x00\\x01\\x01\\x00\\x00\\x01\\x00\\x01\\x00\\x00\\xff\\xdb\\x00C…"
      ]
     },
     "metadata": {},
     "output_type": "display_data"
    },
    {
     "name": "stdout",
     "output_type": "stream",
     "text": [
      "Patient Id:  6194 Patient Name:  Nancy HERNANDEZ  Image ID:  e0dc2e79105ad93532484e956ef8a71a  Class Name:  Nodule/Mass\n"
     ]
    },
    {
     "data": {
      "application/vnd.jupyter.widget-view+json": {
       "model_id": "5953738feaf640ac94892afea8aa7caa",
       "version_major": 2,
       "version_minor": 0
      },
      "text/plain": [
       "HBox(children=(Image(value=b'\\xff\\xd8\\xff\\xe0\\x00\\x10JFIF\\x00\\x01\\x01\\x00\\x00\\x01\\x00\\x01\\x00\\x00\\xff\\xdb\\x00C…"
      ]
     },
     "metadata": {},
     "output_type": "display_data"
    },
    {
     "name": "stdout",
     "output_type": "stream",
     "text": [
      "Patient Id:  6328 Patient Name:  Barry LOPEZ  Image ID:  a1134e92282815efb505a93105083393  Class Name:  Nodule/Mass\n"
     ]
    },
    {
     "data": {
      "application/vnd.jupyter.widget-view+json": {
       "model_id": "c5c8f5d9ce64440781929c2793130b5c",
       "version_major": 2,
       "version_minor": 0
      },
      "text/plain": [
       "HBox(children=(Image(value=b'\\xff\\xd8\\xff\\xe0\\x00\\x10JFIF\\x00\\x01\\x01\\x00\\x00\\x01\\x00\\x01\\x00\\x00\\xff\\xdb\\x00C…"
      ]
     },
     "metadata": {},
     "output_type": "display_data"
    },
    {
     "name": "stdout",
     "output_type": "stream",
     "text": [
      "Patient Id:  6476 Patient Name:  Harold THOMPSON  Image ID:  7a7b30a642d5f305ccf5f7a6f2e901e8  Class Name:  Nodule/Mass\n"
     ]
    },
    {
     "data": {
      "application/vnd.jupyter.widget-view+json": {
       "model_id": "507fa28bc84a41e0ab696bc2409569cc",
       "version_major": 2,
       "version_minor": 0
      },
      "text/plain": [
       "HBox(children=(Image(value=b'\\xff\\xd8\\xff\\xe0\\x00\\x10JFIF\\x00\\x01\\x01\\x00\\x00\\x01\\x00\\x01\\x00\\x00\\xff\\xdb\\x00C…"
      ]
     },
     "metadata": {},
     "output_type": "display_data"
    },
    {
     "name": "stdout",
     "output_type": "stream",
     "text": [
      "Patient Id:  6542 Patient Name:  Kathy HERNANDEZ  Image ID:  38ab2d3283b496d60dc137e94d16b7c6  Class Name:  Nodule/Mass\n"
     ]
    },
    {
     "data": {
      "application/vnd.jupyter.widget-view+json": {
       "model_id": "fdd33de63c9b432aa3523836a8e88c8b",
       "version_major": 2,
       "version_minor": 0
      },
      "text/plain": [
       "HBox(children=(Image(value=b'\\xff\\xd8\\xff\\xe0\\x00\\x10JFIF\\x00\\x01\\x01\\x00\\x00\\x01\\x00\\x01\\x00\\x00\\xff\\xdb\\x00C…"
      ]
     },
     "metadata": {},
     "output_type": "display_data"
    },
    {
     "name": "stdout",
     "output_type": "stream",
     "text": [
      "Patient Id:  6602 Patient Name:  Larry WILSON  Image ID:  ebe4ab991ab3c0551a697e34f5e83b36  Class Name:  Nodule/Mass\n"
     ]
    },
    {
     "data": {
      "application/vnd.jupyter.widget-view+json": {
       "model_id": "ccf1294518a644d0b2a50f7705a6f289",
       "version_major": 2,
       "version_minor": 0
      },
      "text/plain": [
       "HBox(children=(Image(value=b'\\xff\\xd8\\xff\\xe0\\x00\\x10JFIF\\x00\\x01\\x01\\x00\\x00\\x01\\x00\\x01\\x00\\x00\\xff\\xdb\\x00C…"
      ]
     },
     "metadata": {},
     "output_type": "display_data"
    },
    {
     "name": "stdout",
     "output_type": "stream",
     "text": [
      "Patient Id:  7017 Patient Name:  Gayle BROWN  Image ID:  0c5ff01c7bfb4362fcd98f36e555b08c  Class Name:  Nodule/Mass\n"
     ]
    },
    {
     "data": {
      "application/vnd.jupyter.widget-view+json": {
       "model_id": "a7643f767216431e881919a222a3d745",
       "version_major": 2,
       "version_minor": 0
      },
      "text/plain": [
       "HBox(children=(Image(value=b'\\xff\\xd8\\xff\\xe0\\x00\\x10JFIF\\x00\\x01\\x01\\x00\\x00\\x01\\x00\\x01\\x00\\x00\\xff\\xdb\\x00C…"
      ]
     },
     "metadata": {},
     "output_type": "display_data"
    },
    {
     "name": "stdout",
     "output_type": "stream",
     "text": [
      "Patient Id:  7075 Patient Name:  Jan JONES  Image ID:  f2e56bf4b304000674dde626b3335ca7  Class Name:  Nodule/Mass\n"
     ]
    },
    {
     "data": {
      "application/vnd.jupyter.widget-view+json": {
       "model_id": "54ad2dd0b6ca4f94a252b40df521a3a4",
       "version_major": 2,
       "version_minor": 0
      },
      "text/plain": [
       "HBox(children=(Image(value=b'\\xff\\xd8\\xff\\xe0\\x00\\x10JFIF\\x00\\x01\\x01\\x00\\x00\\x01\\x00\\x01\\x00\\x00\\xff\\xdb\\x00C…"
      ]
     },
     "metadata": {},
     "output_type": "display_data"
    },
    {
     "name": "stdout",
     "output_type": "stream",
     "text": [
      "Patient Id:  7158 Patient Name:  Mary WILLIAMS  Image ID:  b2df8e7f5070e86f339c3750a6568887  Class Name:  Nodule/Mass\n"
     ]
    },
    {
     "data": {
      "application/vnd.jupyter.widget-view+json": {
       "model_id": "cb41980a1fb74ad08f3bb434f67bcf67",
       "version_major": 2,
       "version_minor": 0
      },
      "text/plain": [
       "HBox(children=(Image(value=b'\\xff\\xd8\\xff\\xe0\\x00\\x10JFIF\\x00\\x01\\x01\\x00\\x00\\x01\\x00\\x01\\x00\\x00\\xff\\xdb\\x00C…"
      ]
     },
     "metadata": {},
     "output_type": "display_data"
    },
    {
     "name": "stdout",
     "output_type": "stream",
     "text": [
      "Patient Id:  7520 Patient Name:  Paula JONES  Image ID:  79bd8310bd57dfd23d33bfe5b3cc81d3  Class Name:  Nodule/Mass\n"
     ]
    },
    {
     "data": {
      "application/vnd.jupyter.widget-view+json": {
       "model_id": "db9e0f14e4fb42f29a46c297dd92dfeb",
       "version_major": 2,
       "version_minor": 0
      },
      "text/plain": [
       "HBox(children=(Image(value=b'\\xff\\xd8\\xff\\xe0\\x00\\x10JFIF\\x00\\x01\\x01\\x00\\x00\\x01\\x00\\x01\\x00\\x00\\xff\\xdb\\x00C…"
      ]
     },
     "metadata": {},
     "output_type": "display_data"
    },
    {
     "name": "stdout",
     "output_type": "stream",
     "text": [
      "Patient Id:  7807 Patient Name:  Billy JACKSON  Image ID:  9dc2037ca1424465db0c4fe2972767f0  Class Name:  Nodule/Mass\n"
     ]
    },
    {
     "data": {
      "application/vnd.jupyter.widget-view+json": {
       "model_id": "c0eaf91bdb4d4ec3a8f33b1605508ac6",
       "version_major": 2,
       "version_minor": 0
      },
      "text/plain": [
       "HBox(children=(Image(value=b'\\xff\\xd8\\xff\\xe0\\x00\\x10JFIF\\x00\\x01\\x01\\x00\\x00\\x01\\x00\\x01\\x00\\x00\\xff\\xdb\\x00C…"
      ]
     },
     "metadata": {},
     "output_type": "display_data"
    },
    {
     "name": "stdout",
     "output_type": "stream",
     "text": [
      "Patient Id:  8086 Patient Name:  Cynthia ROBINSON  Image ID:  c201c69926e59f0c1dfeeeb8365ff05a  Class Name:  Nodule/Mass\n"
     ]
    },
    {
     "data": {
      "application/vnd.jupyter.widget-view+json": {
       "model_id": "04ef47dd0aca4aa3ab2a0ebb03fb1427",
       "version_major": 2,
       "version_minor": 0
      },
      "text/plain": [
       "HBox(children=(Image(value=b'\\xff\\xd8\\xff\\xe0\\x00\\x10JFIF\\x00\\x01\\x01\\x00\\x00\\x01\\x00\\x01\\x00\\x00\\xff\\xdb\\x00C…"
      ]
     },
     "metadata": {},
     "output_type": "display_data"
    },
    {
     "name": "stdout",
     "output_type": "stream",
     "text": [
      "Patient Id:  8150 Patient Name:  Christina MARTIN  Image ID:  e312a8c1788a0b47d0ce8c1321a912f9  Class Name:  Nodule/Mass\n"
     ]
    },
    {
     "data": {
      "application/vnd.jupyter.widget-view+json": {
       "model_id": "d879a44fe2c1459998952b4c9e590045",
       "version_major": 2,
       "version_minor": 0
      },
      "text/plain": [
       "HBox(children=(Image(value=b'\\xff\\xd8\\xff\\xe0\\x00\\x10JFIF\\x00\\x01\\x01\\x00\\x00\\x01\\x00\\x01\\x00\\x00\\xff\\xdb\\x00C…"
      ]
     },
     "metadata": {},
     "output_type": "display_data"
    },
    {
     "name": "stdout",
     "output_type": "stream",
     "text": [
      "Patient Id:  8419 Patient Name:  William WILSON  Image ID:  7f96d122bf50434dcfd3dd9b16d2c05f  Class Name:  Nodule/Mass\n"
     ]
    },
    {
     "data": {
      "application/vnd.jupyter.widget-view+json": {
       "model_id": "a413e90861c54a3a8e4c455d62d63eef",
       "version_major": 2,
       "version_minor": 0
      },
      "text/plain": [
       "HBox(children=(Image(value=b'\\xff\\xd8\\xff\\xe0\\x00\\x10JFIF\\x00\\x01\\x01\\x00\\x00\\x01\\x00\\x01\\x00\\x00\\xff\\xdb\\x00C…"
      ]
     },
     "metadata": {},
     "output_type": "display_data"
    },
    {
     "name": "stdout",
     "output_type": "stream",
     "text": [
      "Patient Id:  8557 Patient Name:  Joyce MILLER  Image ID:  8649d84b0796e9deccdd4f6bd8d4e998  Class Name:  Nodule/Mass\n"
     ]
    },
    {
     "data": {
      "application/vnd.jupyter.widget-view+json": {
       "model_id": "98c5e3c7a1c7487fa0ce0c21895e584e",
       "version_major": 2,
       "version_minor": 0
      },
      "text/plain": [
       "HBox(children=(Image(value=b'\\xff\\xd8\\xff\\xe0\\x00\\x10JFIF\\x00\\x01\\x01\\x00\\x00\\x01\\x00\\x01\\x00\\x00\\xff\\xdb\\x00C…"
      ]
     },
     "metadata": {},
     "output_type": "display_data"
    },
    {
     "name": "stdout",
     "output_type": "stream",
     "text": [
      "Patient Id:  8588 Patient Name:  Douglas BROWN  Image ID:  0007d316f756b3fa0baea2ff514ce945  Class Name:  Nodule/Mass\n"
     ]
    },
    {
     "data": {
      "application/vnd.jupyter.widget-view+json": {
       "model_id": "929cb1b8a53b41c59a04ddffb4c7bfa3",
       "version_major": 2,
       "version_minor": 0
      },
      "text/plain": [
       "HBox(children=(Image(value=b'\\xff\\xd8\\xff\\xe0\\x00\\x10JFIF\\x00\\x01\\x01\\x00\\x00\\x01\\x00\\x01\\x00\\x00\\xff\\xdb\\x00C…"
      ]
     },
     "metadata": {},
     "output_type": "display_data"
    },
    {
     "name": "stdout",
     "output_type": "stream",
     "text": [
      "Patient Id:  9351 Patient Name:  Linda MARTINEZ  Image ID:  a4c53519d7af7aba7473d67f07afc21a  Class Name:  Nodule/Mass\n"
     ]
    },
    {
     "data": {
      "application/vnd.jupyter.widget-view+json": {
       "model_id": "8238c8274d444002899c626398c338dd",
       "version_major": 2,
       "version_minor": 0
      },
      "text/plain": [
       "HBox(children=(Image(value=b'\\xff\\xd8\\xff\\xe0\\x00\\x10JFIF\\x00\\x01\\x01\\x00\\x00\\x01\\x00\\x01\\x00\\x00\\xff\\xdb\\x00C…"
      ]
     },
     "metadata": {},
     "output_type": "display_data"
    },
    {
     "name": "stdout",
     "output_type": "stream",
     "text": [
      "Patient Id:  9381 Patient Name:  Donald LOPEZ  Image ID:  59615049fbc2df4b0aaeb3aca6648421  Class Name:  Nodule/Mass\n"
     ]
    },
    {
     "data": {
      "application/vnd.jupyter.widget-view+json": {
       "model_id": "109073bbc0e94c2ab5beedd6e1311b26",
       "version_major": 2,
       "version_minor": 0
      },
      "text/plain": [
       "HBox(children=(Image(value=b'\\xff\\xd8\\xff\\xe0\\x00\\x10JFIF\\x00\\x01\\x01\\x00\\x00\\x01\\x00\\x01\\x00\\x00\\xff\\xdb\\x00C…"
      ]
     },
     "metadata": {},
     "output_type": "display_data"
    },
    {
     "name": "stdout",
     "output_type": "stream",
     "text": [
      "Patient Id:  9512 Patient Name:  Margie JOHNSON  Image ID:  b872e348b0ba7c7259853c8312f9daa4  Class Name:  Nodule/Mass\n"
     ]
    },
    {
     "data": {
      "application/vnd.jupyter.widget-view+json": {
       "model_id": "fb7ec211575d4b50a2499820e156fb06",
       "version_major": 2,
       "version_minor": 0
      },
      "text/plain": [
       "HBox(children=(Image(value=b'\\xff\\xd8\\xff\\xe0\\x00\\x10JFIF\\x00\\x01\\x01\\x00\\x00\\x01\\x00\\x01\\x00\\x00\\xff\\xdb\\x00C…"
      ]
     },
     "metadata": {},
     "output_type": "display_data"
    },
    {
     "name": "stdout",
     "output_type": "stream",
     "text": [
      "Patient Id:  9523 Patient Name:  Patricia WHITE  Image ID:  9c9f556eea533f066368e0f4a452bee7  Class Name:  Nodule/Mass\n"
     ]
    },
    {
     "data": {
      "application/vnd.jupyter.widget-view+json": {
       "model_id": "838b27f3059941a68d8e95a343561799",
       "version_major": 2,
       "version_minor": 0
      },
      "text/plain": [
       "HBox(children=(Image(value=b'\\xff\\xd8\\xff\\xe0\\x00\\x10JFIF\\x00\\x01\\x01\\x00\\x00\\x01\\x00\\x01\\x00\\x00\\xff\\xdb\\x00C…"
      ]
     },
     "metadata": {},
     "output_type": "display_data"
    },
    {
     "name": "stdout",
     "output_type": "stream",
     "text": [
      "Patient Id:  9997 Patient Name:  Carolyn THOMAS  Image ID:  c0440c09698f89df168dc146af067fe7  Class Name:  Nodule/Mass\n"
     ]
    },
    {
     "data": {
      "application/vnd.jupyter.widget-view+json": {
       "model_id": "1df565596b1e4fea81f4dee65ddab90b",
       "version_major": 2,
       "version_minor": 0
      },
      "text/plain": [
       "HBox(children=(Image(value=b'\\xff\\xd8\\xff\\xe0\\x00\\x10JFIF\\x00\\x01\\x01\\x00\\x00\\x01\\x00\\x01\\x00\\x00\\xff\\xdb\\x00C…"
      ]
     },
     "metadata": {},
     "output_type": "display_data"
    },
    {
     "name": "stdout",
     "output_type": "stream",
     "text": [
      "CPU times: user 1.16 s, sys: 81.8 ms, total: 1.25 s\n",
      "Wall time: 1.34 s\n"
     ]
    }
   ],
   "source": [
    "%%time\n",
    "\n",
    "s2conn = pymysql.connect(\n",
    "    user='root',\n",
    "    password='Sglstrpw34',\n",
    "    host='172.31.62.112',\n",
    "    port=3306,\n",
    "    database='PatientRecords')\n",
    "\n",
    "mycursor = s2conn.cursor()\n",
    "\n",
    "sql =  \"\"\"\n",
    " SELECT \n",
    "    ih.PatientID\n",
    "    ,ih.file\n",
    "    ,ip2.ClassName \n",
    "    ,pi.FirstName\n",
    "    ,pi.LastName\n",
    "    ,jpg.Image\n",
    "    ,jpg.PredictionImage\n",
    "from (\n",
    "    select\n",
    "        file\n",
    "        ,ClassID\n",
    "        ,ClassName\n",
    "        ,count(*) ClassCount\n",
    "    from\n",
    "        ImagePredictions ip\n",
    "    where\n",
    "        ip.ClassName = 'Nodule/Mass'\n",
    "    group by\n",
    "        file\n",
    "        ,ClassID\n",
    "        ,ClassName\n",
    "    having count(*) > 3\n",
    ") ip2\n",
    "join ImageHeader ih on\n",
    "    ip2.file = ih.file\n",
    "join PatientInfo2 pi on\n",
    "    pi.PatientID = ih.PatientID\n",
    "join Images.JPGImages jpg on\n",
    "    jpg.file = ih.file\n",
    "\n",
    "order by \n",
    "    ih.PatientID, \n",
    "    ih.file; \n",
    "\"\"\"\n",
    "\n",
    "mycursor.execute(sql)\n",
    "print(mycursor.rowcount, \"images selected.\\n\")\n",
    "\n",
    "record = mycursor.fetchall()\n",
    "for row in record:\n",
    "    print(\"Patient Id: \", row[0], \"Patient Name: \", row[3], row[4],\" Image ID: \", row[1] , \" Class Name: \", row[2])\n",
    "    image = widgets.Image(value=row[5], format='jpg', width=512, height=640)\n",
    "    PredictionImage = widgets.Image(value=row[6], format='jpg', width=512, height=640) \n",
    "    a=[image,PredictionImage]\n",
    "    wid=widgets.HBox(a)\n",
    "    display.display(wid)\n",
    "    \n",
    "mycursor.close()\n",
    "s2conn.close()"
   ]
  },
  {
   "cell_type": "markdown",
   "id": "e860f54a-e63d-400e-aca9-19189703eb9c",
   "metadata": {},
   "source": [
    "# Looking for concentrated Nodule/Mass - Using prediction locations"
   ]
  },
  {
   "cell_type": "code",
   "execution_count": 6,
   "id": "f07bb243-c120-423a-92ed-863bf54caf40",
   "metadata": {
    "tags": []
   },
   "outputs": [
    {
     "name": "stdout",
     "output_type": "stream",
     "text": [
      "2 images selected.\n",
      "\n",
      "Patient Id:  9373 Patient Name:  Gladys MARTIN  Image ID:  8a67f8e2673ceb7004824904b6e72055  Class Name:  Nodule/Mass  Distance:  293.8468989116611  Vector Points:  [1505,1139] [1730,1328]\n"
     ]
    },
    {
     "data": {
      "application/vnd.jupyter.widget-view+json": {
       "model_id": "2e2dd5696bf2499bb9a7c312e186e0f9",
       "version_major": 2,
       "version_minor": 0
      },
      "text/plain": [
       "HBox(children=(Image(value=b'\\xff\\xd8\\xff\\xe0\\x00\\x10JFIF\\x00\\x01\\x01\\x00\\x00\\x01\\x00\\x01\\x00\\x00\\xff\\xdb\\x00C…"
      ]
     },
     "metadata": {},
     "output_type": "display_data"
    },
    {
     "name": "stdout",
     "output_type": "stream",
     "text": [
      "Patient Id:  9454 Patient Name:  William WILSON  Image ID:  52c85584532b1c23d447ab91ac1787ef  Class Name:  Nodule/Mass  Distance:  350.59520818174343  Vector Points:  [2224,2127] [2415,2421]\n"
     ]
    },
    {
     "data": {
      "application/vnd.jupyter.widget-view+json": {
       "model_id": "79573be7554e4f81ae9b423a7e9e7224",
       "version_major": 2,
       "version_minor": 0
      },
      "text/plain": [
       "HBox(children=(Image(value=b'\\xff\\xd8\\xff\\xe0\\x00\\x10JFIF\\x00\\x01\\x01\\x00\\x00\\x01\\x00\\x01\\x00\\x00\\xff\\xdb\\x00C…"
      ]
     },
     "metadata": {},
     "output_type": "display_data"
    },
    {
     "name": "stdout",
     "output_type": "stream",
     "text": [
      "CPU times: user 53.2 ms, sys: 369 µs, total: 53.6 ms\n",
      "Wall time: 120 ms\n"
     ]
    }
   ],
   "source": [
    "%%time\n",
    "# Cluster analysis\n",
    "\n",
    "s2conn = pymysql.connect(\n",
    "    user='root',\n",
    "    password='Sglstrpw34',\n",
    "    host='172.31.62.112',\n",
    "    port=3306,\n",
    "    database='PatientRecords')\n",
    "\n",
    "mycursor = s2conn.cursor()\n",
    "\n",
    "sql =  \"\"\"\n",
    " SELECT \n",
    "    ih.PatientID\n",
    "    ,ih.file\n",
    "    ,ip2.ClassName \n",
    "    ,pi.FirstName\n",
    "    ,pi.LastName\n",
    "    ,json_array_unpack(ip2.MinVector) MinVector\n",
    "    ,json_array_unpack(ip2.MaxVector) MaxVector\n",
    "    ,ip2.Distance\n",
    "    ,jpg.Image\n",
    "    ,jpg.PredictionImage\n",
    "from (\n",
    "    select\n",
    "        file\n",
    "        ,ClassID\n",
    "        ,ClassName\n",
    "        ,min(MinDicomVector) MinVector\n",
    "        ,max(MaxDicomVector) MaxVector\n",
    "        ,EUCLIDEAN_DISTANCE(min(MinDicomVector), max(MaxDicomVector)) Distance\n",
    "        ,count(*) ClassCount\n",
    "    from\n",
    "        ImagePredictions ip\n",
    "    where\n",
    "        ip.ClassName = 'Nodule/Mass'\n",
    "    group by\n",
    "        file\n",
    "        ,ClassID\n",
    "        ,ClassName\n",
    "    having count(*) > 1 \n",
    "        -- and Distance > 2500\n",
    "        and Distance < 400\n",
    ") ip2\n",
    "join ImageHeader ih on\n",
    "    ip2.file = ih.file\n",
    "join PatientInfo2 pi on\n",
    "    pi.PatientID = ih.PatientID\n",
    "join Images.JPGImages jpg on\n",
    "    jpg.file = ih.file\n",
    "order by \n",
    "    ih.PatientID, \n",
    "    ih.file; \n",
    "\"\"\"\n",
    "\n",
    "mycursor.execute(sql)\n",
    "print(mycursor.rowcount, \"images selected.\\n\")\n",
    "\n",
    "record = mycursor.fetchall()\n",
    "for row in record:\n",
    "    print(\"Patient Id: \", row[0], \"Patient Name: \", row[3], row[4],\" Image ID: \", row[1] , \" Class Name: \", row[2],\" Distance: \", row[7] , \" Vector Points: \", row[5], row[6])\n",
    "    image = widgets.Image(value=row[8], format='jpg', width=512, height=640)\n",
    "    PredictionImage = widgets.Image(value=row[9], format='jpg', width=512, height=640) \n",
    "    a=[image,PredictionImage]\n",
    "    wid=widgets.HBox(a)\n",
    "    display.display(wid)\n",
    "    \n",
    "mycursor.close()\n",
    "s2conn.close()"
   ]
  },
  {
   "cell_type": "markdown",
   "id": "96bf0957-7523-4b25-9c14-3e309aed4869",
   "metadata": {},
   "source": [
    "# SingleStore Studio Query Tool"
   ]
  },
  {
   "cell_type": "code",
   "execution_count": null,
   "id": "6f7f28d8-8216-46bc-83fc-9d906e09e9c2",
   "metadata": {},
   "outputs": [],
   "source": []
  }
 ],
 "metadata": {
  "kernelspec": {
   "display_name": "Environment (conda_pytorch_p37)",
   "language": "python",
   "name": "conda_pytorch_p37"
  },
  "language_info": {
   "codemirror_mode": {
    "name": "ipython",
    "version": 3
   },
   "file_extension": ".py",
   "mimetype": "text/x-python",
   "name": "python",
   "nbconvert_exporter": "python",
   "pygments_lexer": "ipython3",
   "version": "3.7.10"
  }
 },
 "nbformat": 4,
 "nbformat_minor": 5
}
